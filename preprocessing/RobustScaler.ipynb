{
  "nbformat": 4,
  "nbformat_minor": 0,
  "metadata": {
    "colab": {
      "name": "Untitled47.ipynb",
      "provenance": []
    },
    "kernelspec": {
      "name": "python3",
      "display_name": "Python 3"
    },
    "language_info": {
      "name": "python"
    }
  },
  "cells": [
    {
      "cell_type": "markdown",
      "metadata": {
        "id": "czrDQImXpouL"
      },
      "source": [
        "**RobustScaler**\n",
        "  * transforms feature vector by\n",
        "subtracting the median and then dividing by\n",
        "interquartile range(75%value-25% value)\n",
        "  * Helpful for reducing effect outliers\n",
        "\n",
        "*Formula*\n",
        " - subtracts median value in feature and then divide by the\n",
        "range(original 75%-25%)\n",
        "\n",
        "[RobustScaler](https://scikit-learn.org/stable/modules/preprocessing.html#preprocessing)"
      ]
    },
    {
      "cell_type": "code",
      "metadata": {
        "id": "9h1Z5W9_p5og"
      },
      "source": [
        "import numpy as np\n",
        "from sklearn.preprocessing import RobustScaler"
      ],
      "execution_count": 28,
      "outputs": []
    },
    {
      "cell_type": "code",
      "metadata": {
        "id": "_PYSjlLPqH7u"
      },
      "source": [
        "X_train = np.array([[ 1., -1.,  2.],\n",
        "                    [ 2.,  0.,  0.],\n",
        "                    [ 0.,  1., -1.]])\n",
        "robust_scaler = RobustScaler()\n",
        "X_train_robust = robust_scaler.fit_transform(X_train)"
      ],
      "execution_count": 29,
      "outputs": []
    },
    {
      "cell_type": "code",
      "metadata": {
        "colab": {
          "base_uri": "https://localhost:8080/"
        },
        "id": "YVIvP_-Cqb7b",
        "outputId": "3fc1c28a-8815-4e9a-8818-6ee9e2944fec"
      },
      "source": [
        "X_train_robust"
      ],
      "execution_count": 30,
      "outputs": [
        {
          "output_type": "execute_result",
          "data": {
            "text/plain": [
              "array([[ 0.        , -1.        ,  1.33333333],\n",
              "       [ 1.        ,  0.        ,  0.        ],\n",
              "       [-1.        ,  1.        , -0.66666667]])"
            ]
          },
          "metadata": {
            "tags": []
          },
          "execution_count": 30
        }
      ]
    },
    {
      "cell_type": "code",
      "metadata": {
        "id": "RDigY271xb0P",
        "outputId": "bce03658-4ea8-4a41-a12b-5ced2be0a95f",
        "colab": {
          "base_uri": "https://localhost:8080/"
        }
      },
      "source": [
        "#manual step\n",
        "# compute the median value per feature on training set\n",
        "median_on_training = np.median(X_train, axis=0)\n",
        "# percentile range (75%-25%)\n",
        "percentile_range = np.percentile(X_train, 75, axis=0) - np.percentile(X_train, 25, axis=0)\n",
        "(X_train - median_on_training)/percentile_range"
      ],
      "execution_count": 41,
      "outputs": [
        {
          "output_type": "execute_result",
          "data": {
            "text/plain": [
              "array([[ 0.        , -1.        ,  1.33333333],\n",
              "       [ 1.        ,  0.        ,  0.        ],\n",
              "       [-1.        ,  1.        , -0.66666667]])"
            ]
          },
          "metadata": {
            "tags": []
          },
          "execution_count": 41
        }
      ]
    }
  ]
}
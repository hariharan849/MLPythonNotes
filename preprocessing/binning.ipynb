{
  "nbformat": 4,
  "nbformat_minor": 0,
  "metadata": {
    "colab": {
      "name": "Untitled48.ipynb",
      "provenance": []
    },
    "kernelspec": {
      "name": "python3",
      "display_name": "Python 3"
    },
    "language_info": {
      "name": "python"
    }
  },
  "cells": [
    {
      "cell_type": "markdown",
      "metadata": {
        "id": "CiMFG2N00bX1"
      },
      "source": [
        "**Binning**"
      ]
    },
    {
      "cell_type": "code",
      "metadata": {
        "colab": {
          "base_uri": "https://localhost:8080/"
        },
        "id": "gOxTjvHK0gbx",
        "outputId": "baa1eb27-44c6-41fe-e4af-0897d31855e1"
      },
      "source": [
        "import numpy as np\n",
        "age = np.array([[6],\n",
        "  [12],\n",
        "  [20],\n",
        "  [36],\n",
        "  [65]]\n",
        ")\n",
        "np.digitize(age, bins=[20,30,64])"
      ],
      "execution_count": 1,
      "outputs": [
        {
          "output_type": "execute_result",
          "data": {
            "text/plain": [
              "array([[0],\n",
              "       [0],\n",
              "       [1],\n",
              "       [2],\n",
              "       [3]])"
            ]
          },
          "metadata": {
            "tags": []
          },
          "execution_count": 1
        }
      ]
    }
  ]
}
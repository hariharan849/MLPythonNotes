{
  "nbformat": 4,
  "nbformat_minor": 0,
  "metadata": {
    "colab": {
      "name": "Untitled50.ipynb",
      "provenance": []
    },
    "kernelspec": {
      "name": "python3",
      "display_name": "Python 3"
    },
    "language_info": {
      "name": "python"
    }
  },
  "cells": [
    {
      "cell_type": "markdown",
      "metadata": {
        "id": "5R_AwSEGmV4R"
      },
      "source": [
        "**MultiLabelBinarizer**\n",
        "  * Transform between iterable of iterables"
      ]
    },
    {
      "cell_type": "code",
      "metadata": {
        "id": "Ri-VHRZ8mae3"
      },
      "source": [
        "from sklearn.preprocessing import MultiLabelBinarizer"
      ],
      "execution_count": 1,
      "outputs": []
    },
    {
      "cell_type": "code",
      "metadata": {
        "colab": {
          "base_uri": "https://localhost:8080/"
        },
        "id": "at5BLq9RmjNq",
        "outputId": "42ee0b4a-0329-4787-d76c-5519a2b525a4"
      },
      "source": [
        "multiclass_feature = [\n",
        "    (\"Texas\", \"Florida\"),\n",
        "    (\"Florida\", \"Alabama\"),\n",
        "    (\"Texas\", \"Florida\"),\n",
        "    (\"Delware\", \"Florida\"),\n",
        "    (\"Texas\", \"Alabama\"),\n",
        "]\n",
        "one_hot = MultiLabelBinarizer()\n",
        "one_hot.fit_transform(multiclass_feature)"
      ],
      "execution_count": 3,
      "outputs": [
        {
          "output_type": "execute_result",
          "data": {
            "text/plain": [
              "array([[0, 0, 1, 1],\n",
              "       [1, 0, 1, 0],\n",
              "       [0, 0, 1, 1],\n",
              "       [0, 1, 1, 0],\n",
              "       [1, 0, 0, 1]])"
            ]
          },
          "metadata": {
            "tags": []
          },
          "execution_count": 3
        }
      ]
    },
    {
      "cell_type": "code",
      "metadata": {
        "id": "XgcNvK1snShh",
        "outputId": "ba559409-ece3-453e-a767-53c34a3ef190",
        "colab": {
          "base_uri": "https://localhost:8080/"
        }
      },
      "source": [
        "one_hot.classes_"
      ],
      "execution_count": 4,
      "outputs": [
        {
          "output_type": "execute_result",
          "data": {
            "text/plain": [
              "array(['Alabama', 'Delware', 'Florida', 'Texas'], dtype=object)"
            ]
          },
          "metadata": {
            "tags": []
          },
          "execution_count": 4
        }
      ]
    }
  ]
}
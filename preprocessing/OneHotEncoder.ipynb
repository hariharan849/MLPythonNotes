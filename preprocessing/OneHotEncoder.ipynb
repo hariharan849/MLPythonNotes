{
  "nbformat": 4,
  "nbformat_minor": 0,
  "metadata": {
    "colab": {
      "name": "Untitled47.ipynb",
      "provenance": []
    },
    "kernelspec": {
      "name": "python3",
      "display_name": "Python 3"
    },
    "language_info": {
      "name": "python"
    }
  },
  "cells": [
    {
      "cell_type": "markdown",
      "metadata": {
        "id": "czrDQImXpouL"
      },
      "source": [
        "**OneHotEncoder**\n",
        "  * Encode categorical features as a one-hot numeric array.\n",
        "\n",
        "[OneHotEncoder](https://scikit-learn.org/stable/modules/preprocessing.html#preprocessing)"
      ]
    },
    {
      "cell_type": "code",
      "metadata": {
        "id": "9h1Z5W9_p5og"
      },
      "source": [
        "import numpy as np\n",
        "from sklearn.preprocessing import OneHotEncoder"
      ],
      "execution_count": 63,
      "outputs": []
    },
    {
      "cell_type": "code",
      "metadata": {
        "colab": {
          "base_uri": "https://localhost:8080/"
        },
        "id": "eLHt5Fhz6yap",
        "outputId": "a9295f38-9259-4a55-ffe1-dee0e76e1ce6"
      },
      "source": [
        "X = [['male', 'from US', 'uses Safari'], ['female', 'from Europe', 'uses Firefox']]\n",
        "OneHotEncoder(handle_unknown='ignore').fit_transform(X).toarray()"
      ],
      "execution_count": 71,
      "outputs": [
        {
          "output_type": "execute_result",
          "data": {
            "text/plain": [
              "array([[0., 1., 0., 1., 0., 1.],\n",
              "       [1., 0., 1., 0., 1., 0.]])"
            ]
          },
          "metadata": {
            "tags": []
          },
          "execution_count": 71
        }
      ]
    }
  ]
}
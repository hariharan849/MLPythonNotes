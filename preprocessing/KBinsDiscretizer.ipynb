{
  "nbformat": 4,
  "nbformat_minor": 0,
  "metadata": {
    "colab": {
      "name": "Untitled47.ipynb",
      "provenance": []
    },
    "kernelspec": {
      "display_name": "Python 3",
      "name": "python3"
    },
    "language_info": {
      "name": "python"
    }
  },
  "cells": [
    {
      "cell_type": "markdown",
      "metadata": {
        "id": "czrDQImXpouL"
      },
      "source": [
        "**K-bins discretization**\n",
        "  * partition continuous features into discrete values with only nominal attributes\n",
        "\n",
        "\n",
        "[K-bins discretization](https://scikit-learn.org/stable/modules/preprocessing.html#preprocessing)"
      ]
    },
    {
      "cell_type": "code",
      "metadata": {
        "id": "9h1Z5W9_p5og"
      },
      "source": [
        "import numpy as np\n",
        "from sklearn.preprocessing import KBinsDiscretizer"
      ],
      "execution_count": 8,
      "outputs": []
    },
    {
      "cell_type": "code",
      "metadata": {
        "id": "_PYSjlLPqH7u"
      },
      "source": [
        "X = np.array([[ -3., 5., 15 ],\n",
        "              [  0., 6., 14 ],\n",
        "              [  6., 3., 11 ]])\n",
        "est = KBinsDiscretizer(n_bins=[3, 2, 2], encode='ordinal').fit_transform(X)\n"
      ],
      "execution_count": 9,
      "outputs": []
    },
    {
      "cell_type": "code",
      "metadata": {
        "id": "DFYV2kFiX80N",
        "outputId": "5c3d5528-143e-4003-f980-d8a12e1697ab",
        "colab": {
          "base_uri": "https://localhost:8080/"
        }
      },
      "source": [
        "est"
      ],
      "execution_count": 10,
      "outputs": [
        {
          "output_type": "execute_result",
          "data": {
            "text/plain": [
              "array([[0., 1., 1.],\n",
              "       [1., 1., 1.],\n",
              "       [2., 0., 0.]])"
            ]
          },
          "metadata": {
            "tags": []
          },
          "execution_count": 10
        }
      ]
    }
  ]
}
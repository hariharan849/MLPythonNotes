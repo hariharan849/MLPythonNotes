{
  "nbformat": 4,
  "nbformat_minor": 0,
  "metadata": {
    "colab": {
      "name": "Untitled46.ipynb",
      "provenance": []
    },
    "kernelspec": {
      "name": "python3",
      "display_name": "Python 3"
    },
    "language_info": {
      "name": "python"
    }
  },
  "cells": [
    {
      "cell_type": "markdown",
      "metadata": {
        "id": "Wx7PKJiJidBF"
      },
      "source": [
        "**Standard Scaler**\n",
        "  * transforms gaussian distributed data of differing\n",
        "mean and standard deviations to standard gaussian\n",
        "distributed data with mean of 0 and standard deviations 1\n",
        "  * linear and logistic regression and \n",
        " linear discriminant analysis and support vector machines, assumes all features are centered around zero and have same variance\n",
        "\n",
        "*Parameters to control*\n",
        "with_mean=False, with_std=False\n",
        "\n",
        "[standardscaler](https://scikit-learn.org/stable/modules/preprocessing.html#preprocessing)"
      ]
    },
    {
      "cell_type": "code",
      "metadata": {
        "id": "imImbmgplv67"
      },
      "source": [
        "from sklearn.preprocessing import StandardScaler\n",
        "import numpy as np"
      ],
      "execution_count": 1,
      "outputs": []
    },
    {
      "cell_type": "code",
      "metadata": {
        "id": "IhOGj5mTl3qH"
      },
      "source": [
        "X_train = np.array([[ 1., -1.,  2.],\n",
        "                     [ 2.,  0.,  0.],\n",
        "                     [ 0.,  1., -1.]])\n",
        "scaler = StandardScaler().fit(X_train)"
      ],
      "execution_count": 6,
      "outputs": []
    },
    {
      "cell_type": "code",
      "metadata": {
        "colab": {
          "base_uri": "https://localhost:8080/"
        },
        "id": "TbuZ1kY0mIy6",
        "outputId": "a7b03e35-6354-4e42-8abe-120174a6d694"
      },
      "source": [
        "scaler.mean_"
      ],
      "execution_count": 7,
      "outputs": [
        {
          "output_type": "execute_result",
          "data": {
            "text/plain": [
              "array([1.        , 0.        , 0.33333333])"
            ]
          },
          "metadata": {
            "tags": []
          },
          "execution_count": 7
        }
      ]
    },
    {
      "cell_type": "code",
      "metadata": {
        "colab": {
          "base_uri": "https://localhost:8080/"
        },
        "id": "aDVp0EY8mK7e",
        "outputId": "14cdea7a-491e-435d-d57b-0cbe6dd71a3e"
      },
      "source": [
        "scaler.scale_"
      ],
      "execution_count": 8,
      "outputs": [
        {
          "output_type": "execute_result",
          "data": {
            "text/plain": [
              "array([0.81649658, 0.81649658, 1.24721913])"
            ]
          },
          "metadata": {
            "tags": []
          },
          "execution_count": 8
        }
      ]
    },
    {
      "cell_type": "code",
      "metadata": {
        "id": "W4-Uncuhmj5S"
      },
      "source": [
        "X_scaled = scaler.transform(X_train)"
      ],
      "execution_count": 9,
      "outputs": []
    },
    {
      "cell_type": "code",
      "metadata": {
        "colab": {
          "base_uri": "https://localhost:8080/"
        },
        "id": "hwR1AD1fmpVU",
        "outputId": "93f66442-006f-4616-ed6f-89faaed302b1"
      },
      "source": [
        "X_scaled.mean(axis=0)"
      ],
      "execution_count": 10,
      "outputs": [
        {
          "output_type": "execute_result",
          "data": {
            "text/plain": [
              "array([0., 0., 0.])"
            ]
          },
          "metadata": {
            "tags": []
          },
          "execution_count": 10
        }
      ]
    },
    {
      "cell_type": "code",
      "metadata": {
        "colab": {
          "base_uri": "https://localhost:8080/"
        },
        "id": "7S7FL14Fmsap",
        "outputId": "5ec63a4e-75ce-4962-d63a-c3bf84f27119"
      },
      "source": [
        "X_scaled.std(axis=0)"
      ],
      "execution_count": 12,
      "outputs": [
        {
          "output_type": "execute_result",
          "data": {
            "text/plain": [
              "array([1., 1., 1.])"
            ]
          },
          "metadata": {
            "tags": []
          },
          "execution_count": 12
        }
      ]
    },
    {
      "cell_type": "code",
      "metadata": {
        "id": "6vZZAYGunS1j"
      },
      "source": [
        "#manual step\n",
        "# compute the mean value per feature on training set\n",
        "mean_on_training = X_train.mean(axis=0)\n",
        "#compute the std value per feature on training set\n",
        "std_on_training = X_train.std(axis=0)"
      ],
      "execution_count": 13,
      "outputs": []
    },
    {
      "cell_type": "code",
      "metadata": {
        "id": "U343OopnnWvS"
      },
      "source": [
        "#subtract mean and scale by inverse standard deviation afterward\n",
        "# mean=0, std=1\n",
        "X_train_scaled = (X_train-mean_on_training)/std_on_training"
      ],
      "execution_count": 14,
      "outputs": []
    },
    {
      "cell_type": "code",
      "metadata": {
        "colab": {
          "base_uri": "https://localhost:8080/"
        },
        "id": "ryLoAs6enX13",
        "outputId": "8c4a26ef-9e56-4f98-b4a2-5bef9af6b8cb"
      },
      "source": [
        "X_train_scaled"
      ],
      "execution_count": 15,
      "outputs": [
        {
          "output_type": "execute_result",
          "data": {
            "text/plain": [
              "array([[ 0.        , -1.22474487,  1.33630621],\n",
              "       [ 1.22474487,  0.        , -0.26726124],\n",
              "       [-1.22474487,  1.22474487, -1.06904497]])"
            ]
          },
          "metadata": {
            "tags": []
          },
          "execution_count": 15
        }
      ]
    },
    {
      "cell_type": "code",
      "metadata": {
        "id": "1C1SoVDunZ8Y",
        "outputId": "057276f4-7130-4adc-e2cf-e5afcdf942cb",
        "colab": {
          "base_uri": "https://localhost:8080/"
        }
      },
      "source": [
        "X_train_scaled.mean(axis=0)"
      ],
      "execution_count": 16,
      "outputs": [
        {
          "output_type": "execute_result",
          "data": {
            "text/plain": [
              "array([0., 0., 0.])"
            ]
          },
          "metadata": {
            "tags": []
          },
          "execution_count": 16
        }
      ]
    },
    {
      "cell_type": "code",
      "metadata": {
        "id": "ffGnwDv8ndAq",
        "outputId": "3577a7af-7cd7-4a2d-e8f4-38c4cb574f6a",
        "colab": {
          "base_uri": "https://localhost:8080/"
        }
      },
      "source": [
        "X_train_scaled.std(axis=0)"
      ],
      "execution_count": 17,
      "outputs": [
        {
          "output_type": "execute_result",
          "data": {
            "text/plain": [
              "array([1., 1., 1.])"
            ]
          },
          "metadata": {
            "tags": []
          },
          "execution_count": 17
        }
      ]
    }
  ]
}
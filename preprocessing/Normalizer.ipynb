{
  "nbformat": 4,
  "nbformat_minor": 0,
  "metadata": {
    "colab": {
      "name": "Untitled47.ipynb",
      "provenance": []
    },
    "kernelspec": {
      "name": "python3",
      "display_name": "Python 3"
    },
    "language_info": {
      "name": "python"
    }
  },
  "cells": [
    {
      "cell_type": "markdown",
      "metadata": {
        "id": "czrDQImXpouL"
      },
      "source": [
        "**Normalization**\n",
        "  * scaling individual samples to have unit norm\n",
        "  * works on rows not columns\n",
        "  * Default is L2 normalization \n",
        "          if each element are squared and summed, total will be 1\n",
        "\n",
        "```\n",
        "x = [[4, 1, 2, 2]]\n",
        "#after normalizer\n",
        "x = [[0.8, 0.2, 0.4, 0.4]]\n",
        "```\n",
        "0.8*0.8+0.2*0.2+0.4*0.4+0.4*0.4 = 1\n",
        "\n",
        "useful for sparse dataset(with lot of zeros)\n",
        "\n",
        "[Normalizer](https://scikit-learn.org/stable/modules/preprocessing.html#preprocessing)"
      ]
    },
    {
      "cell_type": "code",
      "metadata": {
        "id": "9h1Z5W9_p5og"
      },
      "source": [
        "import numpy as np\n",
        "from sklearn.preprocessing import Normalizer"
      ],
      "execution_count": 48,
      "outputs": []
    },
    {
      "cell_type": "code",
      "metadata": {
        "id": "_PYSjlLPqH7u"
      },
      "source": [
        "X_train = np.array([[ 1., -1.,  2.],\n",
        "                    [ 2.,  0.,  0.],\n",
        "                    [ 0.,  1., -1.]])\n",
        "normalizer = Normalizer()\n",
        "X_train_nor = normalizer.fit_transform(X_train)"
      ],
      "execution_count": 49,
      "outputs": []
    },
    {
      "cell_type": "code",
      "metadata": {
        "colab": {
          "base_uri": "https://localhost:8080/"
        },
        "id": "YVIvP_-Cqb7b",
        "outputId": "d532ab53-e726-4309-ecd0-0824c8a86c0d"
      },
      "source": [
        "X_train_nor"
      ],
      "execution_count": 50,
      "outputs": [
        {
          "output_type": "execute_result",
          "data": {
            "text/plain": [
              "array([[ 0.40824829, -0.40824829,  0.81649658],\n",
              "       [ 1.        ,  0.        ,  0.        ],\n",
              "       [ 0.        ,  0.70710678, -0.70710678]])"
            ]
          },
          "metadata": {
            "tags": []
          },
          "execution_count": 50
        }
      ]
    }
  ]
}
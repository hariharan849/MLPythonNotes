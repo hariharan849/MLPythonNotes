{
  "nbformat": 4,
  "nbformat_minor": 0,
  "metadata": {
    "colab": {
      "name": "Untitled47.ipynb",
      "provenance": [],
      "collapsed_sections": []
    },
    "kernelspec": {
      "display_name": "Python 3",
      "name": "python3"
    },
    "language_info": {
      "name": "python"
    }
  },
  "cells": [
    {
      "cell_type": "markdown",
      "metadata": {
        "id": "czrDQImXpouL"
      },
      "source": [
        "**PowerTransformer**\n",
        "  * map the data to a uniform distribution with values between 0 and 1\n",
        "\n",
        "\n",
        "\n",
        "[PowerTransformer](https://scikit-learn.org/stable/modules/preprocessing.html#preprocessing)"
      ]
    },
    {
      "cell_type": "code",
      "metadata": {
        "id": "9h1Z5W9_p5og"
      },
      "source": [
        "from sklearn.datasets import load_iris\n",
        "from sklearn.preprocessing import PowerTransformer"
      ],
      "execution_count": 16,
      "outputs": []
    },
    {
      "cell_type": "code",
      "metadata": {
        "colab": {
          "base_uri": "https://localhost:8080/"
        },
        "id": "zUL_m0S-bJR_",
        "outputId": "4355ca2b-3ac2-4e37-effc-b061ae2734fa"
      },
      "source": [
        "PowerTransformer(method='box-cox', standardize=False)\n",
        "X_lognormal = np.random.RandomState(616).lognormal(size=(3, 3))\n",
        "X_lognormal"
      ],
      "execution_count": 17,
      "outputs": [
        {
          "output_type": "execute_result",
          "data": {
            "text/plain": [
              "array([[1.28331718, 1.18092228, 0.84160269],\n",
              "       [0.94293279, 1.60960836, 0.3879099 ],\n",
              "       [1.35235668, 0.21715673, 1.09977091]])"
            ]
          },
          "metadata": {
            "tags": []
          },
          "execution_count": 17
        }
      ]
    }
  ]
}
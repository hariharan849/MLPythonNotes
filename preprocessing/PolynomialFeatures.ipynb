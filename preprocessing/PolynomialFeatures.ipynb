{
  "nbformat": 4,
  "nbformat_minor": 0,
  "metadata": {
    "colab": {
      "name": "PolynomialFeatures.ipynb",
      "provenance": []
    },
    "kernelspec": {
      "display_name": "Python 3",
      "name": "python3"
    },
    "language_info": {
      "name": "python"
    }
  },
  "cells": [
    {
      "cell_type": "markdown",
      "metadata": {
        "id": "czrDQImXpouL"
      },
      "source": [
        "**PolynomialFeatures**\n",
        "  *  nonlinear features are converted to add more complexity to model\n",
        "\n",
        "*Formula*\n",
        " - (X1, X2) -> (1, X1, X2, x1 ** 2, x1x2, x2 ** 2)\n",
        "\n",
        "[PolynomialFeatures](https://scikit-learn.org/stable/modules/preprocessing.html#preprocessing)"
      ]
    },
    {
      "cell_type": "code",
      "metadata": {
        "id": "9h1Z5W9_p5og"
      },
      "source": [
        "import numpy as np\n",
        "from sklearn.preprocessing import PolynomialFeatures"
      ],
      "execution_count": null,
      "outputs": []
    },
    {
      "cell_type": "code",
      "metadata": {
        "id": "_PYSjlLPqH7u"
      },
      "source": [
        "X = np.arange(1, 7).reshape(3, 2)\n",
        "poly = PolynomialFeatures(2)\n",
        "X_train_poly = poly.fit_transform(X)"
      ],
      "execution_count": null,
      "outputs": []
    },
    {
      "cell_type": "code",
      "metadata": {
        "colab": {
          "base_uri": "https://localhost:8080/"
        },
        "id": "YVIvP_-Cqb7b",
        "outputId": "c02d12b3-8eb2-4727-b84c-95286ce9b2c5"
      },
      "source": [
        "X_train_poly"
      ],
      "execution_count": null,
      "outputs": [
        {
          "output_type": "execute_result",
          "data": {
            "text/plain": [
              "array([[ 1.,  1.,  2.,  1.,  2.,  4.],\n",
              "       [ 1.,  3.,  4.,  9., 12., 16.],\n",
              "       [ 1.,  5.,  6., 25., 30., 36.]])"
            ]
          },
          "metadata": {
            "tags": []
          },
          "execution_count": 4
        }
      ]
    },
    {
      "cell_type": "code",
      "metadata": {
        "id": "3bHeBQI_UsA8",
        "colab": {
          "base_uri": "https://localhost:8080/"
        },
        "outputId": "22512ca5-6b65-4066-8354-b8bc4e6d67fb"
      },
      "source": [
        "X"
      ],
      "execution_count": null,
      "outputs": [
        {
          "output_type": "execute_result",
          "data": {
            "text/plain": [
              "array([[1, 2],\n",
              "       [3, 4],\n",
              "       [5, 6]])"
            ]
          },
          "metadata": {
            "tags": []
          },
          "execution_count": 5
        }
      ]
    },
    {
      "cell_type": "code",
      "metadata": {
        "id": "zxhHpZBY0CZI"
      },
      "source": [
        "poly = PolynomialFeatures(degree=2, include_bias=False)\n",
        "X_train_poly = poly.fit_transform(X)"
      ],
      "execution_count": null,
      "outputs": []
    }
  ]
}
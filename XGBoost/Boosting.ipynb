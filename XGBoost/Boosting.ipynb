{
  "nbformat": 4,
  "nbformat_minor": 0,
  "metadata": {
    "colab": {
      "name": "Untitled74.ipynb",
      "provenance": []
    },
    "kernelspec": {
      "name": "python3",
      "display_name": "Python 3"
    },
    "language_info": {
      "name": "python"
    }
  },
  "cells": [
    {
      "cell_type": "markdown",
      "metadata": {
        "id": "uZlxf5t6wBvX"
      },
      "source": [
        "***Gradient boosting***\n",
        "\n",
        "1.   Loss function to be optimized\n",
        "2.   Week learner to make predictions\n",
        "*  Decision trees are used as weak learner. Trees are constructed in greedy manner choosing best splits based on scores like `gini` or `entropy`\n",
        "\n",
        "3.   Additive model\n",
        "* trees are added one at a timeand existing trees are not changed. Gradient descent procedure is followed to minimize errors\n",
        "\n",
        "\n",
        "\n"
      ]
    },
    {
      "cell_type": "markdown",
      "metadata": {
        "id": "4gUgWhxUxZ3n"
      },
      "source": [
        "**Improving**\n",
        "\n",
        "\n",
        "1. Tree constraints\n",
        "\n",
        "> no of trees\n",
        "\n",
        "> tree depth(shorter trees are preferred(4-8))\n",
        "\n",
        "> no of nodes\n",
        "\n",
        "2.   Weight updates\n",
        "\n",
        "> predictions of each tree are added sequentially. Contribution of each tree can be wighted to slow down the learning by the algorithm(laerning rate (0.1-0.3))\n",
        "\n",
        "3.   stochastic gradient boosting\n",
        "\n",
        "\n",
        "> at each iteration a subsample of training data is drawn at random from full training dataset which is used to fit the base learner instead of full training set\n",
        "\n",
        "\n",
        "4.    penalized gradient boosting\n",
        "\n",
        "\n",
        "> L1 or L2 regularization. CART is not used instead regression trees are used to apply regularization\n",
        "\n",
        "\n",
        "\n"
      ]
    },
    {
      "cell_type": "code",
      "metadata": {
        "id": "7AEYtYE7rKJK"
      },
      "source": [
        ""
      ],
      "execution_count": null,
      "outputs": []
    }
  ]
}
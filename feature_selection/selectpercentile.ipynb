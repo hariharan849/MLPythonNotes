{
  "nbformat": 4,
  "nbformat_minor": 0,
  "metadata": {
    "colab": {
      "name": "selectkbest.ipynb",
      "provenance": []
    },
    "kernelspec": {
      "name": "python3",
      "display_name": "Python 3"
    },
    "language_info": {
      "name": "python"
    }
  },
  "cells": [
    {
      "cell_type": "markdown",
      "metadata": {
        "id": "QUfE8FKfqWRS"
      },
      "source": [
        "**Selectpercentile**\n",
        "  * statisctical tests to select featues that has strong relationships\n",
        "  * too much of high P value remove it\n",
        "\n",
        "*f_classif* - classification\n",
        "*f_regression* - regression"
      ]
    },
    {
      "cell_type": "code",
      "metadata": {
        "id": "lXV6YdKMqbmI"
      },
      "source": [
        "from sklearn.feature_selection import SelectPercentile, chi2\n",
        "from sklearn.datasets import load_digits"
      ],
      "execution_count": 1,
      "outputs": []
    },
    {
      "cell_type": "code",
      "metadata": {
        "colab": {
          "base_uri": "https://localhost:8080/"
        },
        "id": "yklxrLOoqiS_",
        "outputId": "052328d7-dd11-4daf-a87f-896aeac36285"
      },
      "source": [
        "X, y = load_digits(return_X_y=True)\n",
        "X.shape"
      ],
      "execution_count": 2,
      "outputs": [
        {
          "output_type": "execute_result",
          "data": {
            "text/plain": [
              "(1797, 64)"
            ]
          },
          "metadata": {
            "tags": []
          },
          "execution_count": 2
        }
      ]
    },
    {
      "cell_type": "code",
      "metadata": {
        "id": "UjsBGYvxq5yr",
        "colab": {
          "base_uri": "https://localhost:8080/"
        },
        "outputId": "fc0ea1f2-7d5a-474d-8f38-736b518c4957"
      },
      "source": [
        "select = SelectPercentile(percentile=50).fit(X, y)\n",
        "X_new = select.transform(X)"
      ],
      "execution_count": 7,
      "outputs": [
        {
          "output_type": "stream",
          "text": [
            "/usr/local/lib/python3.7/dist-packages/sklearn/feature_selection/_univariate_selection.py:114: UserWarning: Features [ 0 32 39] are constant.\n",
            "  UserWarning)\n",
            "/usr/local/lib/python3.7/dist-packages/sklearn/feature_selection/_univariate_selection.py:115: RuntimeWarning: invalid value encountered in true_divide\n",
            "  f = msb / msw\n"
          ],
          "name": "stderr"
        }
      ]
    },
    {
      "cell_type": "code",
      "metadata": {
        "colab": {
          "base_uri": "https://localhost:8080/"
        },
        "id": "gov_uPt5uPQa",
        "outputId": "2c5f3e0b-ea29-467a-95b0-5cf8e2915f91"
      },
      "source": [
        "X_new.shape"
      ],
      "execution_count": 8,
      "outputs": [
        {
          "output_type": "execute_result",
          "data": {
            "text/plain": [
              "(1797, 32)"
            ]
          },
          "metadata": {
            "tags": []
          },
          "execution_count": 8
        }
      ]
    }
  ]
}
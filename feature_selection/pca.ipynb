{
  "nbformat": 4,
  "nbformat_minor": 0,
  "metadata": {
    "colab": {
      "name": "Untitled53.ipynb",
      "provenance": []
    },
    "kernelspec": {
      "name": "python3",
      "display_name": "Python 3"
    },
    "language_info": {
      "name": "python"
    }
  },
  "cells": [
    {
      "cell_type": "markdown",
      "metadata": {
        "id": "zBEr6diFvAMN"
      },
      "source": [
        "**Principal Component Analysis**\n",
        "  * linear algebra to transform data to compressed form"
      ]
    },
    {
      "cell_type": "code",
      "metadata": {
        "id": "5qc9nX3bvOlz"
      },
      "source": [
        "import numpy as np\n",
        "from sklearn.decomposition import PCA"
      ],
      "execution_count": 5,
      "outputs": []
    },
    {
      "cell_type": "code",
      "metadata": {
        "colab": {
          "base_uri": "https://localhost:8080/"
        },
        "id": "qOSDypI9vTsS",
        "outputId": "6236b931-b8ef-4cf6-ca94-d0fec66f4eb2"
      },
      "source": [
        "X = np.array([[-1, -1], [-2, -1], [-3, -2], [1, 1], [2, 1], [3, 2]])\n",
        "pca = PCA(n_components=2)\n",
        "pca.fit(X)\n",
        "print(pca.explained_variance_ratio_)\n",
        "print(pca.singular_values_)\n"
      ],
      "execution_count": 6,
      "outputs": [
        {
          "output_type": "stream",
          "text": [
            "[0.99244289 0.00755711]\n",
            "[6.30061232 0.54980396]\n"
          ],
          "name": "stdout"
        }
      ]
    },
    {
      "cell_type": "code",
      "metadata": {
        "colab": {
          "base_uri": "https://localhost:8080/"
        },
        "id": "5pocRe7gv8b9",
        "outputId": "98cff586-621a-45f6-a266-586f56898470"
      },
      "source": [
        "pca = PCA(n_components=2, svd_solver='full')\n",
        "pca.fit(X)\n",
        "print(pca.explained_variance_ratio_)\n",
        "print(pca.singular_values_)"
      ],
      "execution_count": 7,
      "outputs": [
        {
          "output_type": "stream",
          "text": [
            "[0.99244289 0.00755711]\n",
            "[6.30061232 0.54980396]\n"
          ],
          "name": "stdout"
        }
      ]
    }
  ]
}
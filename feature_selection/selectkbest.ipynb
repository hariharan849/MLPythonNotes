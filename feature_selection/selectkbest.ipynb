{
  "nbformat": 4,
  "nbformat_minor": 0,
  "metadata": {
    "colab": {
      "name": "Untitled52.ipynb",
      "provenance": []
    },
    "kernelspec": {
      "name": "python3",
      "display_name": "Python 3"
    },
    "language_info": {
      "name": "python"
    }
  },
  "cells": [
    {
      "cell_type": "markdown",
      "metadata": {
        "id": "QUfE8FKfqWRS"
      },
      "source": [
        "**Selectkbest**\n",
        "  * statisctical tests to select featues that has strong relationships\n",
        "\n",
        "*chi2* - non negative features"
      ]
    },
    {
      "cell_type": "code",
      "metadata": {
        "id": "lXV6YdKMqbmI"
      },
      "source": [
        "from sklearn.feature_selection import SelectKBest, chi2\n",
        "from sklearn.datasets import load_digits"
      ],
      "execution_count": 3,
      "outputs": []
    },
    {
      "cell_type": "code",
      "metadata": {
        "colab": {
          "base_uri": "https://localhost:8080/"
        },
        "id": "yklxrLOoqiS_",
        "outputId": "8bfb4f4b-f001-4532-ee99-d675dcdc3ece"
      },
      "source": [
        "X, y = load_digits(return_X_y=True)\n",
        "X.shape"
      ],
      "execution_count": 4,
      "outputs": [
        {
          "output_type": "execute_result",
          "data": {
            "text/plain": [
              "(1797, 64)"
            ]
          },
          "metadata": {
            "tags": []
          },
          "execution_count": 4
        }
      ]
    },
    {
      "cell_type": "code",
      "metadata": {
        "id": "UjsBGYvxq5yr"
      },
      "source": [
        "X_new = SelectKBest(chi2, k=20).fit(X, y)"
      ],
      "execution_count": 8,
      "outputs": []
    },
    {
      "cell_type": "code",
      "metadata": {
        "colab": {
          "base_uri": "https://localhost:8080/"
        },
        "id": "gov_uPt5uPQa",
        "outputId": "6cf9bc76-3d06-48aa-9d0d-8fa29d8d7aa3"
      },
      "source": [
        "X_new.scores_"
      ],
      "execution_count": 9,
      "outputs": [
        {
          "output_type": "execute_result",
          "data": {
            "text/plain": [
              "array([          nan,  811.90700411, 3501.28249552,  698.9252572 ,\n",
              "        438.52969882, 3879.81925999, 3969.45823205, 1193.5608181 ,\n",
              "         24.79521396, 2953.83108764, 2583.65198939,  388.24205944,\n",
              "        824.69094853, 3676.48924765, 1983.5796061 ,  597.24198237,\n",
              "          8.95886124, 1924.21690377, 2409.27140681, 3556.31594594,\n",
              "       4871.94194551, 4782.19921618, 2155.17378998,  376.76583333,\n",
              "          7.90090158, 2471.82418401, 4515.48149826, 2986.64314847,\n",
              "       3724.09567634, 3208.64686641, 5138.07412439,   35.71270718,\n",
              "                 nan, 5688.25079535, 5262.46646904, 3165.0605867 ,\n",
              "       3231.63943369, 2532.99695611, 3288.81403655,           nan,\n",
              "        142.85082873, 3863.85787901, 6416.0867248 , 5448.25154235,\n",
              "       4079.73153383, 2134.02540236, 4486.34097862,  313.53898127,\n",
              "         70.39927392,  449.72327313, 2801.97224468, 1527.54519627,\n",
              "       1653.15892311, 3073.99803898, 5251.21748723,  683.88227339,\n",
              "          9.15254237,  851.06791492, 3800.2473108 ,  730.92975659,\n",
              "       1859.53966338, 4379.2250408 , 5059.00551511, 2281.32864013])"
            ]
          },
          "metadata": {
            "tags": []
          },
          "execution_count": 9
        }
      ]
    },
    {
      "cell_type": "code",
      "metadata": {
        "colab": {
          "base_uri": "https://localhost:8080/"
        },
        "id": "zpzJKGzDuk4e",
        "outputId": "80d81dd6-056d-4b21-931f-d848671d63f5"
      },
      "source": [
        "X_new.transform(X)"
      ],
      "execution_count": 12,
      "outputs": [
        {
          "output_type": "execute_result",
          "data": {
            "text/plain": [
              "array([[ 1.,  0., 15., ...,  6.,  0.,  0.],\n",
              "       [ 5.,  0.,  9., ...,  0., 10.,  0.],\n",
              "       [12.,  0., 14., ...,  0., 16.,  9.],\n",
              "       ...,\n",
              "       [ 1.,  0.,  2., ...,  2.,  6.,  0.],\n",
              "       [ 0.,  0., 15., ...,  5., 12.,  0.],\n",
              "       [ 1.,  0.,  1., ...,  8., 12.,  1.]])"
            ]
          },
          "metadata": {
            "tags": []
          },
          "execution_count": 12
        }
      ]
    }
  ]
}
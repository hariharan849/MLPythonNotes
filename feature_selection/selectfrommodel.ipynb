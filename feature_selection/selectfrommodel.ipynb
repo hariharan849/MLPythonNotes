{
  "nbformat": 4,
  "nbformat_minor": 0,
  "metadata": {
    "colab": {
      "name": "selectkbest.ipynb",
      "provenance": []
    },
    "kernelspec": {
      "name": "python3",
      "display_name": "Python 3"
    },
    "language_info": {
      "name": "python"
    }
  },
  "cells": [
    {
      "cell_type": "markdown",
      "metadata": {
        "id": "QUfE8FKfqWRS"
      },
      "source": [
        "**SelectFromModel**\n",
        "  * selects feature based on model and threshold\n"
      ]
    },
    {
      "cell_type": "code",
      "metadata": {
        "id": "lXV6YdKMqbmI"
      },
      "source": [
        "from sklearn.feature_selection import SelectFromModel\n",
        "from sklearn.ensemble import RandomForestClassifier\n",
        "from sklearn.datasets import load_digits"
      ],
      "execution_count": 10,
      "outputs": []
    },
    {
      "cell_type": "code",
      "metadata": {
        "colab": {
          "base_uri": "https://localhost:8080/"
        },
        "id": "yklxrLOoqiS_",
        "outputId": "5a0aa683-c257-433d-ade6-a3d80172d899"
      },
      "source": [
        "X, y = load_digits(return_X_y=True)\n",
        "X.shape"
      ],
      "execution_count": 11,
      "outputs": [
        {
          "output_type": "execute_result",
          "data": {
            "text/plain": [
              "(1797, 64)"
            ]
          },
          "metadata": {
            "tags": []
          },
          "execution_count": 11
        }
      ]
    },
    {
      "cell_type": "code",
      "metadata": {
        "id": "UjsBGYvxq5yr"
      },
      "source": [
        "select = SelectFromModel(RandomForestClassifier(n_estimators=100), threshold=\"median\").fit(X, y)\n",
        "X_new = select.transform(X)"
      ],
      "execution_count": 12,
      "outputs": []
    },
    {
      "cell_type": "code",
      "metadata": {
        "colab": {
          "base_uri": "https://localhost:8080/"
        },
        "id": "gov_uPt5uPQa",
        "outputId": "2c5f3e0b-ea29-467a-95b0-5cf8e2915f91"
      },
      "source": [
        "X_new.shape"
      ],
      "execution_count": 8,
      "outputs": [
        {
          "output_type": "execute_result",
          "data": {
            "text/plain": [
              "(1797, 32)"
            ]
          },
          "metadata": {
            "tags": []
          },
          "execution_count": 8
        }
      ]
    }
  ]
}
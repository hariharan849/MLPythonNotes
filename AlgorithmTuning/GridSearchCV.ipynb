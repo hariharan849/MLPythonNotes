{
  "nbformat": 4,
  "nbformat_minor": 0,
  "metadata": {
    "colab": {
      "name": "Untitled59.ipynb",
      "provenance": []
    },
    "kernelspec": {
      "name": "python3",
      "display_name": "Python 3"
    },
    "language_info": {
      "name": "python"
    }
  },
  "cells": [
    {
      "cell_type": "markdown",
      "metadata": {
        "id": "JSuU733l0DCf"
      },
      "source": [
        "**GridSearchCV**"
      ]
    },
    {
      "cell_type": "code",
      "metadata": {
        "id": "a3vwYVE-0B75"
      },
      "source": [
        "from sklearn.datasets import load_boston\n",
        "from sklearn.linear_model import Ridge\n",
        "from sklearn.model_selection import GridSearchCV"
      ],
      "execution_count": 1,
      "outputs": []
    },
    {
      "cell_type": "code",
      "metadata": {
        "id": "yZj1gbKw0aN8"
      },
      "source": [
        "X, y = load_boston(return_X_y=True)"
      ],
      "execution_count": 2,
      "outputs": []
    },
    {
      "cell_type": "code",
      "metadata": {
        "colab": {
          "base_uri": "https://localhost:8080/"
        },
        "id": "0ouDR49O0ftY",
        "outputId": "3ec2cff9-acd7-440a-ae69-077dc179fe5c"
      },
      "source": [
        "parameter_grid = {\n",
        "    \"alpha\": [1.0, 0.1, 0.01, 0.001, 0.0001, 0]\n",
        "}\n",
        "model = Ridge()\n",
        "grid = GridSearchCV(model, parameter_grid, n_jobs=-1)\n",
        "grid.fit(X, y)\n",
        "print (grid.best_score_)\n",
        "print (grid.best_estimator_.alpha)"
      ],
      "execution_count": 3,
      "outputs": [
        {
          "output_type": "stream",
          "text": [
            "0.3892175824102401\n",
            "1.0\n"
          ],
          "name": "stdout"
        }
      ]
    }
  ]
}
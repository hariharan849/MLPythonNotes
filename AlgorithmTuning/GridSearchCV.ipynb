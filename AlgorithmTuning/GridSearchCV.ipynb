{
  "nbformat": 4,
  "nbformat_minor": 0,
  "metadata": {
    "colab": {
      "name": "GridSearchCV.ipynb",
      "provenance": []
    },
    "kernelspec": {
      "name": "python3",
      "display_name": "Python 3"
    },
    "language_info": {
      "name": "python"
    }
  },
  "cells": [
    {
      "cell_type": "markdown",
      "metadata": {
        "id": "JSuU733l0DCf"
      },
      "source": [
        "**GridSearchCV**"
      ]
    },
    {
      "cell_type": "code",
      "metadata": {
        "id": "a3vwYVE-0B75"
      },
      "source": [
        "from sklearn.datasets import load_boston\n",
        "from sklearn.linear_model import Ridge\n",
        "from sklearn.model_selection import GridSearchCV"
      ],
      "execution_count": null,
      "outputs": []
    },
    {
      "cell_type": "code",
      "metadata": {
        "id": "yZj1gbKw0aN8"
      },
      "source": [
        "X, y = load_boston(return_X_y=True)"
      ],
      "execution_count": null,
      "outputs": []
    },
    {
      "cell_type": "code",
      "metadata": {
        "colab": {
          "base_uri": "https://localhost:8080/"
        },
        "id": "0ouDR49O0ftY",
        "outputId": "3ec2cff9-acd7-440a-ae69-077dc179fe5c"
      },
      "source": [
        "parameter_grid = {\n",
        "    \"alpha\": [1.0, 0.1, 0.01, 0.001, 0.0001, 0]\n",
        "}\n",
        "model = Ridge()\n",
        "grid = GridSearchCV(model, parameter_grid, n_jobs=-1)\n",
        "grid.fit(X, y)\n",
        "print (grid.best_score_)\n",
        "print (grid.best_estimator_.alpha)"
      ],
      "execution_count": null,
      "outputs": [
        {
          "output_type": "stream",
          "text": [
            "0.3892175824102401\n",
            "1.0\n"
          ],
          "name": "stdout"
        }
      ]
    },
    {
      "cell_type": "markdown",
      "metadata": {
        "id": "Jdyle5GhSgyo"
      },
      "source": [
        "**ModelSelection**"
      ]
    },
    {
      "cell_type": "code",
      "metadata": {
        "colab": {
          "base_uri": "https://localhost:8080/"
        },
        "id": "_mh3FTnkSjUq",
        "outputId": "1e391aa6-6fda-48f6-eb60-fbc41443ae9b"
      },
      "source": [
        "# Load libraries\n",
        "import numpy as np\n",
        "from sklearn import datasets\n",
        "from sklearn.linear_model import LogisticRegression\n",
        "from sklearn.ensemble import RandomForestClassifier\n",
        "from sklearn.model_selection import GridSearchCV\n",
        "from sklearn.pipeline import Pipeline\n",
        "# Set random seed\n",
        "np.random.seed(0)\n",
        "# Load data\n",
        "iris = datasets.load_iris()\n",
        "features = iris.data\n",
        "target = iris.target\n",
        "# Create a pipeline\n",
        "pipe = Pipeline([(\"classifier\", RandomForestClassifier())])\n",
        "# Create dictionary with candidate learning algorithms and their hyperparameters\n",
        "search_space = [{\"classifier\": [LogisticRegression(max_iter=1000)],\n",
        "\"classifier__C\": np.logspace(0, 4, 10)},\n",
        "{\"classifier\": [RandomForestClassifier()],\n",
        "\"classifier__n_estimators\": [10, 100, 1000],\n",
        "\"classifier__max_features\": [1, 2, 3]}]\n",
        "# Create grid search\n",
        "gridsearch = GridSearchCV(pipe, search_space, cv=5, verbose=0)\n",
        "# Fit grid search\n",
        "best_model = gridsearch.fit(features, target)\n",
        "best_model.best_estimator_"
      ],
      "execution_count": 7,
      "outputs": [
        {
          "output_type": "execute_result",
          "data": {
            "text/plain": [
              "Pipeline(memory=None,\n",
              "         steps=[('classifier',\n",
              "                 LogisticRegression(C=21.544346900318832, class_weight=None,\n",
              "                                    dual=False, fit_intercept=True,\n",
              "                                    intercept_scaling=1, l1_ratio=None,\n",
              "                                    max_iter=1000, multi_class='auto',\n",
              "                                    n_jobs=None, penalty='l2',\n",
              "                                    random_state=None, solver='lbfgs',\n",
              "                                    tol=0.0001, verbose=0, warm_start=False))],\n",
              "         verbose=False)"
            ]
          },
          "metadata": {
            "tags": []
          },
          "execution_count": 7
        }
      ]
    },
    {
      "cell_type": "markdown",
      "metadata": {
        "id": "Bp8_yCwDSq7Y"
      },
      "source": [
        "**Feature Union**"
      ]
    },
    {
      "cell_type": "code",
      "metadata": {
        "colab": {
          "base_uri": "https://localhost:8080/"
        },
        "id": "-a19Z7sUStWx",
        "outputId": "3dc7b248-69b6-45c2-fe69-830a4527d577"
      },
      "source": [
        "# Load libraries\n",
        "import numpy as np\n",
        "from sklearn import datasets\n",
        "from sklearn.linear_model import LogisticRegression\n",
        "from sklearn.model_selection import GridSearchCV\n",
        "from sklearn.pipeline import Pipeline, FeatureUnion\n",
        "from sklearn.decomposition import PCA\n",
        "from sklearn.preprocessing import StandardScaler\n",
        "# Set random seed\n",
        "np.random.seed(0)\n",
        "# Load data\n",
        "iris = datasets.load_iris()\n",
        "features = iris.data\n",
        "target = iris.target\n",
        "# Create a preprocessing object that includes StandardScaler features and PCA\n",
        "preprocess = FeatureUnion([(\"std\", StandardScaler()), (\"pca\", PCA())])\n",
        "# Create a pipeline\n",
        "pipe = Pipeline([(\"preprocess\", preprocess),\n",
        "(\"classifier\", LogisticRegression())])\n",
        "# Create space of candidate values\n",
        "search_space = [{\"preprocess__pca__n_components\": [1, 2, 3],\n",
        "\"classifier__C\": np.logspace(0, 4, 10)}]\n",
        "# Create grid search\n",
        "clf = GridSearchCV(pipe, search_space, cv=5, verbose=0, n_jobs=-1)\n",
        "# Fit grid search\n",
        "best_model = clf.fit(features, target)\n",
        "best_model.best_estimator_"
      ],
      "execution_count": 8,
      "outputs": [
        {
          "output_type": "execute_result",
          "data": {
            "text/plain": [
              "Pipeline(memory=None,\n",
              "         steps=[('preprocess',\n",
              "                 FeatureUnion(n_jobs=None,\n",
              "                              transformer_list=[('std',\n",
              "                                                 StandardScaler(copy=True,\n",
              "                                                                with_mean=True,\n",
              "                                                                with_std=True)),\n",
              "                                                ('pca',\n",
              "                                                 PCA(copy=True,\n",
              "                                                     iterated_power='auto',\n",
              "                                                     n_components=2,\n",
              "                                                     random_state=None,\n",
              "                                                     svd_solver='auto', tol=0.0,\n",
              "                                                     whiten=False))],\n",
              "                              transformer_weights=None, verbose=False)),\n",
              "                ('classifier',\n",
              "                 LogisticRegression(C=7.742636826811269, class_weight=None,\n",
              "                                    dual=False, fit_intercept=True,\n",
              "                                    intercept_scaling=1, l1_ratio=None,\n",
              "                                    max_iter=100, multi_class='auto',\n",
              "                                    n_jobs=None, penalty='l2',\n",
              "                                    random_state=None, solver='lbfgs',\n",
              "                                    tol=0.0001, verbose=0, warm_start=False))],\n",
              "         verbose=False)"
            ]
          },
          "metadata": {
            "tags": []
          },
          "execution_count": 8
        }
      ]
    }
  ]
}
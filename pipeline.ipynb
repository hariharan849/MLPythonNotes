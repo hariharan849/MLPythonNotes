{
  "nbformat": 4,
  "nbformat_minor": 0,
  "metadata": {
    "colab": {
      "name": "Untitled56.ipynb",
      "provenance": [],
      "collapsed_sections": []
    },
    "kernelspec": {
      "name": "python3",
      "display_name": "Python 3"
    },
    "language_info": {
      "name": "python"
    }
  },
  "cells": [
    {
      "cell_type": "markdown",
      "metadata": {
        "id": "PAGwIHXgP2JS"
      },
      "source": [
        "**Pipeline**\n",
        "  "
      ]
    },
    {
      "cell_type": "code",
      "metadata": {
        "id": "fGhvD44JPzz5"
      },
      "source": [
        "from sklearn.datasets import load_breast_cancer\n",
        "from sklearn.pipeline import Pipeline\n",
        "from sklearn.model_selection import train_test_split\n",
        "from sklearn.discriminant_analysis import LinearDiscriminantAnalysis\n",
        "from sklearn.preprocessing import StandardScaler"
      ],
      "execution_count": 44,
      "outputs": []
    },
    {
      "cell_type": "code",
      "metadata": {
        "id": "VehRuwg3QSq3"
      },
      "source": [
        "X, y = load_breast_cancer(return_X_y=True)\n",
        "X_train, X_test, y_train, y_test = train_test_split(X, y, test_size=0.2, random_state=2)"
      ],
      "execution_count": 42,
      "outputs": []
    },
    {
      "cell_type": "code",
      "metadata": {
        "colab": {
          "base_uri": "https://localhost:8080/"
        },
        "id": "dEHnJogsQlOz",
        "outputId": "6a452c77-bc64-4f91-841a-c51caf33a8dd"
      },
      "source": [
        "estimators = []\n",
        "estimators.append((\"standardize\", StandardScaler()))\n",
        "estimators.append((\"model\", LinearDiscriminantAnalysis()))\n",
        "\n",
        "model = Pipeline(estimators)\n",
        "model.fit(X_train, y_train)"
      ],
      "execution_count": 45,
      "outputs": [
        {
          "output_type": "execute_result",
          "data": {
            "text/plain": [
              "Pipeline(memory=None,\n",
              "         steps=[('standardize',\n",
              "                 StandardScaler(copy=True, with_mean=True, with_std=True)),\n",
              "                ('model',\n",
              "                 LinearDiscriminantAnalysis(n_components=None, priors=None,\n",
              "                                            shrinkage=None, solver='svd',\n",
              "                                            store_covariance=False,\n",
              "                                            tol=0.0001))],\n",
              "         verbose=False)"
            ]
          },
          "metadata": {
            "tags": []
          },
          "execution_count": 45
        }
      ]
    },
    {
      "cell_type": "code",
      "metadata": {
        "colab": {
          "base_uri": "https://localhost:8080/"
        },
        "id": "3VzHfJLjf4Gn",
        "outputId": "4b4dcdd1-51e3-4fac-8149-18d07b3e31ce"
      },
      "source": [
        "model.score(X_test, y_test)"
      ],
      "execution_count": 47,
      "outputs": [
        {
          "output_type": "execute_result",
          "data": {
            "text/plain": [
              "0.9736842105263158"
            ]
          },
          "metadata": {
            "tags": []
          },
          "execution_count": 47
        }
      ]
    },
    {
      "cell_type": "markdown",
      "metadata": {
        "id": "hdvk2TjngaIb"
      },
      "source": [
        "**Pipeline Variant with multiple preprocessing steps**"
      ]
    },
    {
      "cell_type": "code",
      "metadata": {
        "id": "udcXLJyngGav"
      },
      "source": [
        "from sklearn.datasets import load_breast_cancer\n",
        "from sklearn.pipeline import Pipeline, FeatureUnion\n",
        "from sklearn.model_selection import train_test_split\n",
        "from sklearn.linear_model import LogisticRegression\n",
        "from sklearn.preprocessing import StandardScaler\n",
        "from sklearn.model_selection import KFold, cross_val_score\n",
        "from sklearn.decomposition import PCA\n",
        "from sklearn.feature_selection import SelectKBest"
      ],
      "execution_count": 53,
      "outputs": []
    },
    {
      "cell_type": "code",
      "metadata": {
        "id": "xtLRDFm4gjm9"
      },
      "source": [
        "X, y = load_breast_cancer(return_X_y=True)\n",
        "X_train, X_test, y_train, y_test = train_test_split(X, y, test_size=0.2, random_state=2)"
      ],
      "execution_count": 50,
      "outputs": []
    },
    {
      "cell_type": "code",
      "metadata": {
        "id": "gfaPms_UglYy"
      },
      "source": [
        "features = []\n",
        "features.append((\"pca\", PCA(n_components=3)))\n",
        "features.append((\"stc\", SelectKBest(k=6)))\n",
        "\n",
        "feature_union = FeatureUnion(features)"
      ],
      "execution_count": 54,
      "outputs": []
    },
    {
      "cell_type": "code",
      "metadata": {
        "id": "G2uvyy1Mg-RF"
      },
      "source": [
        "estimators = []\n",
        "estimators.append((\"feature\", feature_union))\n",
        "estimators.append((\"standardize\", StandardScaler()))\n",
        "estimators.append((\"model\", LogisticRegression()))\n",
        "\n",
        "model = Pipeline(estimators)"
      ],
      "execution_count": 55,
      "outputs": []
    },
    {
      "cell_type": "code",
      "metadata": {
        "colab": {
          "base_uri": "https://localhost:8080/"
        },
        "id": "bSLoaRWNhZrO",
        "outputId": "163e3d5d-ead9-4676-8b82-63dadf5d8481"
      },
      "source": [
        "kfold = KFold(n_splits=10, random_state=7)\n",
        "results = cross_val_score(model, X, y, cv=kfold, n_jobs=-1)"
      ],
      "execution_count": 56,
      "outputs": [
        {
          "output_type": "stream",
          "text": [
            "/usr/local/lib/python3.7/dist-packages/sklearn/model_selection/_split.py:296: FutureWarning: Setting a random_state has no effect since shuffle is False. This will raise an error in 0.24. You should leave random_state to its default (None), or set shuffle=True.\n",
            "  FutureWarning\n"
          ],
          "name": "stderr"
        }
      ]
    },
    {
      "cell_type": "code",
      "metadata": {
        "id": "vMCpKD1dhrI6",
        "outputId": "796f7091-2dc3-4ae5-d200-b5c8ecca65ec",
        "colab": {
          "base_uri": "https://localhost:8080/"
        }
      },
      "source": [
        "results.mean()"
      ],
      "execution_count": 57,
      "outputs": [
        {
          "output_type": "execute_result",
          "data": {
            "text/plain": [
              "0.9578634085213033"
            ]
          },
          "metadata": {
            "tags": []
          },
          "execution_count": 57
        }
      ]
    }
  ]
}
{
  "nbformat": 4,
  "nbformat_minor": 0,
  "metadata": {
    "colab": {
      "name": "Untitled59.ipynb",
      "provenance": [],
      "toc_visible": true
    },
    "kernelspec": {
      "name": "python3",
      "display_name": "Python 3"
    },
    "language_info": {
      "name": "python"
    }
  },
  "cells": [
    {
      "cell_type": "markdown",
      "metadata": {
        "id": "JSuU733l0DCf"
      },
      "source": [
        "# ***Saving|Loading***"
      ]
    },
    {
      "cell_type": "code",
      "metadata": {
        "id": "a3vwYVE-0B75"
      },
      "source": [
        "from sklearn.datasets import load_boston\n",
        "from sklearn.linear_model import Ridge\n",
        "from sklearn.externals.joblib import dump, load"
      ],
      "execution_count": 6,
      "outputs": []
    },
    {
      "cell_type": "code",
      "metadata": {
        "id": "yZj1gbKw0aN8"
      },
      "source": [
        "X, y = load_boston(return_X_y=True)"
      ],
      "execution_count": 2,
      "outputs": []
    },
    {
      "cell_type": "code",
      "metadata": {
        "colab": {
          "base_uri": "https://localhost:8080/"
        },
        "id": "0ouDR49O0ftY",
        "outputId": "c72ca253-8732-45ee-f135-190bf3fb8641"
      },
      "source": [
        "model = Ridge()\n",
        "model.fit(X, y)\n",
        "\n",
        "file_loc = \"/content/sample_data/ridge_model.sav\"\n",
        "dump(model, file_loc)\n",
        "\n",
        "\n",
        "loaded_model = load(file_loc)\n",
        "loaded_model"
      ],
      "execution_count": 7,
      "outputs": [
        {
          "output_type": "execute_result",
          "data": {
            "text/plain": [
              "Ridge(alpha=1.0, copy_X=True, fit_intercept=True, max_iter=None,\n",
              "      normalize=False, random_state=None, solver='auto', tol=0.001)"
            ]
          },
          "metadata": {
            "tags": []
          },
          "execution_count": 7
        }
      ]
    }
  ]
}
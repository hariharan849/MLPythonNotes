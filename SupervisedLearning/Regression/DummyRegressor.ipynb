{
  "nbformat": 4,
  "nbformat_minor": 0,
  "metadata": {
    "colab": {
      "name": "Untitled82.ipynb",
      "provenance": []
    },
    "kernelspec": {
      "name": "python3",
      "display_name": "Python 3"
    },
    "language_info": {
      "name": "python"
    }
  },
  "cells": [
    {
      "cell_type": "markdown",
      "metadata": {
        "id": "Pwwss00XKnXW"
      },
      "source": [
        "***DummyRegressor***"
      ]
    },
    {
      "cell_type": "code",
      "metadata": {
        "colab": {
          "base_uri": "https://localhost:8080/"
        },
        "id": "RRAv3p8eKisV",
        "outputId": "02d29c39-ecd9-41d9-8ff3-cbd12a4da695"
      },
      "source": [
        "from sklearn.datasets import load_boston\n",
        "from sklearn.dummy import DummyRegressor\n",
        "from sklearn.model_selection import train_test_split\n",
        "\n",
        "boston = load_boston()\n",
        "X = boston.data\n",
        "y = boston.target\n",
        "\n",
        "X_train, X_test, y_train, y_test = train_test_split(X, y, test_size=0.2, random_state=2)\n",
        "# Create a dummy regressor\n",
        "dummy = DummyRegressor(strategy='mean')\n",
        "dummy.fit(X_train, y_train)\n",
        "\n",
        "print (dummy.score(X_test, y_test))"
      ],
      "execution_count": 8,
      "outputs": [
        {
          "output_type": "stream",
          "text": [
            "-0.002461154627988016\n"
          ],
          "name": "stdout"
        }
      ]
    }
  ]
}
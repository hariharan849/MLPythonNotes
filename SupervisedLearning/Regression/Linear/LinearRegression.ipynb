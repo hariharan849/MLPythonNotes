{
  "nbformat": 4,
  "nbformat_minor": 0,
  "metadata": {
    "colab": {
      "name": "LinearRegression.ipynb",
      "provenance": [],
      "collapsed_sections": []
    },
    "kernelspec": {
      "name": "python3",
      "display_name": "Python 3"
    },
    "language_info": {
      "name": "python"
    }
  },
  "cells": [
    {
      "cell_type": "markdown",
      "metadata": {
        "id": "PAGwIHXgP2JS"
      },
      "source": [
        "**LinearRegression**\n",
        "  * assumes gaussian distributions\n",
        "  * input variable is relevant to output variable and not correlated to each other\n",
        "\n",
        "*formula*\n",
        "      \n",
        "    y = slope.X+intercept+Error\n",
        "    error = y-y_pred\n",
        "\n",
        "*Model Diagnostics*\n",
        "\n",
        "\n",
        "1. p-value\n",
        "2. R - square\n",
        "3. Adjusted R square\n",
        "4. Variation Inflation Factor\n",
        "\n",
        "**p-value**\n",
        "\n",
        "  ex sales vs advertisement\n",
        "  probability that sales and adv are not linearly correlated\n",
        "\n",
        "  p-value > 0.05 do not consider for linear regression\n",
        "  p -value <= 0.05 can consider\n",
        "\n",
        "**R -square**\n",
        "\n",
        "  how well X- variable explains the variation of Y\n",
        "\n",
        "  1 - (LR model variation/varaition from mean)\n",
        "\n",
        "  r-sq > 0.7 good score\n",
        "\n",
        "  **Adjusted R square**\n",
        "\n",
        "  penalizes addition of features\n",
        "\n",
        "  **variation inflation factor**\n",
        "\n",
        "  target: sales\n",
        "\n",
        "  independent: adv, discount, marketing spend\n",
        "\n",
        "  multi collinearity\n",
        "\n",
        "  VIF > 8 ignore\n",
        "\n",
        "  VIF < 8 add\n",
        "\n",
        "  VIF = 1/(1-R.sq)\n",
        "\n",
        "*Assumptions*\n",
        "\n",
        "  1. linear relation between x and y\n",
        "  2. no multi collinearity\n",
        "  3. normal distribution(mean of error = 0)\n",
        "  4.homoscedacity(no pattern between error and x variable)\n"
      ]
    },
    {
      "cell_type": "code",
      "metadata": {
        "id": "fGhvD44JPzz5"
      },
      "source": [
        "from sklearn.datasets import load_boston\n",
        "from sklearn.linear_model import LinearRegression\n",
        "from sklearn.model_selection import train_test_split"
      ],
      "execution_count": null,
      "outputs": []
    },
    {
      "cell_type": "code",
      "metadata": {
        "id": "VehRuwg3QSq3"
      },
      "source": [
        "X, y = load_boston(return_X_y=True)\n",
        "X_train, X_test, y_train, y_test = train_test_split(X, y, test_size=0.2, random_state=2)"
      ],
      "execution_count": null,
      "outputs": []
    },
    {
      "cell_type": "code",
      "metadata": {
        "colab": {
          "base_uri": "https://localhost:8080/"
        },
        "id": "dEHnJogsQlOz",
        "outputId": "4956d95a-bdc3-4ad0-8e68-10ee73697c4e"
      },
      "source": [
        "model = LinearRegression()\n",
        "model.fit(X_train, y_train)\n",
        "model.score(X_train, y_train)"
      ],
      "execution_count": null,
      "outputs": [
        {
          "output_type": "execute_result",
          "data": {
            "text/plain": [
              "0.7285831776605591"
            ]
          },
          "metadata": {
            "tags": []
          },
          "execution_count": 25
        }
      ]
    }
  ]
}
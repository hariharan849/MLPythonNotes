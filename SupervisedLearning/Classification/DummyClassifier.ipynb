{
  "nbformat": 4,
  "nbformat_minor": 0,
  "metadata": {
    "colab": {
      "name": "Untitled82.ipynb",
      "provenance": []
    },
    "kernelspec": {
      "name": "python3",
      "display_name": "Python 3"
    },
    "language_info": {
      "name": "python"
    }
  },
  "cells": [
    {
      "cell_type": "markdown",
      "metadata": {
        "id": "Pwwss00XKnXW"
      },
      "source": [
        "***DummyClassifier***"
      ]
    },
    {
      "cell_type": "code",
      "metadata": {
        "colab": {
          "base_uri": "https://localhost:8080/"
        },
        "id": "RRAv3p8eKisV",
        "outputId": "18d0e4c4-ba51-4a36-8717-45c0af7d5be8"
      },
      "source": [
        "from sklearn.datasets import load_iris\n",
        "from sklearn.dummy import DummyClassifier\n",
        "from sklearn.model_selection import train_test_split\n",
        "\n",
        "iris = load_iris()\n",
        "X = iris.data\n",
        "y = iris.target\n",
        "\n",
        "X_train, X_test, y_train, y_test = train_test_split(X, y, test_size=0.2, random_state=2)\n",
        "# Create a dummyclassifier\n",
        "dummy = DummyClassifier(strategy='uniform')\n",
        "dummy.fit(X_train, y_train)\n",
        "\n",
        "print (dummy.score(X_test, y_test))"
      ],
      "execution_count": 9,
      "outputs": [
        {
          "output_type": "stream",
          "text": [
            "0.3\n"
          ],
          "name": "stdout"
        }
      ]
    }
  ]
}
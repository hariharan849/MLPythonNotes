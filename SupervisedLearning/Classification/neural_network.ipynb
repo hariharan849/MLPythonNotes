{
  "nbformat": 4,
  "nbformat_minor": 0,
  "metadata": {
    "colab": {
      "name": "Untitled71.ipynb",
      "provenance": []
    },
    "kernelspec": {
      "name": "python3",
      "display_name": "Python 3"
    },
    "language_info": {
      "name": "python"
    }
  },
  "cells": [
    {
      "cell_type": "markdown",
      "metadata": {
        "id": "jsY1gWlBg200"
      },
      "source": [
        "**Nearal Network**\n",
        "  \n",
        "  preprocessing step: standardScalar"
      ]
    },
    {
      "cell_type": "code",
      "metadata": {
        "id": "hivsQQPreUsB"
      },
      "source": [
        "import matplotlib.pyplot as plt\n",
        "\n",
        "from sklearn.neural_network import MLPClassifier\n",
        "from sklearn.model_selection import train_test_split\n",
        "from sklearn.datasets import load_breast_cancer"
      ],
      "execution_count": 9,
      "outputs": []
    },
    {
      "cell_type": "code",
      "metadata": {
        "id": "RfMTsPBgexo-"
      },
      "source": [
        "X, y = load_breast_cancer(return_X_y=True)\n",
        "X_train, X_test, y_train, y_test = train_test_split(X, y, stratify=y, random_state=2)"
      ],
      "execution_count": 3,
      "outputs": []
    },
    {
      "cell_type": "code",
      "metadata": {
        "colab": {
          "base_uri": "https://localhost:8080/"
        },
        "id": "wcX0nGJ9fFw6",
        "outputId": "435e5d20-efeb-47c2-894d-e842a4fb3979"
      },
      "source": [
        "mlp = MLPClassifier()\n",
        "mlp.fit(X_train, y_train)\n",
        "print (mlp.score(X_train, y_train))\n",
        "print (mlp.score(X_test, y_test))"
      ],
      "execution_count": 4,
      "outputs": [
        {
          "output_type": "stream",
          "text": [
            "0.931924882629108\n",
            "0.9230769230769231\n"
          ],
          "name": "stdout"
        },
        {
          "output_type": "stream",
          "text": [
            "/usr/local/lib/python3.7/dist-packages/sklearn/neural_network/_multilayer_perceptron.py:571: ConvergenceWarning: Stochastic Optimizer: Maximum iterations (200) reached and the optimization hasn't converged yet.\n",
            "  % self.max_iter, ConvergenceWarning)\n"
          ],
          "name": "stderr"
        }
      ]
    },
    {
      "cell_type": "code",
      "metadata": {
        "colab": {
          "base_uri": "https://localhost:8080/"
        },
        "id": "2KivvsdxfYBi",
        "outputId": "f1691ff0-2aa6-4b3e-ba6e-2e84e48f3cf5"
      },
      "source": [
        "mlp = MLPClassifier(hidden_layer_sizes=[10, 20])\n",
        "mlp.fit(X_train, y_train)\n",
        "print (mlp.score(X_train, y_train))\n",
        "print (mlp.score(X_test, y_test))"
      ],
      "execution_count": 7,
      "outputs": [
        {
          "output_type": "stream",
          "text": [
            "0.892018779342723\n",
            "0.8811188811188811\n"
          ],
          "name": "stdout"
        }
      ]
    },
    {
      "cell_type": "code",
      "metadata": {
        "colab": {
          "base_uri": "https://localhost:8080/"
        },
        "id": "wYQUIjekfwJp",
        "outputId": "bf1de924-097f-4fed-e45b-711e04bcea3f"
      },
      "source": [
        "mlp = MLPClassifier(hidden_layer_sizes=[10, 20], activation='tanh')\n",
        "mlp.fit(X_train, y_train)\n",
        "print (mlp.score(X_train, y_train))\n",
        "print (mlp.score(X_test, y_test))"
      ],
      "execution_count": 8,
      "outputs": [
        {
          "output_type": "stream",
          "text": [
            "0.9061032863849765\n",
            "0.8881118881118881\n"
          ],
          "name": "stdout"
        }
      ]
    },
    {
      "cell_type": "code",
      "metadata": {
        "colab": {
          "base_uri": "https://localhost:8080/",
          "height": 834
        },
        "id": "Y4Nb_94Vf3GT",
        "outputId": "d80d894d-0932-4325-9d1f-c46cedadaadb"
      },
      "source": [
        "fig, axes = plt.subplots(2, 4, figsize=(20, 8))\n",
        "\n",
        "for n_hidden_nodes in [10, 100]:\n",
        "  for alpha in [0.001, 0.01, 0.1, 1]:\n",
        "      mlp = MLPClassifier(hidden_layer_sizes=[n_hidden_nodes, n_hidden_nodes], alpha=alpha, random_state=1)\n",
        "      mlp.fit(X_train, y_train)\n",
        "\n",
        "      print (mlp.score(X_train, y_train))\n",
        "      print (mlp.score(X_test, y_test)) \n",
        "\n"
      ],
      "execution_count": 10,
      "outputs": [
        {
          "output_type": "stream",
          "text": [
            "/usr/local/lib/python3.7/dist-packages/sklearn/neural_network/_multilayer_perceptron.py:571: ConvergenceWarning: Stochastic Optimizer: Maximum iterations (200) reached and the optimization hasn't converged yet.\n",
            "  % self.max_iter, ConvergenceWarning)\n"
          ],
          "name": "stderr"
        },
        {
          "output_type": "stream",
          "text": [
            "0.9061032863849765\n",
            "0.8811188811188811\n"
          ],
          "name": "stdout"
        },
        {
          "output_type": "stream",
          "text": [
            "/usr/local/lib/python3.7/dist-packages/sklearn/neural_network/_multilayer_perceptron.py:571: ConvergenceWarning: Stochastic Optimizer: Maximum iterations (200) reached and the optimization hasn't converged yet.\n",
            "  % self.max_iter, ConvergenceWarning)\n"
          ],
          "name": "stderr"
        },
        {
          "output_type": "stream",
          "text": [
            "0.9061032863849765\n",
            "0.8811188811188811\n"
          ],
          "name": "stdout"
        },
        {
          "output_type": "stream",
          "text": [
            "/usr/local/lib/python3.7/dist-packages/sklearn/neural_network/_multilayer_perceptron.py:571: ConvergenceWarning: Stochastic Optimizer: Maximum iterations (200) reached and the optimization hasn't converged yet.\n",
            "  % self.max_iter, ConvergenceWarning)\n"
          ],
          "name": "stderr"
        },
        {
          "output_type": "stream",
          "text": [
            "0.9061032863849765\n",
            "0.8811188811188811\n"
          ],
          "name": "stdout"
        },
        {
          "output_type": "stream",
          "text": [
            "/usr/local/lib/python3.7/dist-packages/sklearn/neural_network/_multilayer_perceptron.py:571: ConvergenceWarning: Stochastic Optimizer: Maximum iterations (200) reached and the optimization hasn't converged yet.\n",
            "  % self.max_iter, ConvergenceWarning)\n"
          ],
          "name": "stderr"
        },
        {
          "output_type": "stream",
          "text": [
            "0.9061032863849765\n",
            "0.8811188811188811\n",
            "0.8169014084507042\n",
            "0.7972027972027972\n",
            "0.812206572769953\n",
            "0.8111888111888111\n",
            "0.8169014084507042\n",
            "0.8041958041958042\n",
            "0.9131455399061033\n",
            "0.8951048951048951\n"
          ],
          "name": "stdout"
        },
        {
          "output_type": "display_data",
          "data": {
            "image/png": "[encoded data removed]",
            "text/plain": [
              "<Figure size 1440x576 with 8 Axes>"
            ]
          },
          "metadata": {
            "tags": [],
            "needs_background": "light"
          }
        }
      ]
    }
  ]
}
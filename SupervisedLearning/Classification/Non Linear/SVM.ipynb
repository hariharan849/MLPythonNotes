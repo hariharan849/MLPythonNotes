{
  "nbformat": 4,
  "nbformat_minor": 0,
  "metadata": {
    "colab": {
      "name": "SVM.ipynb",
      "provenance": []
    },
    "kernelspec": {
      "name": "python3",
      "display_name": "Python 3"
    },
    "language_info": {
      "name": "python"
    }
  },
  "cells": [
    {
      "cell_type": "markdown",
      "metadata": {
        "id": "PAGwIHXgP2JS"
      },
      "source": [
        "**SupportVectorMachines**\n",
        "  * seeks a line that best seperated 2 classes\n",
        "  * instances that are close to the line that beast seperates are called support vectors\n",
        "\n",
        "*Hyperparameters*\n",
        "  C\n",
        "  gamma"
      ]
    },
    {
      "cell_type": "code",
      "metadata": {
        "id": "fGhvD44JPzz5"
      },
      "source": [
        "from sklearn.datasets import load_breast_cancer\n",
        "from sklearn.svm import SVC\n",
        "from sklearn.model_selection import train_test_split"
      ],
      "execution_count": 2,
      "outputs": []
    },
    {
      "cell_type": "code",
      "metadata": {
        "id": "VehRuwg3QSq3"
      },
      "source": [
        "X, y = load_breast_cancer(return_X_y=True)\n",
        "X_train, X_test, y_train, y_test = train_test_split(X, y, test_size=0.2, random_state=2)"
      ],
      "execution_count": 3,
      "outputs": []
    },
    {
      "cell_type": "code",
      "metadata": {
        "colab": {
          "base_uri": "https://localhost:8080/"
        },
        "id": "dEHnJogsQlOz",
        "outputId": "298c5e72-2353-436f-ce4f-60f06c51e412"
      },
      "source": [
        "model = SVC()\n",
        "model.fit(X_train, y_train)\n",
        "model.score(X_train, y_train)"
      ],
      "execution_count": null,
      "outputs": [
        {
          "output_type": "execute_result",
          "data": {
            "text/plain": [
              "0.9252747252747253"
            ]
          },
          "metadata": {
            "tags": []
          },
          "execution_count": 22
        }
      ]
    },
    {
      "cell_type": "code",
      "metadata": {
        "colab": {
          "base_uri": "https://localhost:8080/"
        },
        "id": "EeKyg6oyd2R3",
        "outputId": "932c8c1e-3d9f-4982-d7f3-25ba43361e83"
      },
      "source": [
        "model = SVC(C=1000)\n",
        "model.fit(X_train, y_train)\n",
        "model.score(X_train, y_train)"
      ],
      "execution_count": null,
      "outputs": [
        {
          "output_type": "execute_result",
          "data": {
            "text/plain": [
              "0.9582417582417583"
            ]
          },
          "metadata": {
            "tags": []
          },
          "execution_count": 3
        }
      ]
    },
    {
      "cell_type": "code",
      "metadata": {
        "colab": {
          "base_uri": "https://localhost:8080/"
        },
        "id": "NDgUS-f3uNP2",
        "outputId": "43b8e28d-cd4a-4d27-80b8-5d569203db63"
      },
      "source": [
        "model = SVC(C=1000, kernel='rbf')\n",
        "model.fit(X_train, y_train)\n",
        "model.score(X_train, y_train)"
      ],
      "execution_count": 4,
      "outputs": [
        {
          "output_type": "execute_result",
          "data": {
            "text/plain": [
              "0.9582417582417583"
            ]
          },
          "metadata": {
            "tags": []
          },
          "execution_count": 4
        }
      ]
    },
    {
      "cell_type": "code",
      "metadata": {
        "colab": {
          "base_uri": "https://localhost:8080/"
        },
        "id": "fqVnl5MGuRh3",
        "outputId": "ebb42dc6-977c-45e2-d0a2-caaceff935ae"
      },
      "source": [
        "model = SVC(C=1000, kernel='linear')\n",
        "model.fit(X_train, y_train)\n",
        "model.score(X_train, y_train)"
      ],
      "execution_count": 5,
      "outputs": [
        {
          "output_type": "execute_result",
          "data": {
            "text/plain": [
              "0.9714285714285714"
            ]
          },
          "metadata": {
            "tags": []
          },
          "execution_count": 5
        }
      ]
    },
    {
      "cell_type": "code",
      "metadata": {
        "colab": {
          "base_uri": "https://localhost:8080/"
        },
        "id": "cdRZWc-Xub71",
        "outputId": "de5c2532-9e75-41e8-99d3-057eb72f8f79"
      },
      "source": [
        "model = SVC(C=1000, kernel='linear', gamma=0.01)\n",
        "model.fit(X_train, y_train)\n",
        "model.score(X_train, y_train)"
      ],
      "execution_count": 6,
      "outputs": [
        {
          "output_type": "execute_result",
          "data": {
            "text/plain": [
              "0.9714285714285714"
            ]
          },
          "metadata": {
            "tags": []
          },
          "execution_count": 6
        }
      ]
    }
  ]
}
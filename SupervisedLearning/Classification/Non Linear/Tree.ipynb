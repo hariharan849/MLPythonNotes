{
  "nbformat": 4,
  "nbformat_minor": 0,
  "metadata": {
    "colab": {
      "name": "Tree.ipynb",
      "provenance": []
    },
    "kernelspec": {
      "name": "python3",
      "display_name": "Python 3"
    },
    "language_info": {
      "name": "python"
    }
  },
  "cells": [
    {
      "cell_type": "markdown",
      "metadata": {
        "id": "PAGwIHXgP2JS"
      },
      "source": [
        "**CART(Classification and Regression Tree)**\n",
        "  * constrcuts binary tree from training data\n",
        "\n",
        "  entropy and information gain\n",
        "    e = -1(plogp + nlogn)\n",
        "\n",
        "    information gain = e(history) - e(splitted)\n",
        "\n",
        "  computational complexity\n",
        "    O(n*mlog(m))\n",
        "\n",
        "  "
      ]
    },
    {
      "cell_type": "code",
      "metadata": {
        "id": "fGhvD44JPzz5"
      },
      "source": [
        "from sklearn.datasets import load_breast_cancer\n",
        "from sklearn.tree import DecisionTreeClassifier\n",
        "from sklearn.model_selection import train_test_split"
      ],
      "execution_count": null,
      "outputs": []
    },
    {
      "cell_type": "code",
      "metadata": {
        "id": "VehRuwg3QSq3"
      },
      "source": [
        "X, y = load_breast_cancer(return_X_y=True)\n",
        "X_train, X_test, y_train, y_test = train_test_split(X, y, test_size=0.2, random_state=2)"
      ],
      "execution_count": null,
      "outputs": []
    },
    {
      "cell_type": "code",
      "metadata": {
        "colab": {
          "base_uri": "https://localhost:8080/"
        },
        "id": "dEHnJogsQlOz",
        "outputId": "1c30932c-98ac-4498-d9ee-b55d5a696d30"
      },
      "source": [
        "model = DecisionTreeClassifier()\n",
        "model.fit(X_train, y_train)\n",
        "model.score(X_train, y_train)"
      ],
      "execution_count": null,
      "outputs": [
        {
          "output_type": "execute_result",
          "data": {
            "text/plain": [
              "1.0"
            ]
          },
          "metadata": {
            "tags": []
          },
          "execution_count": 20
        }
      ]
    },
    {
      "cell_type": "code",
      "metadata": {
        "colab": {
          "base_uri": "https://localhost:8080/"
        },
        "id": "8FCGa5R2aSM-",
        "outputId": "734392f8-cd7c-44f8-dc92-5b9f414f8b00"
      },
      "source": [
        "model = DecisionTreeClassifier(max_depth=4, random_state=3)\n",
        "model.fit(X_train, y_train)\n",
        "model.score(X_train, y_train)"
      ],
      "execution_count": null,
      "outputs": [
        {
          "output_type": "execute_result",
          "data": {
            "text/plain": [
              "0.989010989010989"
            ]
          },
          "metadata": {
            "tags": []
          },
          "execution_count": 4
        }
      ]
    },
    {
      "cell_type": "code",
      "metadata": {
        "id": "hhDZmrdNaY-g"
      },
      "source": [
        "from sklearn.tree import export_graphviz\n",
        "export_graphviz(model, out_file='tree.dot', class_names=['malignant', 'beningh'], feature_names=y_train, impurity=False, filled=True)\n",
        "\n",
        "import graphviz\n",
        "with open('tree.dot') as f:\n",
        "  dot_graph = f.read()\n",
        "\n",
        "graphviz.Source(dot_graph)"
      ],
      "execution_count": null,
      "outputs": []
    }
  ]
}
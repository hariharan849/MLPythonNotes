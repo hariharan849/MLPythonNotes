{
  "nbformat": 4,
  "nbformat_minor": 0,
  "metadata": {
    "colab": {
      "name": "Untitled54.ipynb",
      "provenance": []
    },
    "kernelspec": {
      "name": "python3",
      "display_name": "Python 3"
    },
    "language_info": {
      "name": "python"
    }
  },
  "cells": [
    {
      "cell_type": "markdown",
      "metadata": {
        "id": "mb7SF31DxARa"
      },
      "source": [
        "**K Fold Cross Validation**\n",
        "  * splits the datasets to k parts(part is fold)\n",
        "  * trained on k-1 fold and tested on last fold\n",
        "  * training is done on each fold so finally we have k performance scores"
      ]
    },
    {
      "cell_type": "code",
      "metadata": {
        "id": "VGC9pmomxFR3"
      },
      "source": [
        "from sklearn.model_selection import cross_val_score, KFold\n",
        "from sklearn.linear_model import LinearRegression\n",
        "from sklearn.datasets import load_boston"
      ],
      "execution_count": 23,
      "outputs": []
    },
    {
      "cell_type": "code",
      "metadata": {
        "id": "gZrEwz0mxL5m"
      },
      "source": [
        "X, y = load_boston(return_X_y=True)"
      ],
      "execution_count": 24,
      "outputs": []
    },
    {
      "cell_type": "code",
      "metadata": {
        "colab": {
          "base_uri": "https://localhost:8080/"
        },
        "id": "wE4qI-RlxeKl",
        "outputId": "d0aa6a19-8180-4305-b7c5-3cdf7b0d4e74"
      },
      "source": [
        "fold = KFold(n_splits=5, shuffle=True, random_state=3)\n",
        "print (cross_val_score(LinearRegression(), X, y, cv=fold))"
      ],
      "execution_count": 27,
      "outputs": [
        {
          "output_type": "stream",
          "text": [
            "[0.79526176 0.68242183 0.73143838 0.62688236 0.69907226]\n"
          ],
          "name": "stdout"
        }
      ]
    }
  ]
}
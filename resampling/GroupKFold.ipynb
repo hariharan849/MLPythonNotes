{
  "nbformat": 4,
  "nbformat_minor": 0,
  "metadata": {
    "colab": {
      "name": "Untitled72.ipynb",
      "provenance": []
    },
    "kernelspec": {
      "name": "python3",
      "display_name": "Python 3"
    },
    "language_info": {
      "name": "python"
    }
  },
  "cells": [
    {
      "cell_type": "markdown",
      "metadata": {
        "id": "wxcHPhAoryjX"
      },
      "source": [
        "**GroupKFold**\n",
        "  \n",
        "  either a entire group is in training set or entirely in test set\n",
        "  eg: recognize emotions in face(100 people)\n",
        "    its better to train on single group(1 person complete dataset is trained rather than splitting them to train and test)"
      ]
    },
    {
      "cell_type": "code",
      "metadata": {
        "id": "bNRM_Co1sEfy"
      },
      "source": [
        "from sklearn.model_selection import cross_val_score, GroupKFold\n",
        "from sklearn.linear_model import LogisticRegression\n",
        "from sklearn.datasets import make_blobs"
      ],
      "execution_count": 3,
      "outputs": []
    },
    {
      "cell_type": "code",
      "metadata": {
        "id": "V52M_m3HsXMc"
      },
      "source": [
        "X, y = make_blobs(n_samples=12, random_state=2)\n",
        "#assume first 3 as 1 group and next 4 and so on\n",
        "groups = [0, 0, 0, 1, 1, 1, 1, 2, 2, 3, 3, 3]\n"
      ],
      "execution_count": 5,
      "outputs": []
    },
    {
      "cell_type": "code",
      "metadata": {
        "colab": {
          "base_uri": "https://localhost:8080/"
        },
        "id": "eJ0tkCUQsxVz",
        "outputId": "b689f12a-3187-4cce-a6c4-04bda7fcbca6"
      },
      "source": [
        "model = LogisticRegression()\n",
        "\n",
        "scores = cross_val_score(model, X, y, groups=groups, cv=GroupKFold(n_splits=3))\n",
        "print (scores)"
      ],
      "execution_count": 6,
      "outputs": [
        {
          "output_type": "stream",
          "text": [
            "[1. 1. 1.]\n"
          ],
          "name": "stdout"
        }
      ]
    }
  ]
}
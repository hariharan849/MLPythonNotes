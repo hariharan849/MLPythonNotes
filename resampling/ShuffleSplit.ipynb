{
  "nbformat": 4,
  "nbformat_minor": 0,
  "metadata": {
    "colab": {
      "name": "ShuffleSplit.ipynb",
      "provenance": []
    },
    "kernelspec": {
      "name": "python3",
      "display_name": "Python 3"
    },
    "language_info": {
      "name": "python"
    }
  },
  "cells": [
    {
      "cell_type": "markdown",
      "metadata": {
        "id": "mb7SF31DxARa"
      },
      "source": [
        "*ShuffleSplit**\n",
        " * Randomly splits data like train/test split"
      ]
    },
    {
      "cell_type": "code",
      "metadata": {
        "id": "VGC9pmomxFR3"
      },
      "source": [
        "from sklearn.model_selection import cross_val_score, ShuffleSplit\n",
        "from sklearn.linear_model import LinearRegression\n",
        "from sklearn.datasets import load_boston"
      ],
      "execution_count": 2,
      "outputs": []
    },
    {
      "cell_type": "code",
      "metadata": {
        "id": "gZrEwz0mxL5m"
      },
      "source": [
        "X, y = load_boston(return_X_y=True)"
      ],
      "execution_count": 3,
      "outputs": []
    },
    {
      "cell_type": "code",
      "metadata": {
        "colab": {
          "base_uri": "https://localhost:8080/"
        },
        "id": "wE4qI-RlxeKl",
        "outputId": "54cf6a11-e42e-43c8-a1f0-21a7dccaf7f1"
      },
      "source": [
        "fold = ShuffleSplit()\n",
        "print (cross_val_score(LinearRegression(), X, y, cv=fold))"
      ],
      "execution_count": null,
      "outputs": [
        {
          "output_type": "stream",
          "text": [
            "[0.82442508 0.77260643 0.65155201 0.68340147 0.56232681 0.76768704\n",
            " 0.67741491 0.60352574 0.57943933 0.78402113]\n"
          ],
          "name": "stdout"
        }
      ]
    },
    {
      "cell_type": "code",
      "metadata": {
        "colab": {
          "base_uri": "https://localhost:8080/"
        },
        "id": "JEqZSBox0bbh",
        "outputId": "ea2409f7-1785-4837-8f57-394e2879f156"
      },
      "source": [
        "fold = ShuffleSplit(train_size=0.5, test_size=0.5, n_splits=10)\n",
        "print (cross_val_score(LinearRegression(), X, y, cv=fold))"
      ],
      "execution_count": 4,
      "outputs": [
        {
          "output_type": "stream",
          "text": [
            "[0.67777395 0.7170552  0.65348281 0.66986196 0.71443157 0.74729087\n",
            " 0.67856446 0.7100742  0.70175024 0.68193458]\n"
          ],
          "name": "stdout"
        }
      ]
    }
  ]
}
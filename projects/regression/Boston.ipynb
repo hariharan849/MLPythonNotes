{
  "nbformat": 4,
  "nbformat_minor": 0,
  "metadata": {
    "colab": {
      "name": "Untitled60.ipynb",
      "provenance": []
    },
    "kernelspec": {
      "name": "python3",
      "display_name": "Python 3"
    },
    "language_info": {
      "name": "python"
    }
  },
  "cells": [
    {
      "cell_type": "markdown",
      "metadata": {
        "id": "FswlpoBUSMN8"
      },
      "source": [
        "**Houston**"
      ]
    },
    {
      "cell_type": "code",
      "metadata": {
        "id": "ingYyCmLSLsW"
      },
      "source": [
        "import pandas as pd\n",
        "import matplotlib as plt\n",
        "from sklearn.pipeline import Pipeline\n",
        "from sklearn.preprocessing import StandardScaler\n",
        "#datasets\n",
        "from sklearn.datasets import load_boston\n",
        "#preprocessing\n",
        "from sklearn.model_selection import KFold, train_test_split, cross_val_score, GridSearchCV\n",
        "#metrics\n",
        "from sklearn.metrics import mean_squared_error\n",
        "#models\n",
        "from sklearn.linear_model import LinearRegression, Ridge, Lasso, ElasticNet\n",
        "from sklearn.neighbors import KNeighborsRegressor\n",
        "from sklearn.tree import DecisionTreeRegressor\n",
        "from sklearn.svm import SVR\n",
        "from sklearn.ensemble import RandomForestRegressor, GradientBoostingRegressor, ExtraTreesRegressor, AdaBoostRegressor"
      ],
      "execution_count": 30,
      "outputs": []
    },
    {
      "cell_type": "code",
      "metadata": {
        "id": "3wmI0TdnTQa1"
      },
      "source": [
        "X, y = load_boston(return_X_y=True)\n",
        "dataset = pd.DataFrame(X, columns=load_boston().feature_names)"
      ],
      "execution_count": 6,
      "outputs": []
    },
    {
      "cell_type": "code",
      "metadata": {
        "colab": {
          "base_uri": "https://localhost:8080/",
          "height": 452
        },
        "id": "p_3Y3u2pTuLZ",
        "outputId": "70f4876e-c87a-48d8-b525-b777feff0f62"
      },
      "source": [
        "dataset.corr()"
      ],
      "execution_count": 7,
      "outputs": [
        {
          "output_type": "execute_result",
          "data": {
            "text/html": [
              "<div>\n",
              "<style scoped>\n",
              "    .dataframe tbody tr th:only-of-type {\n",
              "        vertical-align: middle;\n",
              "    }\n",
              "\n",
              "    .dataframe tbody tr th {\n",
              "        vertical-align: top;\n",
              "    }\n",
              "\n",
              "    .dataframe thead th {\n",
              "        text-align: right;\n",
              "    }\n",
              "</style>\n",
              "<table border=\"1\" class=\"dataframe\">\n",
              "  <thead>\n",
              "    <tr style=\"text-align: right;\">\n",
              "      <th></th>\n",
              "      <th>CRIM</th>\n",
              "      <th>ZN</th>\n",
              "      <th>INDUS</th>\n",
              "      <th>CHAS</th>\n",
              "      <th>NOX</th>\n",
              "      <th>RM</th>\n",
              "      <th>AGE</th>\n",
              "      <th>DIS</th>\n",
              "      <th>RAD</th>\n",
              "      <th>TAX</th>\n",
              "      <th>PTRATIO</th>\n",
              "      <th>B</th>\n",
              "      <th>LSTAT</th>\n",
              "    </tr>\n",
              "  </thead>\n",
              "  <tbody>\n",
              "    <tr>\n",
              "      <th>CRIM</th>\n",
              "      <td>1.000000</td>\n",
              "      <td>-0.200469</td>\n",
              "      <td>0.406583</td>\n",
              "      <td>-0.055892</td>\n",
              "      <td>0.420972</td>\n",
              "      <td>-0.219247</td>\n",
              "      <td>0.352734</td>\n",
              "      <td>-0.379670</td>\n",
              "      <td>0.625505</td>\n",
              "      <td>0.582764</td>\n",
              "      <td>0.289946</td>\n",
              "      <td>-0.385064</td>\n",
              "      <td>0.455621</td>\n",
              "    </tr>\n",
              "    <tr>\n",
              "      <th>ZN</th>\n",
              "      <td>-0.200469</td>\n",
              "      <td>1.000000</td>\n",
              "      <td>-0.533828</td>\n",
              "      <td>-0.042697</td>\n",
              "      <td>-0.516604</td>\n",
              "      <td>0.311991</td>\n",
              "      <td>-0.569537</td>\n",
              "      <td>0.664408</td>\n",
              "      <td>-0.311948</td>\n",
              "      <td>-0.314563</td>\n",
              "      <td>-0.391679</td>\n",
              "      <td>0.175520</td>\n",
              "      <td>-0.412995</td>\n",
              "    </tr>\n",
              "    <tr>\n",
              "      <th>INDUS</th>\n",
              "      <td>0.406583</td>\n",
              "      <td>-0.533828</td>\n",
              "      <td>1.000000</td>\n",
              "      <td>0.062938</td>\n",
              "      <td>0.763651</td>\n",
              "      <td>-0.391676</td>\n",
              "      <td>0.644779</td>\n",
              "      <td>-0.708027</td>\n",
              "      <td>0.595129</td>\n",
              "      <td>0.720760</td>\n",
              "      <td>0.383248</td>\n",
              "      <td>-0.356977</td>\n",
              "      <td>0.603800</td>\n",
              "    </tr>\n",
              "    <tr>\n",
              "      <th>CHAS</th>\n",
              "      <td>-0.055892</td>\n",
              "      <td>-0.042697</td>\n",
              "      <td>0.062938</td>\n",
              "      <td>1.000000</td>\n",
              "      <td>0.091203</td>\n",
              "      <td>0.091251</td>\n",
              "      <td>0.086518</td>\n",
              "      <td>-0.099176</td>\n",
              "      <td>-0.007368</td>\n",
              "      <td>-0.035587</td>\n",
              "      <td>-0.121515</td>\n",
              "      <td>0.048788</td>\n",
              "      <td>-0.053929</td>\n",
              "    </tr>\n",
              "    <tr>\n",
              "      <th>NOX</th>\n",
              "      <td>0.420972</td>\n",
              "      <td>-0.516604</td>\n",
              "      <td>0.763651</td>\n",
              "      <td>0.091203</td>\n",
              "      <td>1.000000</td>\n",
              "      <td>-0.302188</td>\n",
              "      <td>0.731470</td>\n",
              "      <td>-0.769230</td>\n",
              "      <td>0.611441</td>\n",
              "      <td>0.668023</td>\n",
              "      <td>0.188933</td>\n",
              "      <td>-0.380051</td>\n",
              "      <td>0.590879</td>\n",
              "    </tr>\n",
              "    <tr>\n",
              "      <th>RM</th>\n",
              "      <td>-0.219247</td>\n",
              "      <td>0.311991</td>\n",
              "      <td>-0.391676</td>\n",
              "      <td>0.091251</td>\n",
              "      <td>-0.302188</td>\n",
              "      <td>1.000000</td>\n",
              "      <td>-0.240265</td>\n",
              "      <td>0.205246</td>\n",
              "      <td>-0.209847</td>\n",
              "      <td>-0.292048</td>\n",
              "      <td>-0.355501</td>\n",
              "      <td>0.128069</td>\n",
              "      <td>-0.613808</td>\n",
              "    </tr>\n",
              "    <tr>\n",
              "      <th>AGE</th>\n",
              "      <td>0.352734</td>\n",
              "      <td>-0.569537</td>\n",
              "      <td>0.644779</td>\n",
              "      <td>0.086518</td>\n",
              "      <td>0.731470</td>\n",
              "      <td>-0.240265</td>\n",
              "      <td>1.000000</td>\n",
              "      <td>-0.747881</td>\n",
              "      <td>0.456022</td>\n",
              "      <td>0.506456</td>\n",
              "      <td>0.261515</td>\n",
              "      <td>-0.273534</td>\n",
              "      <td>0.602339</td>\n",
              "    </tr>\n",
              "    <tr>\n",
              "      <th>DIS</th>\n",
              "      <td>-0.379670</td>\n",
              "      <td>0.664408</td>\n",
              "      <td>-0.708027</td>\n",
              "      <td>-0.099176</td>\n",
              "      <td>-0.769230</td>\n",
              "      <td>0.205246</td>\n",
              "      <td>-0.747881</td>\n",
              "      <td>1.000000</td>\n",
              "      <td>-0.494588</td>\n",
              "      <td>-0.534432</td>\n",
              "      <td>-0.232471</td>\n",
              "      <td>0.291512</td>\n",
              "      <td>-0.496996</td>\n",
              "    </tr>\n",
              "    <tr>\n",
              "      <th>RAD</th>\n",
              "      <td>0.625505</td>\n",
              "      <td>-0.311948</td>\n",
              "      <td>0.595129</td>\n",
              "      <td>-0.007368</td>\n",
              "      <td>0.611441</td>\n",
              "      <td>-0.209847</td>\n",
              "      <td>0.456022</td>\n",
              "      <td>-0.494588</td>\n",
              "      <td>1.000000</td>\n",
              "      <td>0.910228</td>\n",
              "      <td>0.464741</td>\n",
              "      <td>-0.444413</td>\n",
              "      <td>0.488676</td>\n",
              "    </tr>\n",
              "    <tr>\n",
              "      <th>TAX</th>\n",
              "      <td>0.582764</td>\n",
              "      <td>-0.314563</td>\n",
              "      <td>0.720760</td>\n",
              "      <td>-0.035587</td>\n",
              "      <td>0.668023</td>\n",
              "      <td>-0.292048</td>\n",
              "      <td>0.506456</td>\n",
              "      <td>-0.534432</td>\n",
              "      <td>0.910228</td>\n",
              "      <td>1.000000</td>\n",
              "      <td>0.460853</td>\n",
              "      <td>-0.441808</td>\n",
              "      <td>0.543993</td>\n",
              "    </tr>\n",
              "    <tr>\n",
              "      <th>PTRATIO</th>\n",
              "      <td>0.289946</td>\n",
              "      <td>-0.391679</td>\n",
              "      <td>0.383248</td>\n",
              "      <td>-0.121515</td>\n",
              "      <td>0.188933</td>\n",
              "      <td>-0.355501</td>\n",
              "      <td>0.261515</td>\n",
              "      <td>-0.232471</td>\n",
              "      <td>0.464741</td>\n",
              "      <td>0.460853</td>\n",
              "      <td>1.000000</td>\n",
              "      <td>-0.177383</td>\n",
              "      <td>0.374044</td>\n",
              "    </tr>\n",
              "    <tr>\n",
              "      <th>B</th>\n",
              "      <td>-0.385064</td>\n",
              "      <td>0.175520</td>\n",
              "      <td>-0.356977</td>\n",
              "      <td>0.048788</td>\n",
              "      <td>-0.380051</td>\n",
              "      <td>0.128069</td>\n",
              "      <td>-0.273534</td>\n",
              "      <td>0.291512</td>\n",
              "      <td>-0.444413</td>\n",
              "      <td>-0.441808</td>\n",
              "      <td>-0.177383</td>\n",
              "      <td>1.000000</td>\n",
              "      <td>-0.366087</td>\n",
              "    </tr>\n",
              "    <tr>\n",
              "      <th>LSTAT</th>\n",
              "      <td>0.455621</td>\n",
              "      <td>-0.412995</td>\n",
              "      <td>0.603800</td>\n",
              "      <td>-0.053929</td>\n",
              "      <td>0.590879</td>\n",
              "      <td>-0.613808</td>\n",
              "      <td>0.602339</td>\n",
              "      <td>-0.496996</td>\n",
              "      <td>0.488676</td>\n",
              "      <td>0.543993</td>\n",
              "      <td>0.374044</td>\n",
              "      <td>-0.366087</td>\n",
              "      <td>1.000000</td>\n",
              "    </tr>\n",
              "  </tbody>\n",
              "</table>\n",
              "</div>"
            ],
            "text/plain": [
              "             CRIM        ZN     INDUS  ...   PTRATIO         B     LSTAT\n",
              "CRIM     1.000000 -0.200469  0.406583  ...  0.289946 -0.385064  0.455621\n",
              "ZN      -0.200469  1.000000 -0.533828  ... -0.391679  0.175520 -0.412995\n",
              "INDUS    0.406583 -0.533828  1.000000  ...  0.383248 -0.356977  0.603800\n",
              "CHAS    -0.055892 -0.042697  0.062938  ... -0.121515  0.048788 -0.053929\n",
              "NOX      0.420972 -0.516604  0.763651  ...  0.188933 -0.380051  0.590879\n",
              "RM      -0.219247  0.311991 -0.391676  ... -0.355501  0.128069 -0.613808\n",
              "AGE      0.352734 -0.569537  0.644779  ...  0.261515 -0.273534  0.602339\n",
              "DIS     -0.379670  0.664408 -0.708027  ... -0.232471  0.291512 -0.496996\n",
              "RAD      0.625505 -0.311948  0.595129  ...  0.464741 -0.444413  0.488676\n",
              "TAX      0.582764 -0.314563  0.720760  ...  0.460853 -0.441808  0.543993\n",
              "PTRATIO  0.289946 -0.391679  0.383248  ...  1.000000 -0.177383  0.374044\n",
              "B       -0.385064  0.175520 -0.356977  ... -0.177383  1.000000 -0.366087\n",
              "LSTAT    0.455621 -0.412995  0.603800  ...  0.374044 -0.366087  1.000000\n",
              "\n",
              "[13 rows x 13 columns]"
            ]
          },
          "metadata": {
            "tags": []
          },
          "execution_count": 7
        }
      ]
    },
    {
      "cell_type": "code",
      "metadata": {
        "colab": {
          "base_uri": "https://localhost:8080/",
          "height": 566
        },
        "id": "XAMPZQQ2T61n",
        "outputId": "69bb8319-6628-4b38-82f4-df21743bd79e"
      },
      "source": [
        "dataset.hist()"
      ],
      "execution_count": 8,
      "outputs": [
        {
          "output_type": "execute_result",
          "data": {
            "text/plain": [
              "array([[<matplotlib.axes._subplots.AxesSubplot object at 0x7f6bcb8feb50>,\n",
              "        <matplotlib.axes._subplots.AxesSubplot object at 0x7f6bcb8b0790>,\n",
              "        <matplotlib.axes._subplots.AxesSubplot object at 0x7f6bcb887310>,\n",
              "        <matplotlib.axes._subplots.AxesSubplot object at 0x7f6bcb83c990>],\n",
              "       [<matplotlib.axes._subplots.AxesSubplot object at 0x7f6bcb7f4fd0>,\n",
              "        <matplotlib.axes._subplots.AxesSubplot object at 0x7f6bcb7b46d0>,\n",
              "        <matplotlib.axes._subplots.AxesSubplot object at 0x7f6bcb769dd0>,\n",
              "        <matplotlib.axes._subplots.AxesSubplot object at 0x7f6bcb72b3d0>],\n",
              "       [<matplotlib.axes._subplots.AxesSubplot object at 0x7f6bcb72b410>,\n",
              "        <matplotlib.axes._subplots.AxesSubplot object at 0x7f6bcb6e1b90>,\n",
              "        <matplotlib.axes._subplots.AxesSubplot object at 0x7f6bcb6587d0>,\n",
              "        <matplotlib.axes._subplots.AxesSubplot object at 0x7f6bcb60ee50>],\n",
              "       [<matplotlib.axes._subplots.AxesSubplot object at 0x7f6bcb5d0510>,\n",
              "        <matplotlib.axes._subplots.AxesSubplot object at 0x7f6bcb58bd10>,\n",
              "        <matplotlib.axes._subplots.AxesSubplot object at 0x7f6bcb54b3d0>,\n",
              "        <matplotlib.axes._subplots.AxesSubplot object at 0x7f6bcb584a50>]],\n",
              "      dtype=object)"
            ]
          },
          "metadata": {
            "tags": []
          },
          "execution_count": 8
        },
        {
          "output_type": "display_data",
          "data": {
            "image/png": "[encoded data removed]",
            "text/plain": [
              "<Figure size 432x288 with 16 Axes>"
            ]
          },
          "metadata": {
            "tags": [],
            "needs_background": "light"
          }
        }
      ]
    },
    {
      "cell_type": "code",
      "metadata": {
        "colab": {
          "base_uri": "https://localhost:8080/",
          "height": 553
        },
        "id": "mmbvlExyUAZ_",
        "outputId": "64149e98-5931-4895-c677-50656cc69267"
      },
      "source": [
        "dataset.plot(kind='density', subplots=True, layout=(4, 4), legend=False, sharex=False)"
      ],
      "execution_count": 12,
      "outputs": [
        {
          "output_type": "execute_result",
          "data": {
            "text/plain": [
              "array([[<matplotlib.axes._subplots.AxesSubplot object at 0x7f6bc888a590>,\n",
              "        <matplotlib.axes._subplots.AxesSubplot object at 0x7f6bc88d9790>,\n",
              "        <matplotlib.axes._subplots.AxesSubplot object at 0x7f6bc8435610>,\n",
              "        <matplotlib.axes._subplots.AxesSubplot object at 0x7f6bc83e7c90>],\n",
              "       [<matplotlib.axes._subplots.AxesSubplot object at 0x7f6bc83a9350>,\n",
              "        <matplotlib.axes._subplots.AxesSubplot object at 0x7f6bc835e9d0>,\n",
              "        <matplotlib.axes._subplots.AxesSubplot object at 0x7f6bc8301ad0>,\n",
              "        <matplotlib.axes._subplots.AxesSubplot object at 0x7f6bc82d76d0>],\n",
              "       [<matplotlib.axes._subplots.AxesSubplot object at 0x7f6bc82d7710>,\n",
              "        <matplotlib.axes._subplots.AxesSubplot object at 0x7f6bc828be90>,\n",
              "        <matplotlib.axes._subplots.AxesSubplot object at 0x7f6bc8204ad0>,\n",
              "        <matplotlib.axes._subplots.AxesSubplot object at 0x7f6bc81c5190>],\n",
              "       [<matplotlib.axes._subplots.AxesSubplot object at 0x7f6bc81fb810>,\n",
              "        <matplotlib.axes._subplots.AxesSubplot object at 0x7f6bc81b3e90>,\n",
              "        <matplotlib.axes._subplots.AxesSubplot object at 0x7f6bc8172550>,\n",
              "        <matplotlib.axes._subplots.AxesSubplot object at 0x7f6bc8129bd0>]],\n",
              "      dtype=object)"
            ]
          },
          "metadata": {
            "tags": []
          },
          "execution_count": 12
        },
        {
          "output_type": "display_data",
          "data": {
            "image/png": "[encoded data removed]",
            "text/plain": [
              "<Figure size 432x288 with 16 Axes>"
            ]
          },
          "metadata": {
            "tags": [],
            "needs_background": "light"
          }
        }
      ]
    },
    {
      "cell_type": "markdown",
      "metadata": {
        "id": "_kjtt1oEUyL-"
      },
      "source": [
        "**Summary**\n",
        "  * feature selection and removeing the most correlated attributes\n",
        "  * normalizing the dataset\n",
        "  * standardizing"
      ]
    },
    {
      "cell_type": "code",
      "metadata": {
        "id": "QKjh5HkMUxy-"
      },
      "source": [
        "x_train, x_test, y_train, y_test = train_test_split(X, y, test_size=0.2, random_state=2)"
      ],
      "execution_count": 13,
      "outputs": []
    },
    {
      "cell_type": "code",
      "metadata": {
        "id": "dtbPmLS1VLYE"
      },
      "source": [
        "num_folds = 10\n",
        "scoring = 'neg_mean_squared_error'"
      ],
      "execution_count": 17,
      "outputs": []
    },
    {
      "cell_type": "code",
      "metadata": {
        "id": "b7LnuuX3VTwH"
      },
      "source": [
        "models = []\n",
        "models.append((\"LR\", LinearRegression()))\n",
        "models.append((\"LASSO\", Lasso()))\n",
        "models.append((\"ridge\", Ridge()))\n",
        "models.append((\"en\", ElasticNet()))\n",
        "models.append((\"neighbor\", KNeighborsRegressor()))\n",
        "models.append((\"tree\", DecisionTreeRegressor()))\n",
        "models.append((\"svr\", SVR()))"
      ],
      "execution_count": 14,
      "outputs": []
    },
    {
      "cell_type": "code",
      "metadata": {
        "colab": {
          "base_uri": "https://localhost:8080/"
        },
        "id": "ZNvufEZBVv6W",
        "outputId": "3d87d951-aa8f-4faa-f765-e71ba606cb5e"
      },
      "source": [
        "results = []\n",
        "names = []\n",
        "for (name, model) in models:\n",
        "  kfold = KFold(n_splits=num_folds, random_state=10)\n",
        "  cv_results = cross_val_score(model, x_train, y_train, cv=kfold, scoring=scoring)\n",
        "  results.append(cv_results)\n",
        "  names.append(name)\n",
        "  print (\"Name: {2} mean: {0} std {1}\".format(cv_results.mean(), cv_results.std(), name))"
      ],
      "execution_count": 18,
      "outputs": [
        {
          "output_type": "stream",
          "text": [
            "/usr/local/lib/python3.7/dist-packages/sklearn/model_selection/_split.py:296: FutureWarning: Setting a random_state has no effect since shuffle is False. This will raise an error in 0.24. You should leave random_state to its default (None), or set shuffle=True.\n",
            "  FutureWarning\n",
            "/usr/local/lib/python3.7/dist-packages/sklearn/model_selection/_split.py:296: FutureWarning: Setting a random_state has no effect since shuffle is False. This will raise an error in 0.24. You should leave random_state to its default (None), or set shuffle=True.\n",
            "  FutureWarning\n",
            "/usr/local/lib/python3.7/dist-packages/sklearn/model_selection/_split.py:296: FutureWarning: Setting a random_state has no effect since shuffle is False. This will raise an error in 0.24. You should leave random_state to its default (None), or set shuffle=True.\n",
            "  FutureWarning\n",
            "/usr/local/lib/python3.7/dist-packages/sklearn/model_selection/_split.py:296: FutureWarning: Setting a random_state has no effect since shuffle is False. This will raise an error in 0.24. You should leave random_state to its default (None), or set shuffle=True.\n",
            "  FutureWarning\n",
            "/usr/local/lib/python3.7/dist-packages/sklearn/model_selection/_split.py:296: FutureWarning: Setting a random_state has no effect since shuffle is False. This will raise an error in 0.24. You should leave random_state to its default (None), or set shuffle=True.\n",
            "  FutureWarning\n",
            "/usr/local/lib/python3.7/dist-packages/sklearn/model_selection/_split.py:296: FutureWarning: Setting a random_state has no effect since shuffle is False. This will raise an error in 0.24. You should leave random_state to its default (None), or set shuffle=True.\n",
            "  FutureWarning\n",
            "/usr/local/lib/python3.7/dist-packages/sklearn/model_selection/_split.py:296: FutureWarning: Setting a random_state has no effect since shuffle is False. This will raise an error in 0.24. You should leave random_state to its default (None), or set shuffle=True.\n",
            "  FutureWarning\n"
          ],
          "name": "stderr"
        },
        {
          "output_type": "stream",
          "text": [
            "Name: LR mean: -24.6577033673901 std 9.239461454891948\n",
            "Name: LASSO mean: -29.503909143155305 std 9.682356800157159\n",
            "Name: ridge mean: -24.846657795311707 std 9.559334168813042\n",
            "Name: en mean: -28.808324571085063 std 9.203132940855609\n",
            "Name: neighbor mean: -41.40529765853659 std 9.375430878821192\n",
            "Name: tree mean: -20.989751829268293 std 11.584578117017427\n",
            "Name: svr mean: -70.1087572238431 std 29.34561204555733\n"
          ],
          "name": "stdout"
        }
      ]
    },
    {
      "cell_type": "code",
      "metadata": {
        "colab": {
          "base_uri": "https://localhost:8080/",
          "height": 382
        },
        "id": "rU1OfjnjWYxO",
        "outputId": "8122dce6-ef61-4bb6-eede-3dc6ed9d5253"
      },
      "source": [
        "fig = plt.pyplot.figure()\n",
        "ax = fig.add_subplot(111)\n",
        "plt.pyplot.boxplot(results)\n",
        "ax.set_xticklabels(names)\n",
        "\n"
      ],
      "execution_count": 21,
      "outputs": [
        {
          "output_type": "execute_result",
          "data": {
            "text/plain": [
              "[Text(0, 0, 'LR'),\n",
              " Text(0, 0, 'LASSO'),\n",
              " Text(0, 0, 'ridge'),\n",
              " Text(0, 0, 'en'),\n",
              " Text(0, 0, 'neighbor'),\n",
              " Text(0, 0, 'tree'),\n",
              " Text(0, 0, 'svr')]"
            ]
          },
          "metadata": {
            "tags": []
          },
          "execution_count": 21
        },
        {
          "output_type": "display_data",
          "data": {
            "image/png": "[encoded data removed]",
            "text/plain": [
              "<Figure size 432x288 with 1 Axes>"
            ]
          },
          "metadata": {
            "tags": [],
            "needs_background": "light"
          }
        }
      ]
    },
    {
      "cell_type": "code",
      "metadata": {
        "colab": {
          "base_uri": "https://localhost:8080/"
        },
        "id": "QVN1AjGdW-H2",
        "outputId": "730e6916-672e-4293-d6b1-d5896c75df20"
      },
      "source": [
        "pipelines = []\n",
        "pipelines.append((\"scaledLR\", Pipeline([(\"scaler\", StandardScaler()), (\"LR\", LinearRegression())])))\n",
        "pipelines.append((\"scaledRidge\", Pipeline([(\"scaler\", StandardScaler()), (\"Ridge\", Ridge())])))\n",
        "pipelines.append((\"scaledEn\", Pipeline([(\"scaler\", StandardScaler()), (\"EN\", ElasticNet())])))\n",
        "pipelines.append((\"scaledNeighbors\", Pipeline([(\"scaler\", StandardScaler()), (\"Neighbors\", KNeighborsRegressor())])))\n",
        "pipelines.append((\"scaledsvr\", Pipeline([(\"scaler\", StandardScaler()), (\"svr\", SVR())])))\n",
        "pipelines.append((\"scaledtree\", Pipeline([(\"scaler\", StandardScaler()), (\"svr\", DecisionTreeRegressor())])))\n",
        "\n",
        "results = []\n",
        "names = []\n",
        "for (name, model) in pipelines:\n",
        "  kfold = KFold(n_splits=num_folds, random_state=10)\n",
        "  cv_results = cross_val_score(model, x_train, y_train, cv=kfold, scoring=scoring)\n",
        "  results.append(cv_results)\n",
        "  names.append(name)\n",
        "  print (\"Name: {2} mean: {0} std {1}\".format(cv_results.mean(), cv_results.std(), name))"
      ],
      "execution_count": 25,
      "outputs": [
        {
          "output_type": "stream",
          "text": [
            "/usr/local/lib/python3.7/dist-packages/sklearn/model_selection/_split.py:296: FutureWarning: Setting a random_state has no effect since shuffle is False. This will raise an error in 0.24. You should leave random_state to its default (None), or set shuffle=True.\n",
            "  FutureWarning\n",
            "/usr/local/lib/python3.7/dist-packages/sklearn/model_selection/_split.py:296: FutureWarning: Setting a random_state has no effect since shuffle is False. This will raise an error in 0.24. You should leave random_state to its default (None), or set shuffle=True.\n",
            "  FutureWarning\n",
            "/usr/local/lib/python3.7/dist-packages/sklearn/model_selection/_split.py:296: FutureWarning: Setting a random_state has no effect since shuffle is False. This will raise an error in 0.24. You should leave random_state to its default (None), or set shuffle=True.\n",
            "  FutureWarning\n",
            "/usr/local/lib/python3.7/dist-packages/sklearn/model_selection/_split.py:296: FutureWarning: Setting a random_state has no effect since shuffle is False. This will raise an error in 0.24. You should leave random_state to its default (None), or set shuffle=True.\n",
            "  FutureWarning\n",
            "/usr/local/lib/python3.7/dist-packages/sklearn/model_selection/_split.py:296: FutureWarning: Setting a random_state has no effect since shuffle is False. This will raise an error in 0.24. You should leave random_state to its default (None), or set shuffle=True.\n",
            "  FutureWarning\n"
          ],
          "name": "stderr"
        },
        {
          "output_type": "stream",
          "text": [
            "Name: scaledLR mean: -24.657703367390027 std 9.239461454891922\n",
            "Name: scaledRidge mean: -24.652734799317088 std 9.273075760369155\n",
            "Name: scaledEn mean: -32.0191207638411 std 13.24547333065221\n",
            "Name: scaledNeighbors mean: -25.015972219512193 std 11.41966298560534\n",
            "Name: scaledsvr mean: -33.89847883181062 std 16.617995303978336\n",
            "Name: scaledtree mean: -20.8412506097561 std 11.000982129255117\n"
          ],
          "name": "stdout"
        },
        {
          "output_type": "stream",
          "text": [
            "/usr/local/lib/python3.7/dist-packages/sklearn/model_selection/_split.py:296: FutureWarning: Setting a random_state has no effect since shuffle is False. This will raise an error in 0.24. You should leave random_state to its default (None), or set shuffle=True.\n",
            "  FutureWarning\n"
          ],
          "name": "stderr"
        }
      ]
    },
    {
      "cell_type": "code",
      "metadata": {
        "colab": {
          "base_uri": "https://localhost:8080/",
          "height": 366
        },
        "id": "W7Mx6dsiYDOR",
        "outputId": "2a56ac50-10d4-4c63-d206-d8da8cf90de4"
      },
      "source": [
        "fig = plt.pyplot.figure()\n",
        "ax = fig.add_subplot(111)\n",
        "plt.pyplot.boxplot(results)\n",
        "ax.set_xticklabels(names)"
      ],
      "execution_count": 26,
      "outputs": [
        {
          "output_type": "execute_result",
          "data": {
            "text/plain": [
              "[Text(0, 0, 'scaledLR'),\n",
              " Text(0, 0, 'scaledRidge'),\n",
              " Text(0, 0, 'scaledEn'),\n",
              " Text(0, 0, 'scaledNeighbors'),\n",
              " Text(0, 0, 'scaledsvr'),\n",
              " Text(0, 0, 'scaledtree')]"
            ]
          },
          "metadata": {
            "tags": []
          },
          "execution_count": 26
        },
        {
          "output_type": "display_data",
          "data": {
            "image/png": "[encoded data removed]",
            "text/plain": [
              "<Figure size 432x288 with 1 Axes>"
            ]
          },
          "metadata": {
            "tags": [],
            "needs_background": "light"
          }
        }
      ]
    },
    {
      "cell_type": "code",
      "metadata": {
        "colab": {
          "base_uri": "https://localhost:8080/"
        },
        "id": "h7kSTEw_dbFQ",
        "outputId": "bd3e3efa-e1f0-4237-9e80-129dc1c15bf7"
      },
      "source": [
        "scaler = StandardScaler().fit_transform(x_train)\n",
        "k_values = {\n",
        "    \"n_neighbors\": [3, 5, 7, 9, 11]\n",
        "}\n",
        "model = KNeighborsRegressor()\n",
        "kfold = KFold(n_splits=num_folds, random_state=10)\n",
        "grid = GridSearchCV(model, k_values, scoring=scoring, cv=kfold)\n",
        "grid_result = grid.fit(scaler, y_train)\n",
        "grid_result.best_params_"
      ],
      "execution_count": 29,
      "outputs": [
        {
          "output_type": "stream",
          "text": [
            "/usr/local/lib/python3.7/dist-packages/sklearn/model_selection/_split.py:296: FutureWarning: Setting a random_state has no effect since shuffle is False. This will raise an error in 0.24. You should leave random_state to its default (None), or set shuffle=True.\n",
            "  FutureWarning\n"
          ],
          "name": "stderr"
        },
        {
          "output_type": "execute_result",
          "data": {
            "text/plain": [
              "{'n_neighbors': 3}"
            ]
          },
          "metadata": {
            "tags": []
          },
          "execution_count": 29
        }
      ]
    },
    {
      "cell_type": "markdown",
      "metadata": {
        "id": "zRBqe7tBeYeY"
      },
      "source": [
        "**Ensemble**\n"
      ]
    },
    {
      "cell_type": "code",
      "metadata": {
        "colab": {
          "base_uri": "https://localhost:8080/"
        },
        "id": "tIfojDj8ef9H",
        "outputId": "9921f11d-965c-48f1-be8c-a7b184136305"
      },
      "source": [
        "pipelines = []\n",
        "pipelines.append((\"scaledAB\", Pipeline([(\"scaler\", StandardScaler()), (\"AB\", AdaBoostRegressor())])))\n",
        "pipelines.append((\"scaledGB\", Pipeline([(\"scaler\", StandardScaler()), (\"GB\", GradientBoostingRegressor())])))\n",
        "pipelines.append((\"scaledRF\", Pipeline([(\"scaler\", StandardScaler()), (\"RF\", RandomForestRegressor())])))\n",
        "pipelines.append((\"scaledET\", Pipeline([(\"scaler\", StandardScaler()), (\"ET\", ExtraTreesRegressor())])))\n",
        "\n",
        "results = []\n",
        "names = []\n",
        "for (name, model) in pipelines:\n",
        "  kfold = KFold(n_splits=num_folds, random_state=10)\n",
        "  cv_results = cross_val_score(model, x_train, y_train, cv=kfold, scoring=scoring)\n",
        "  results.append(cv_results)\n",
        "  names.append(name)\n",
        "  print (\"Name: {2} mean: {0} std {1}\".format(cv_results.mean(), cv_results.std(), name))"
      ],
      "execution_count": 31,
      "outputs": [
        {
          "output_type": "stream",
          "text": [
            "/usr/local/lib/python3.7/dist-packages/sklearn/model_selection/_split.py:296: FutureWarning: Setting a random_state has no effect since shuffle is False. This will raise an error in 0.24. You should leave random_state to its default (None), or set shuffle=True.\n",
            "  FutureWarning\n"
          ],
          "name": "stderr"
        },
        {
          "output_type": "stream",
          "text": [
            "Name: scaledAB mean: -13.923383524219862 std 5.3444207474163115\n"
          ],
          "name": "stdout"
        },
        {
          "output_type": "stream",
          "text": [
            "/usr/local/lib/python3.7/dist-packages/sklearn/model_selection/_split.py:296: FutureWarning: Setting a random_state has no effect since shuffle is False. This will raise an error in 0.24. You should leave random_state to its default (None), or set shuffle=True.\n",
            "  FutureWarning\n"
          ],
          "name": "stderr"
        },
        {
          "output_type": "stream",
          "text": [
            "Name: scaledGB mean: -9.16978020781752 std 4.006894960979697\n"
          ],
          "name": "stdout"
        },
        {
          "output_type": "stream",
          "text": [
            "/usr/local/lib/python3.7/dist-packages/sklearn/model_selection/_split.py:296: FutureWarning: Setting a random_state has no effect since shuffle is False. This will raise an error in 0.24. You should leave random_state to its default (None), or set shuffle=True.\n",
            "  FutureWarning\n"
          ],
          "name": "stderr"
        },
        {
          "output_type": "stream",
          "text": [
            "Name: scaledRF mean: -10.745222076402435 std 4.61459104952213\n"
          ],
          "name": "stdout"
        },
        {
          "output_type": "stream",
          "text": [
            "/usr/local/lib/python3.7/dist-packages/sklearn/model_selection/_split.py:296: FutureWarning: Setting a random_state has no effect since shuffle is False. This will raise an error in 0.24. You should leave random_state to its default (None), or set shuffle=True.\n",
            "  FutureWarning\n"
          ],
          "name": "stderr"
        },
        {
          "output_type": "stream",
          "text": [
            "Name: scaledET mean: -9.78007005890243 std 4.979548119279083\n"
          ],
          "name": "stdout"
        }
      ]
    },
    {
      "cell_type": "code",
      "metadata": {
        "colab": {
          "base_uri": "https://localhost:8080/",
          "height": 752
        },
        "id": "8bS4E6mkfG6Q",
        "outputId": "3e93cec2-ed10-49be-f4f7-b6348dddc48f"
      },
      "source": [
        "plt.pyplot.boxplot(results)"
      ],
      "execution_count": 32,
      "outputs": [
        {
          "output_type": "execute_result",
          "data": {
            "text/plain": [
              "{'boxes': [<matplotlib.lines.Line2D at 0x7f6bbac22510>,\n",
              "  <matplotlib.lines.Line2D at 0x7f6bbac2fb10>,\n",
              "  <matplotlib.lines.Line2D at 0x7f6bbabc6090>,\n",
              "  <matplotlib.lines.Line2D at 0x7f6bbabd5650>],\n",
              " 'caps': [<matplotlib.lines.Line2D at 0x7f6bbac28590>,\n",
              "  <matplotlib.lines.Line2D at 0x7f6bbac28ad0>,\n",
              "  <matplotlib.lines.Line2D at 0x7f6bbac36ad0>,\n",
              "  <matplotlib.lines.Line2D at 0x7f6bbac3f050>,\n",
              "  <matplotlib.lines.Line2D at 0x7f6bbabcc090>,\n",
              "  <matplotlib.lines.Line2D at 0x7f6bbabcc610>,\n",
              "  <matplotlib.lines.Line2D at 0x7f6bbabdd610>,\n",
              "  <matplotlib.lines.Line2D at 0x7f6bbabddb50>],\n",
              " 'fliers': [<matplotlib.lines.Line2D at 0x7f6bbac2f5d0>,\n",
              "  <matplotlib.lines.Line2D at 0x7f6bbac3fad0>,\n",
              "  <matplotlib.lines.Line2D at 0x7f6bbabd50d0>,\n",
              "  <matplotlib.lines.Line2D at 0x7f6bbabe5610>],\n",
              " 'means': [],\n",
              " 'medians': [<matplotlib.lines.Line2D at 0x7f6bbac2f090>,\n",
              "  <matplotlib.lines.Line2D at 0x7f6bbac3f590>,\n",
              "  <matplotlib.lines.Line2D at 0x7f6bbabccb50>,\n",
              "  <matplotlib.lines.Line2D at 0x7f6bbabe50d0>],\n",
              " 'whiskers': [<matplotlib.lines.Line2D at 0x7f6bbac22b10>,\n",
              "  <matplotlib.lines.Line2D at 0x7f6bbac28050>,\n",
              "  <matplotlib.lines.Line2D at 0x7f6bbac36090>,\n",
              "  <matplotlib.lines.Line2D at 0x7f6bbac36590>,\n",
              "  <matplotlib.lines.Line2D at 0x7f6bbabc6590>,\n",
              "  <matplotlib.lines.Line2D at 0x7f6bbabc6b10>,\n",
              "  <matplotlib.lines.Line2D at 0x7f6bbabd5b50>,\n",
              "  <matplotlib.lines.Line2D at 0x7f6bbabdd0d0>]}"
            ]
          },
          "metadata": {
            "tags": []
          },
          "execution_count": 32
        },
        {
          "output_type": "display_data",
          "data": {
            "image/png": "[encoded data removed]",
            "text/plain": [
              "<Figure size 432x288 with 1 Axes>"
            ]
          },
          "metadata": {
            "tags": [],
            "needs_background": "light"
          }
        }
      ]
    }
  ]
}
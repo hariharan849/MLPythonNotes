{
  "nbformat": 4,
  "nbformat_minor": 0,
  "metadata": {
    "colab": {
      "name": "Untitled73.ipynb",
      "provenance": []
    },
    "kernelspec": {
      "name": "python3",
      "display_name": "Python 3"
    },
    "language_info": {
      "name": "python"
    }
  },
  "cells": [
    {
      "cell_type": "markdown",
      "metadata": {
        "id": "BsiDcgkOUdkJ"
      },
      "source": [
        "***Clustering***\n",
        "\n",
        "  **K Means Clustering**\n",
        "\n",
        "      assigns data points to the nearest cluster points and setting each cluster center as a mean of data points that are assigned to it\n",
        "\n",
        "\n"
      ]
    },
    {
      "cell_type": "code",
      "metadata": {
        "colab": {
          "base_uri": "https://localhost:8080/"
        },
        "id": "rkd1o_XaUV8n",
        "outputId": "3f9ad75b-2fbc-4b89-c053-e7a7bbf42a8e"
      },
      "source": [
        "from sklearn.datasets import make_blobs\n",
        "from sklearn.cluster import KMeans\n",
        "\n",
        "X, y = make_blobs()\n",
        "\n",
        "k_means = KMeans(n_clusters=3)\n",
        "k_means.fit(X)\n",
        "\n",
        "k_means.labels_"
      ],
      "execution_count": 5,
      "outputs": [
        {
          "output_type": "execute_result",
          "data": {
            "text/plain": [
              "array([1, 0, 2, 2, 1, 2, 0, 1, 1, 2, 2, 1, 0, 1, 1, 2, 2, 1, 1, 0, 2, 2,\n",
              "       0, 0, 0, 1, 0, 2, 1, 1, 2, 2, 2, 2, 1, 2, 0, 0, 1, 2, 0, 1, 1, 0,\n",
              "       0, 0, 2, 1, 1, 2, 0, 1, 0, 1, 1, 1, 2, 2, 2, 2, 0, 2, 0, 1, 0, 2,\n",
              "       0, 2, 2, 2, 1, 1, 2, 1, 1, 0, 2, 0, 0, 0, 2, 2, 1, 0, 0, 1, 0, 1,\n",
              "       2, 1, 2, 0, 0, 0, 0, 1, 0, 1, 0, 2], dtype=int32)"
            ]
          },
          "metadata": {
            "tags": []
          },
          "execution_count": 5
        }
      ]
    },
    {
      "cell_type": "markdown",
      "metadata": {
        "id": "ddZ9U1MzZ7ki"
      },
      "source": [
        "***Agglomerative clustering***\n",
        "\n",
        "  the algorithm starts by declaring each point its own cluster and then merges two similar clusters until the stopping criterion is satisfied\n",
        "\n",
        "  ward -> default, two clusters a re merged such that variance within all clusters increases the least\n",
        "  average -> smallest average distance between all their points\n",
        "  complete -> 2 clusters that have small maximum distance between their points"
      ]
    },
    {
      "cell_type": "code",
      "metadata": {
        "colab": {
          "base_uri": "https://localhost:8080/"
        },
        "id": "bUNzXIxSauko",
        "outputId": "fb6c178b-25be-419e-9ab2-545457b35832"
      },
      "source": [
        "from sklearn.datasets import make_blobs\n",
        "from sklearn.cluster import AgglomerativeClustering\n",
        "\n",
        "X, y = make_blobs()\n",
        "\n",
        "k_means = AgglomerativeClustering(n_clusters=3)\n",
        "k_means.fit(X)\n",
        "\n",
        "k_means.labels_"
      ],
      "execution_count": 6,
      "outputs": [
        {
          "output_type": "execute_result",
          "data": {
            "text/plain": [
              "array([1, 2, 2, 2, 2, 1, 1, 2, 1, 0, 1, 1, 1, 2, 1, 0, 0, 1, 1, 0, 0, 2,\n",
              "       0, 2, 2, 1, 1, 0, 0, 1, 1, 2, 1, 0, 2, 0, 2, 0, 2, 2, 1, 1, 2, 1,\n",
              "       2, 2, 2, 2, 0, 2, 0, 1, 2, 1, 1, 2, 0, 0, 2, 2, 0, 0, 2, 1, 2, 2,\n",
              "       1, 0, 1, 0, 0, 1, 0, 0, 1, 2, 1, 0, 2, 0, 0, 1, 1, 0, 2, 0, 1, 1,\n",
              "       1, 0, 0, 0, 1, 1, 0, 2, 0, 2, 2, 0])"
            ]
          },
          "metadata": {
            "tags": []
          },
          "execution_count": 6
        }
      ]
    },
    {
      "cell_type": "markdown",
      "metadata": {
        "id": "s3viV4_Ya8tD"
      },
      "source": [
        "***DBSCAN***"
      ]
    },
    {
      "cell_type": "code",
      "metadata": {
        "colab": {
          "base_uri": "https://localhost:8080/"
        },
        "id": "Ttz-oIKlbBVZ",
        "outputId": "c9818f7d-5018-4474-8655-e7b591bfeadb"
      },
      "source": [
        "from sklearn.datasets import make_moons\n",
        "from sklearn.preprocessing import StandardScaler\n",
        "from sklearn.cluster import DBSCAN\n",
        "\n",
        "X, y = make_moons(n_samples=200, noise=0.05)\n",
        "scaler = StandardScaler()\n",
        "X_scaled = scaler.fit_transform(X)\n",
        "\n",
        "dbscan = DBSCAN()\n",
        "dbscan.fit_predict(X_scaled)\n",
        "\n",
        "dbscan.labels_"
      ],
      "execution_count": 9,
      "outputs": [
        {
          "output_type": "execute_result",
          "data": {
            "text/plain": [
              "array([0, 0, 0, 1, 1, 0, 0, 1, 0, 1, 1, 1, 0, 1, 1, 0, 1, 1, 0, 0, 1, 0,\n",
              "       1, 1, 0, 1, 1, 1, 0, 0, 0, 1, 0, 1, 1, 0, 1, 1, 0, 0, 1, 0, 1, 0,\n",
              "       0, 1, 1, 1, 0, 0, 0, 1, 0, 1, 0, 0, 1, 0, 1, 0, 1, 1, 1, 0, 0, 1,\n",
              "       0, 1, 1, 0, 0, 1, 1, 1, 0, 1, 0, 0, 0, 0, 1, 1, 0, 1, 0, 1, 0, 0,\n",
              "       0, 1, 0, 1, 1, 1, 0, 1, 1, 0, 0, 0, 0, 1, 0, 0, 1, 0, 0, 0, 1, 1,\n",
              "       0, 0, 1, 0, 1, 0, 0, 0, 1, 0, 1, 1, 0, 1, 0, 1, 0, 0, 1, 1, 1, 1,\n",
              "       1, 1, 0, 0, 1, 0, 0, 0, 1, 0, 1, 0, 1, 1, 1, 0, 1, 1, 0, 1, 1, 1,\n",
              "       1, 0, 1, 0, 1, 0, 0, 0, 0, 0, 0, 1, 1, 0, 1, 0, 0, 0, 0, 1, 1, 0,\n",
              "       1, 1, 1, 1, 0, 0, 0, 1, 0, 0, 0, 1, 0, 1, 1, 1, 0, 1, 1, 1, 1, 1,\n",
              "       0, 0])"
            ]
          },
          "metadata": {
            "tags": []
          },
          "execution_count": 9
        }
      ]
    }
  ]
}
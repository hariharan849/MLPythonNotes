{
  "nbformat": 4,
  "nbformat_minor": 0,
  "metadata": {
    "colab": {
      "name": "classification.ipynb",
      "provenance": []
    },
    "kernelspec": {
      "name": "python3",
      "display_name": "Python 3"
    },
    "language_info": {
      "name": "python"
    }
  },
  "cells": [
    {
      "cell_type": "markdown",
      "metadata": {
        "id": "mb7SF31DxARa"
      },
      "source": [
        "*Classification Metrics*"
      ]
    },
    {
      "cell_type": "code",
      "metadata": {
        "id": "VGC9pmomxFR3"
      },
      "source": [
        "from sklearn.model_selection import cross_val_score, ShuffleSplit\n",
        "from sklearn.linear_model import LogisticRegression\n",
        "from sklearn.datasets import load_breast_cancer"
      ],
      "execution_count": null,
      "outputs": []
    },
    {
      "cell_type": "code",
      "metadata": {
        "id": "gZrEwz0mxL5m"
      },
      "source": [
        "X, y = load_breast_cancer(return_X_y=True)"
      ],
      "execution_count": null,
      "outputs": []
    },
    {
      "cell_type": "markdown",
      "metadata": {
        "id": "mE9BCVY-JCgb"
      },
      "source": [
        "***Accuracy***\n",
        "  * no.of correct predisctions/all predictions"
      ]
    },
    {
      "cell_type": "code",
      "metadata": {
        "colab": {
          "base_uri": "https://localhost:8080/"
        },
        "id": "wE4qI-RlxeKl",
        "outputId": "0c3ae16a-676e-425e-9087-c10b29892d07"
      },
      "source": [
        "fold = ShuffleSplit()\n",
        "scoring = \"accuracy\"\n",
        "print (cross_val_score(LogisticRegression(max_iter=10000), X, y, cv=fold, scoring=scoring))"
      ],
      "execution_count": null,
      "outputs": [
        {
          "output_type": "stream",
          "text": [
            "[0.98245614 0.92982456 0.94736842 0.96491228 0.98245614 0.92982456\n",
            " 0.94736842 0.89473684 0.94736842 0.98245614]\n"
          ],
          "name": "stdout"
        }
      ]
    },
    {
      "cell_type": "markdown",
      "metadata": {
        "id": "3uvfN8VbKvfY"
      },
      "source": [
        "**Logarithmic loss**\n",
        "  * prediction of probabilities of membership of class\n",
        "  * scale is 0 to 1"
      ]
    },
    {
      "cell_type": "code",
      "metadata": {
        "colab": {
          "base_uri": "https://localhost:8080/"
        },
        "id": "xJBjvxCEK-p6",
        "outputId": "7abd2ceb-917c-46e9-91d8-97e325a6e14b"
      },
      "source": [
        "scoring = \"neg_log_loss\"\n",
        "print (cross_val_score(LogisticRegression(max_iter=10000), X, y, cv=fold, scoring=scoring))"
      ],
      "execution_count": null,
      "outputs": [
        {
          "output_type": "stream",
          "text": [
            "[-0.06291549 -0.09761148 -0.06543244 -0.14173488 -0.12851281 -0.06272499\n",
            " -0.10825992 -0.16259661 -0.08661765 -0.01334574]\n"
          ],
          "name": "stdout"
        }
      ]
    },
    {
      "cell_type": "markdown",
      "metadata": {
        "id": "VECrvA_QLGEV"
      },
      "source": [
        "**Area under ROC curve**\n",
        "  * Metric for binary classification between true positive rate(sensitivity/recall) and true negative rate(specificity)"
      ]
    },
    {
      "cell_type": "code",
      "metadata": {
        "colab": {
          "base_uri": "https://localhost:8080/"
        },
        "id": "MfScFFqzLm0_",
        "outputId": "f73a6313-92a4-4d3b-a9bb-3bf2fb4b7f14"
      },
      "source": [
        "scoring = \"roc_auc\"\n",
        "print (cross_val_score(LogisticRegression(max_iter=10000), X, y, cv=fold, scoring=scoring))"
      ],
      "execution_count": null,
      "outputs": [
        {
          "output_type": "stream",
          "text": [
            "[0.99494949 0.99338624 1.         0.98243243 0.99872123 0.99206349\n",
            " 0.9961039  0.99382716 0.99459459 0.9769821 ]\n"
          ],
          "name": "stdout"
        }
      ]
    },
    {
      "cell_type": "code",
      "metadata": {
        "id": "VtyQgfhYMiLO"
      },
      "source": [
        "scoring = \"precision\"\n",
        "print (cross_val_score(LogisticRegression(max_iter=10000), X, y, cv=fold, scoring=scoring))\n",
        "scoring = \"recall\"\n",
        "print (cross_val_score(LogisticRegression(max_iter=10000), X, y, cv=fold, scoring=scoring))\n",
        "scoring = \"f1\"\n",
        "print (cross_val_score(LogisticRegression(max_iter=10000), X, y, cv=fold, scoring=scoring))"
      ],
      "execution_count": null,
      "outputs": []
    },
    {
      "cell_type": "markdown",
      "metadata": {
        "id": "ZNZ4OBvvLwRv"
      },
      "source": [
        "**Confusion matrix**\n",
        "  * rows -> Actual True, Actual False\n",
        "  * columns -> Predicted True, Predicted False\n",
        "  * useful for precision/recall"
      ]
    },
    {
      "cell_type": "code",
      "metadata": {
        "colab": {
          "base_uri": "https://localhost:8080/"
        },
        "id": "74rYErMELvBH",
        "outputId": "d9b8f148-358b-4192-ccad-85c014cc8df3"
      },
      "source": [
        "from sklearn.metrics import confusion_matrix\n",
        "from sklearn.model_selection import train_test_split\n",
        "X_train, X_test, y_train, y_test = train_test_split(X, y, test_size=0.3, random_state=2)\n",
        "model = LogisticRegression().fit(X_train, y_train)\n",
        "predicted = model.predict(X_test)\n",
        "confusion_matrix(y_test, predicted)"
      ],
      "execution_count": null,
      "outputs": [
        {
          "output_type": "stream",
          "text": [
            "/usr/local/lib/python3.7/dist-packages/sklearn/linear_model/_logistic.py:940: ConvergenceWarning: lbfgs failed to converge (status=1):\n",
            "STOP: TOTAL NO. of ITERATIONS REACHED LIMIT.\n",
            "\n",
            "Increase the number of iterations (max_iter) or scale the data as shown in:\n",
            "    https://scikit-learn.org/stable/modules/preprocessing.html\n",
            "Please also refer to the documentation for alternative solver options:\n",
            "    https://scikit-learn.org/stable/modules/linear_model.html#logistic-regression\n",
            "  extra_warning_msg=_LOGISTIC_SOLVER_CONVERGENCE_MSG)\n"
          ],
          "name": "stderr"
        },
        {
          "output_type": "execute_result",
          "data": {
            "text/plain": [
              "array([[59,  8],\n",
              "       [ 6, 98]])"
            ]
          },
          "metadata": {
            "tags": []
          },
          "execution_count": 17
        }
      ]
    },
    {
      "cell_type": "markdown",
      "metadata": {
        "id": "6W7nhV7eM5IS"
      },
      "source": [
        "**Classification Report**\n",
        "  * displayes precision, recall, F1 score"
      ]
    },
    {
      "cell_type": "code",
      "metadata": {
        "colab": {
          "base_uri": "https://localhost:8080/",
          "height": 223
        },
        "id": "jjUItmjpM2_5",
        "outputId": "57b58223-e0a6-482b-8f9d-02218bf5ec89"
      },
      "source": [
        "from sklearn.metrics import classification_report\n",
        "from sklearn.model_selection import train_test_split\n",
        "X_train, X_test, y_train, y_test = train_test_split(X, y, test_size=0.3, random_state=2)\n",
        "model = LogisticRegression().fit(X_train, y_train)\n",
        "predicted = model.predict(X_test)\n",
        "classification_report(y_test, predicted)"
      ],
      "execution_count": null,
      "outputs": [
        {
          "output_type": "stream",
          "text": [
            "/usr/local/lib/python3.7/dist-packages/sklearn/linear_model/_logistic.py:940: ConvergenceWarning: lbfgs failed to converge (status=1):\n",
            "STOP: TOTAL NO. of ITERATIONS REACHED LIMIT.\n",
            "\n",
            "Increase the number of iterations (max_iter) or scale the data as shown in:\n",
            "    https://scikit-learn.org/stable/modules/preprocessing.html\n",
            "Please also refer to the documentation for alternative solver options:\n",
            "    https://scikit-learn.org/stable/modules/linear_model.html#logistic-regression\n",
            "  extra_warning_msg=_LOGISTIC_SOLVER_CONVERGENCE_MSG)\n"
          ],
          "name": "stderr"
        },
        {
          "output_type": "execute_result",
          "data": {
            "application/vnd.google.colaboratory.intrinsic+json": {
              "type": "string"
            },
            "text/plain": [
              "'              precision    recall  f1-score   support\\n\\n           0       0.91      0.88      0.89        67\\n           1       0.92      0.94      0.93       104\\n\\n    accuracy                           0.92       171\\n   macro avg       0.92      0.91      0.91       171\\nweighted avg       0.92      0.92      0.92       171\\n'"
            ]
          },
          "metadata": {
            "tags": []
          },
          "execution_count": 3
        }
      ]
    },
    {
      "cell_type": "markdown",
      "metadata": {
        "id": "Xvo4bEsxfU48"
      },
      "source": [
        "**precision recall curve**\n",
        "  better the model if plot stays high on top right"
      ]
    },
    {
      "cell_type": "code",
      "metadata": {
        "id": "El0Y41wWfdjD"
      },
      "source": [
        "from sklearn.metrics import precision_recall_curve\n",
        "precision, recall, thresholds = precision_recall_curve(y_test, model.decision_function(X_test))"
      ],
      "execution_count": null,
      "outputs": []
    },
    {
      "cell_type": "code",
      "metadata": {
        "colab": {
          "base_uri": "https://localhost:8080/",
          "height": 296
        },
        "id": "3XSWs-U8f2bI",
        "outputId": "4a6a6661-8346-4399-aeeb-e00a1520d862"
      },
      "source": [
        "import matplotlib.pyplot as plt\n",
        "import numpy as np\n",
        "\n",
        "#find thresold close to zero\n",
        "close_zero = np.argmin(np.abs(thresholds))\n",
        "plt.plot(precision[close_zero], precision[close_zero], 'o',label='thershold zero', c='k', mew=2)\n",
        "plt.plot(precision, recall, label='precision recall curve')\n",
        "plt.xlabel(\"precision\")\n",
        "plt.ylabel(\"recall\")"
      ],
      "execution_count": null,
      "outputs": [
        {
          "output_type": "execute_result",
          "data": {
            "text/plain": [
              "Text(0, 0.5, 'recall')"
            ]
          },
          "metadata": {
            "tags": []
          },
          "execution_count": 7
        },
        {
          "output_type": "display_data",
          "data": {
            "image/png": "[encoded data removed]",
            "text/plain": [
              "<Figure size 432x288 with 1 Axes>"
            ]
          },
          "metadata": {
            "tags": [],
            "needs_background": "light"
          }
        }
      ]
    },
    {
      "cell_type": "markdown",
      "metadata": {
        "id": "iUGRf_KYmymG"
      },
      "source": [
        "**roc_curve**\n",
        "\n",
        " better the model if plot stays high on top left"
      ]
    },
    {
      "cell_type": "code",
      "metadata": {
        "colab": {
          "base_uri": "https://localhost:8080/",
          "height": 296
        },
        "id": "6zhA1tn_mJ9y",
        "outputId": "ab7ee58d-93de-4d2f-eba7-5ab88a653edf"
      },
      "source": [
        "from sklearn.metrics import roc_curve\n",
        "fpr, tpr, thresholds = roc_curve(y_test, model.decision_function(X_test))\n",
        "plt.plot(fpr, tpr, label='precision recall curve')\n",
        "plt.xlabel(\"fpr\")\n",
        "plt.ylabel(\"tpr(recall)\")"
      ],
      "execution_count": null,
      "outputs": [
        {
          "output_type": "execute_result",
          "data": {
            "text/plain": [
              "Text(0, 0.5, 'tpr(recall)')"
            ]
          },
          "metadata": {
            "tags": []
          },
          "execution_count": 8
        },
        {
          "output_type": "display_data",
          "data": {
            "image/png": "[encoded data removed]",
            "text/plain": [
              "<Figure size 432x288 with 1 Axes>"
            ]
          },
          "metadata": {
            "tags": [],
            "needs_background": "light"
          }
        }
      ]
    },
    {
      "cell_type": "markdown",
      "metadata": {
        "id": "UhgDDPtBnStI"
      },
      "source": [
        "**f1 score**\n",
        "\n",
        "  2* precision * recall/precision + recall\n",
        "\n",
        "  macro -> gives equal weights to all classes irrespective of imbalancing\n",
        "  weighted -> mean of per class f score, weighted by support\n",
        "  micro -> total no of false positives, false negatives and true positives"
      ]
    },
    {
      "cell_type": "code",
      "metadata": {
        "colab": {
          "base_uri": "https://localhost:8080/"
        },
        "id": "sJDkxv5Pna_c",
        "outputId": "a1cf1ebe-7b1b-40ba-ea02-ba196390a34f"
      },
      "source": [
        "from sklearn.metrics import f1_score\n",
        "print (f1_score(y_test, model.predict(X_test), average=\"micro\"))\n",
        "print (f1_score(y_test, model.predict(X_test), average=\"macro\"))"
      ],
      "execution_count": null,
      "outputs": [
        {
          "output_type": "stream",
          "text": [
            "0.9181286549707602\n",
            "0.9136363636363636\n"
          ],
          "name": "stdout"
        }
      ]
    },
    {
      "cell_type": "markdown",
      "metadata": {
        "id": "wx-56caoNILo"
      },
      "source": [
        "***Visualizing***"
      ]
    },
    {
      "cell_type": "code",
      "metadata": {
        "colab": {
          "base_uri": "https://localhost:8080/",
          "height": 466
        },
        "id": "EXpm0Z8ONQXK",
        "outputId": "c7730f4f-977e-4e00-9a72-a9ddcea83cbd"
      },
      "source": [
        "# Load libraries\n",
        "import matplotlib.pyplot as plt\n",
        "import seaborn as sns\n",
        "from sklearn import datasets\n",
        "from sklearn.linear_model import LogisticRegression\n",
        "from sklearn.model_selection import train_test_split\n",
        "from sklearn.metrics import confusion_matrix\n",
        "import pandas as pd\n",
        "# Load data\n",
        "iris = datasets.load_iris()\n",
        "# Create feature matrix\n",
        "features = iris.data\n",
        "# Create target vector\n",
        "target = iris.target\n",
        "# Create list of target class names\n",
        "class_names = iris.target_names\n",
        "# Create training and test set\n",
        "features_train, features_test, target_train, target_test = train_test_split(\n",
        "features, target, random_state=1)\n",
        "classifier = LogisticRegression()\n",
        "# Train model and make predictions\n",
        "target_predicted = classifier.fit(features_train,\n",
        "target_train).predict(features_test)\n",
        "# Create confusion matrix\n",
        "matrix = confusion_matrix(target_test, target_predicted)\n",
        "\n",
        "df = pd.DataFrame(matrix, index=class_names, columns=class_names)\n",
        "sns.heatmap(df, annot=True, cmap=\"Blues\")\n",
        "plt.title(\"Confusion Matrix\"), plt.tight_layout()\n",
        "plt.ylabel(\"True Class\"), plt.xlabel(\"Predicted Class\")\n",
        "plt.show()"
      ],
      "execution_count": 2,
      "outputs": [
        {
          "output_type": "stream",
          "text": [
            "/usr/local/lib/python3.7/dist-packages/sklearn/linear_model/_logistic.py:940: ConvergenceWarning: lbfgs failed to converge (status=1):\n",
            "STOP: TOTAL NO. of ITERATIONS REACHED LIMIT.\n",
            "\n",
            "Increase the number of iterations (max_iter) or scale the data as shown in:\n",
            "    https://scikit-learn.org/stable/modules/preprocessing.html\n",
            "Please also refer to the documentation for alternative solver options:\n",
            "    https://scikit-learn.org/stable/modules/linear_model.html#logistic-regression\n",
            "  extra_warning_msg=_LOGISTIC_SOLVER_CONVERGENCE_MSG)\n"
          ],
          "name": "stderr"
        },
        {
          "output_type": "display_data",
          "data": {
            "image/png": "[encoded data removed]",
            "text/plain": [
              "<Figure size 432x288 with 2 Axes>"
            ]
          },
          "metadata": {
            "tags": [],
            "needs_background": "light"
          }
        }
      ]
    }
  ]
}
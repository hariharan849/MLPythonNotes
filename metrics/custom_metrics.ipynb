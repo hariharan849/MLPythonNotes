{
  "nbformat": 4,
  "nbformat_minor": 0,
  "metadata": {
    "colab": {
      "name": "Untitled83.ipynb",
      "provenance": []
    },
    "kernelspec": {
      "name": "python3",
      "display_name": "Python 3"
    },
    "language_info": {
      "name": "python"
    }
  },
  "cells": [
    {
      "cell_type": "markdown",
      "metadata": {
        "id": "Tuh7kIA3OXPs"
      },
      "source": [
        "***CustomEvaluation***"
      ]
    },
    {
      "cell_type": "code",
      "metadata": {
        "colab": {
          "base_uri": "https://localhost:8080/"
        },
        "id": "-Zt_2C_MOJUD",
        "outputId": "22126fdd-1c04-4782-90df-98723d319790"
      },
      "source": [
        "# Load libraries\n",
        "from sklearn.metrics import make_scorer, r2_score\n",
        "from sklearn.model_selection import train_test_split\n",
        "from sklearn.linear_model import Ridge\n",
        "from sklearn.datasets import make_regression\n",
        "# Generate features matrix and target vector\n",
        "features, target = make_regression(n_samples = 100,\n",
        "n_features = 3,\n",
        "random_state = 1)\n",
        "# Create training set and test set\n",
        "features_train, features_test, target_train, target_test = train_test_split(\n",
        "features, target, test_size=0.10, random_state=1)\n",
        "# Create custom metric\n",
        "def custom_metric(target_test, target_predicted):\n",
        "  # Calculate r-squared score\n",
        "  r2 = r2_score(target_test, target_predicted)\n",
        "  # Return r-squared score\n",
        "  return r2\n",
        "# Make scorer and define that higher scores are better\n",
        "score = make_scorer(custom_metric, greater_is_better=True)\n",
        "# Create ridge regression object\n",
        "classifier = Ridge()\n",
        "# Train ridge regression model\n",
        "model = classifier.fit(features_train, target_train)\n",
        "# Apply custom scorer\n",
        "score(model, features_test, target_test)"
      ],
      "execution_count": 2,
      "outputs": [
        {
          "output_type": "execute_result",
          "data": {
            "text/plain": [
              "0.9997906102882058"
            ]
          },
          "metadata": {
            "tags": []
          },
          "execution_count": 2
        }
      ]
    }
  ]
}
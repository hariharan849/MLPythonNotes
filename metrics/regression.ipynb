{
  "nbformat": 4,
  "nbformat_minor": 0,
  "metadata": {
    "colab": {
      "name": "Untitled55.ipynb",
      "provenance": []
    },
    "kernelspec": {
      "name": "python3",
      "display_name": "Python 3"
    },
    "language_info": {
      "name": "python"
    }
  },
  "cells": [
    {
      "cell_type": "code",
      "metadata": {
        "id": "tMbsQuVqNU6x"
      },
      "source": [
        "from sklearn.datasets import load_boston\n",
        "from sklearn.linear_model import LinearRegression\n",
        "from sklearn.model_selection import cross_val_score, ShuffleSplit\n",
        "\n",
        "X, y = load_boston(return_X_y=True)"
      ],
      "execution_count": 2,
      "outputs": []
    },
    {
      "cell_type": "markdown",
      "metadata": {
        "id": "gCfCyo9WNVsl"
      },
      "source": [
        "**Mean Absolute Error**\n",
        "  * sum of absolute difference between between predictins and actual values"
      ]
    },
    {
      "cell_type": "code",
      "metadata": {
        "colab": {
          "base_uri": "https://localhost:8080/"
        },
        "id": "yry00n5CN8Zs",
        "outputId": "3bc6aabe-a808-417c-b99d-949eb325ef25"
      },
      "source": [
        "fold = ShuffleSplit()\n",
        "scoring = \"neg_mean_absolute_error\"\n",
        "result = cross_val_score(LinearRegression(), X, y, cv=fold, scoring=scoring)\n",
        "print (result.mean(), result.std())"
      ],
      "execution_count": 6,
      "outputs": [
        {
          "output_type": "stream",
          "text": [
            "-3.371243996871487 0.4085134927639692\n"
          ],
          "name": "stdout"
        }
      ]
    },
    {
      "cell_type": "markdown",
      "metadata": {
        "id": "uLS98uHcOF6B"
      },
      "source": [
        "**Mean Squarred Error**\n",
        "  * takes the square root of mean squarred error"
      ]
    },
    {
      "cell_type": "code",
      "metadata": {
        "colab": {
          "base_uri": "https://localhost:8080/"
        },
        "id": "A80bQgLlOuVo",
        "outputId": "7debec68-40e1-48b1-dbd3-ff9d89ba5245"
      },
      "source": [
        "scoring = \"neg_mean_squared_error\"\n",
        "result = cross_val_score(LinearRegression(), X, y, cv=fold, scoring=scoring)\n",
        "print (result.mean(), result.std())"
      ],
      "execution_count": 8,
      "outputs": [
        {
          "output_type": "stream",
          "text": [
            "-23.835266440472505 6.385716926793433\n"
          ],
          "name": "stdout"
        }
      ]
    },
    {
      "cell_type": "markdown",
      "metadata": {
        "id": "YNNHh29iO5f9"
      },
      "source": [
        "**R2 metric**\n",
        "  * Goodness of fit of a set of prediction ranging from 0(no fir) to 1(perfect fit)"
      ]
    },
    {
      "cell_type": "code",
      "metadata": {
        "colab": {
          "base_uri": "https://localhost:8080/"
        },
        "id": "0FMw-lRsPNKg",
        "outputId": "ab6ee23e-0b3f-4883-a01b-3e0be6c67c1f"
      },
      "source": [
        "scoring = \"r2\"\n",
        "result = cross_val_score(LinearRegression(), X, y, cv=fold, scoring=scoring)\n",
        "print (result.mean(), result.std())"
      ],
      "execution_count": 9,
      "outputs": [
        {
          "output_type": "stream",
          "text": [
            "0.7168978706916211 0.07518462101798949\n"
          ],
          "name": "stdout"
        }
      ]
    }
  ]
}
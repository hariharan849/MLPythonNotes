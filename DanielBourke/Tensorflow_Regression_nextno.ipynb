{
  "nbformat": 4,
  "nbformat_minor": 0,
  "metadata": {
    "colab": {
      "provenance": []
    },
    "kernelspec": {
      "name": "python3",
      "display_name": "Python 3"
    },
    "language_info": {
      "name": "python"
    }
  },
  "cells": [
    {
      "cell_type": "code",
      "execution_count": 34,
      "metadata": {
        "id": "2daHeCkBVmPa"
      },
      "outputs": [],
      "source": [
        "import numpy as np\n",
        "import matplotlib.pyplot as plt\n",
        "import tensorflow as tf\n",
        "from keras.models import Sequential\n",
        "from keras.layers import Dense\n",
        "from keras.optimizers import SGD, Adam\n",
        "from keras.losses import mean_squared_error"
      ]
    },
    {
      "cell_type": "code",
      "source": [
        "X = np.arange(-10, 100)\n",
        "y = np.arange(0, 110)\n",
        "train_x = X[:100]\n",
        "train_y = y[:100]\n",
        "test_x = X[100:]\n",
        "test_y = y[100:]"
      ],
      "metadata": {
        "id": "g7BjQ5WXV6V1"
      },
      "execution_count": 37,
      "outputs": []
    },
    {
      "cell_type": "code",
      "source": [
        "plt.scatter(train_x, train_y)\n",
        "plt.scatter(test_x, test_y, c='r')\n",
        "plt.show()"
      ],
      "metadata": {
        "colab": {
          "base_uri": "https://localhost:8080/",
          "height": 430
        },
        "id": "AR6QKdVnWHAD",
        "outputId": "1a937a1b-30d9-4af9-c306-45110aad2368"
      },
      "execution_count": 42,
      "outputs": [
        {
          "output_type": "display_data",
          "data": {
            "text/plain": [
              "<Figure size 640x480 with 1 Axes>"
            ],
            "image/png": "[encoded data removed]"
          },
          "metadata": {}
        }
      ]
    },
    {
      "cell_type": "code",
      "source": [
        "model = Sequential(\n",
        "    layers=[\n",
        "        Dense(units=32, input_dim=1),\n",
        "\n",
        "        Dense(units=1)\n",
        "    ]\n",
        ")\n",
        "optimizer = Adam(learning_rate=1e-4)\n",
        "model.compile(optimizer=\"rmsprop\", loss=mean_squared_error, metrics=['mae'])"
      ],
      "metadata": {
        "id": "qCTmYsMPWck2"
      },
      "execution_count": 50,
      "outputs": []
    },
    {
      "cell_type": "code",
      "source": [
        "model.fit(tf.expand_dims(train_x, axis=-1), train_y, epochs=100)"
      ],
      "metadata": {
        "colab": {
          "base_uri": "https://localhost:8080/"
        },
        "id": "HLHCwUDuWwj2",
        "outputId": "bf673d1e-11bd-4a93-9c55-a77f2c7dca72"
      },
      "execution_count": 51,
      "outputs": [
        {
          "output_type": "stream",
          "name": "stdout",
          "text": [
            "Epoch 1/100\n",
            "4/4 [==============================] - 1s 5ms/step - loss: 4561.0220 - mae: 57.8688\n",
            "Epoch 2/100\n",
            "4/4 [==============================] - 0s 4ms/step - loss: 3862.0615 - mae: 53.4236\n",
            "Epoch 3/100\n",
            "4/4 [==============================] - 0s 5ms/step - loss: 3470.2771 - mae: 50.7386\n",
            "Epoch 4/100\n",
            "4/4 [==============================] - 0s 4ms/step - loss: 3152.7117 - mae: 48.5058\n",
            "Epoch 5/100\n",
            "4/4 [==============================] - 0s 4ms/step - loss: 2830.0591 - mae: 46.1217\n",
            "Epoch 6/100\n",
            "4/4 [==============================] - 0s 4ms/step - loss: 2555.4990 - mae: 43.9443\n",
            "Epoch 7/100\n",
            "4/4 [==============================] - 0s 4ms/step - loss: 2309.5161 - mae: 41.9083\n",
            "Epoch 8/100\n",
            "4/4 [==============================] - 0s 3ms/step - loss: 2092.5715 - mae: 40.0185\n",
            "Epoch 9/100\n",
            "4/4 [==============================] - 0s 5ms/step - loss: 1890.5541 - mae: 38.1623\n",
            "Epoch 10/100\n",
            "4/4 [==============================] - 0s 4ms/step - loss: 1702.1143 - mae: 36.3311\n",
            "Epoch 11/100\n",
            "4/4 [==============================] - 0s 4ms/step - loss: 1510.5718 - mae: 34.3728\n",
            "Epoch 12/100\n",
            "4/4 [==============================] - 0s 3ms/step - loss: 1338.6044 - mae: 32.4750\n",
            "Epoch 13/100\n",
            "4/4 [==============================] - 0s 5ms/step - loss: 1181.0712 - mae: 30.6930\n",
            "Epoch 14/100\n",
            "4/4 [==============================] - 0s 4ms/step - loss: 1020.6518 - mae: 28.6683\n",
            "Epoch 15/100\n",
            "4/4 [==============================] - 0s 4ms/step - loss: 863.6253 - mae: 26.5867\n",
            "Epoch 16/100\n",
            "4/4 [==============================] - 0s 3ms/step - loss: 739.1542 - mae: 24.7589\n",
            "Epoch 17/100\n",
            "4/4 [==============================] - 0s 4ms/step - loss: 612.0618 - mae: 22.7379\n",
            "Epoch 18/100\n",
            "4/4 [==============================] - 0s 4ms/step - loss: 504.8217 - mae: 20.8266\n",
            "Epoch 19/100\n",
            "4/4 [==============================] - 0s 4ms/step - loss: 415.3824 - mae: 19.0799\n",
            "Epoch 20/100\n",
            "4/4 [==============================] - 0s 3ms/step - loss: 342.7115 - mae: 17.5035\n",
            "Epoch 21/100\n",
            "4/4 [==============================] - 0s 4ms/step - loss: 273.3333 - mae: 15.8280\n",
            "Epoch 22/100\n",
            "4/4 [==============================] - 0s 4ms/step - loss: 206.3332 - mae: 13.9475\n",
            "Epoch 23/100\n",
            "4/4 [==============================] - 0s 3ms/step - loss: 153.2866 - mae: 12.1813\n",
            "Epoch 24/100\n",
            "4/4 [==============================] - 0s 3ms/step - loss: 114.5021 - mae: 10.6377\n",
            "Epoch 25/100\n",
            "4/4 [==============================] - 0s 4ms/step - loss: 85.9770 - mae: 9.2652\n",
            "Epoch 26/100\n",
            "4/4 [==============================] - 0s 4ms/step - loss: 64.2498 - mae: 7.9616\n",
            "Epoch 27/100\n",
            "4/4 [==============================] - 0s 4ms/step - loss: 48.9704 - mae: 6.7829\n",
            "Epoch 28/100\n",
            "4/4 [==============================] - 0s 4ms/step - loss: 39.0878 - mae: 5.7583\n",
            "Epoch 29/100\n",
            "4/4 [==============================] - 0s 3ms/step - loss: 32.9268 - mae: 4.8718\n",
            "Epoch 30/100\n",
            "4/4 [==============================] - 0s 4ms/step - loss: 29.8882 - mae: 4.4667\n",
            "Epoch 31/100\n",
            "4/4 [==============================] - 0s 5ms/step - loss: 28.4738 - mae: 4.3661\n",
            "Epoch 32/100\n",
            "4/4 [==============================] - 0s 5ms/step - loss: 28.1407 - mae: 4.3678\n",
            "Epoch 33/100\n",
            "4/4 [==============================] - 0s 6ms/step - loss: 28.0316 - mae: 4.3655\n",
            "Epoch 34/100\n",
            "4/4 [==============================] - 0s 6ms/step - loss: 27.8817 - mae: 4.3555\n",
            "Epoch 35/100\n",
            "4/4 [==============================] - 0s 4ms/step - loss: 27.6426 - mae: 4.3386\n",
            "Epoch 36/100\n",
            "4/4 [==============================] - 0s 4ms/step - loss: 27.6221 - mae: 4.3502\n",
            "Epoch 37/100\n",
            "4/4 [==============================] - 0s 5ms/step - loss: 27.7198 - mae: 4.3758\n",
            "Epoch 38/100\n",
            "4/4 [==============================] - 0s 5ms/step - loss: 27.3104 - mae: 4.3617\n",
            "Epoch 39/100\n",
            "4/4 [==============================] - 0s 4ms/step - loss: 27.0765 - mae: 4.3091\n",
            "Epoch 40/100\n",
            "4/4 [==============================] - 0s 4ms/step - loss: 27.0344 - mae: 4.3093\n",
            "Epoch 41/100\n",
            "4/4 [==============================] - 0s 5ms/step - loss: 26.7526 - mae: 4.3314\n",
            "Epoch 42/100\n",
            "4/4 [==============================] - 0s 4ms/step - loss: 26.8476 - mae: 4.2477\n",
            "Epoch 43/100\n",
            "4/4 [==============================] - 0s 4ms/step - loss: 26.3362 - mae: 4.2345\n",
            "Epoch 44/100\n",
            "4/4 [==============================] - 0s 4ms/step - loss: 26.2217 - mae: 4.2087\n",
            "Epoch 45/100\n",
            "4/4 [==============================] - 0s 3ms/step - loss: 25.9454 - mae: 4.1873\n",
            "Epoch 46/100\n",
            "4/4 [==============================] - 0s 4ms/step - loss: 25.3774 - mae: 4.1728\n",
            "Epoch 47/100\n",
            "4/4 [==============================] - 0s 3ms/step - loss: 25.4326 - mae: 4.1212\n",
            "Epoch 48/100\n",
            "4/4 [==============================] - 0s 4ms/step - loss: 24.9199 - mae: 4.1343\n",
            "Epoch 49/100\n",
            "4/4 [==============================] - 0s 4ms/step - loss: 25.2101 - mae: 4.1494\n",
            "Epoch 50/100\n",
            "4/4 [==============================] - 0s 4ms/step - loss: 25.1093 - mae: 4.1232\n",
            "Epoch 51/100\n",
            "4/4 [==============================] - 0s 3ms/step - loss: 24.6824 - mae: 4.1056\n",
            "Epoch 52/100\n",
            "4/4 [==============================] - 0s 4ms/step - loss: 24.2252 - mae: 4.0708\n",
            "Epoch 53/100\n",
            "4/4 [==============================] - 0s 3ms/step - loss: 24.0121 - mae: 4.0374\n",
            "Epoch 54/100\n",
            "4/4 [==============================] - 0s 4ms/step - loss: 23.9224 - mae: 4.0735\n",
            "Epoch 55/100\n",
            "4/4 [==============================] - 0s 4ms/step - loss: 24.0533 - mae: 4.0757\n",
            "Epoch 56/100\n",
            "4/4 [==============================] - 0s 4ms/step - loss: 23.3683 - mae: 3.9966\n",
            "Epoch 57/100\n",
            "4/4 [==============================] - 0s 4ms/step - loss: 23.5490 - mae: 3.9765\n",
            "Epoch 58/100\n",
            "4/4 [==============================] - 0s 5ms/step - loss: 23.1107 - mae: 4.0175\n",
            "Epoch 59/100\n",
            "4/4 [==============================] - 0s 4ms/step - loss: 22.7418 - mae: 3.9322\n",
            "Epoch 60/100\n",
            "4/4 [==============================] - 0s 4ms/step - loss: 23.1318 - mae: 4.0101\n",
            "Epoch 61/100\n",
            "4/4 [==============================] - 0s 4ms/step - loss: 22.5631 - mae: 3.9387\n",
            "Epoch 62/100\n",
            "4/4 [==============================] - 0s 4ms/step - loss: 22.2124 - mae: 3.8856\n",
            "Epoch 63/100\n",
            "4/4 [==============================] - 0s 4ms/step - loss: 21.8634 - mae: 3.8416\n",
            "Epoch 64/100\n",
            "4/4 [==============================] - 0s 4ms/step - loss: 22.8683 - mae: 4.0367\n",
            "Epoch 65/100\n",
            "4/4 [==============================] - 0s 4ms/step - loss: 21.4659 - mae: 3.8140\n",
            "Epoch 66/100\n",
            "4/4 [==============================] - 0s 4ms/step - loss: 21.1131 - mae: 3.7765\n",
            "Epoch 67/100\n",
            "4/4 [==============================] - 0s 4ms/step - loss: 20.9007 - mae: 3.7465\n",
            "Epoch 68/100\n",
            "4/4 [==============================] - 0s 5ms/step - loss: 21.1951 - mae: 3.8285\n",
            "Epoch 69/100\n",
            "4/4 [==============================] - 0s 4ms/step - loss: 20.9294 - mae: 3.7859\n",
            "Epoch 70/100\n",
            "4/4 [==============================] - 0s 4ms/step - loss: 20.8131 - mae: 3.7803\n",
            "Epoch 71/100\n",
            "4/4 [==============================] - 0s 4ms/step - loss: 19.9674 - mae: 3.6654\n",
            "Epoch 72/100\n",
            "4/4 [==============================] - 0s 4ms/step - loss: 19.8710 - mae: 3.6885\n",
            "Epoch 73/100\n",
            "4/4 [==============================] - 0s 4ms/step - loss: 19.6681 - mae: 3.6470\n",
            "Epoch 74/100\n",
            "4/4 [==============================] - 0s 4ms/step - loss: 19.5283 - mae: 3.6023\n",
            "Epoch 75/100\n",
            "4/4 [==============================] - 0s 4ms/step - loss: 19.2791 - mae: 3.6150\n",
            "Epoch 76/100\n",
            "4/4 [==============================] - 0s 4ms/step - loss: 19.3728 - mae: 3.5587\n",
            "Epoch 77/100\n",
            "4/4 [==============================] - 0s 4ms/step - loss: 18.8201 - mae: 3.5657\n",
            "Epoch 78/100\n",
            "4/4 [==============================] - 0s 3ms/step - loss: 19.5289 - mae: 3.7154\n",
            "Epoch 79/100\n",
            "4/4 [==============================] - 0s 3ms/step - loss: 18.5502 - mae: 3.5274\n",
            "Epoch 80/100\n",
            "4/4 [==============================] - 0s 8ms/step - loss: 18.3947 - mae: 3.5573\n",
            "Epoch 81/100\n",
            "4/4 [==============================] - 0s 6ms/step - loss: 18.8329 - mae: 3.6110\n",
            "Epoch 82/100\n",
            "4/4 [==============================] - 0s 7ms/step - loss: 17.8561 - mae: 3.4903\n",
            "Epoch 83/100\n",
            "4/4 [==============================] - 0s 4ms/step - loss: 17.5425 - mae: 3.4642\n",
            "Epoch 84/100\n",
            "4/4 [==============================] - 0s 4ms/step - loss: 17.6673 - mae: 3.4935\n",
            "Epoch 85/100\n",
            "4/4 [==============================] - 0s 5ms/step - loss: 17.3242 - mae: 3.3886\n",
            "Epoch 86/100\n",
            "4/4 [==============================] - 0s 4ms/step - loss: 17.2257 - mae: 3.4123\n",
            "Epoch 87/100\n",
            "4/4 [==============================] - 0s 4ms/step - loss: 16.6803 - mae: 3.3669\n",
            "Epoch 88/100\n",
            "4/4 [==============================] - 0s 4ms/step - loss: 16.8645 - mae: 3.4127\n",
            "Epoch 89/100\n",
            "4/4 [==============================] - 0s 4ms/step - loss: 16.4133 - mae: 3.3719\n",
            "Epoch 90/100\n",
            "4/4 [==============================] - 0s 4ms/step - loss: 15.9833 - mae: 3.3089\n",
            "Epoch 91/100\n",
            "4/4 [==============================] - 0s 4ms/step - loss: 15.8707 - mae: 3.2756\n",
            "Epoch 92/100\n",
            "4/4 [==============================] - 0s 4ms/step - loss: 15.7920 - mae: 3.2957\n",
            "Epoch 93/100\n",
            "4/4 [==============================] - 0s 4ms/step - loss: 15.5458 - mae: 3.2707\n",
            "Epoch 94/100\n",
            "4/4 [==============================] - 0s 5ms/step - loss: 16.0105 - mae: 3.3238\n",
            "Epoch 95/100\n",
            "4/4 [==============================] - 0s 6ms/step - loss: 15.0889 - mae: 3.1798\n",
            "Epoch 96/100\n",
            "4/4 [==============================] - 0s 5ms/step - loss: 15.1213 - mae: 3.2440\n",
            "Epoch 97/100\n",
            "4/4 [==============================] - 0s 3ms/step - loss: 15.5792 - mae: 3.3356\n",
            "Epoch 98/100\n",
            "4/4 [==============================] - 0s 4ms/step - loss: 14.6903 - mae: 3.1445\n",
            "Epoch 99/100\n",
            "4/4 [==============================] - 0s 3ms/step - loss: 14.1738 - mae: 3.1032\n",
            "Epoch 100/100\n",
            "4/4 [==============================] - 0s 4ms/step - loss: 14.0066 - mae: 3.0608\n"
          ]
        },
        {
          "output_type": "execute_result",
          "data": {
            "text/plain": [
              "<keras.src.callbacks.History at 0x7902d736bcd0>"
            ]
          },
          "metadata": {},
          "execution_count": 51
        }
      ]
    },
    {
      "cell_type": "code",
      "source": [
        "test_pred = model.predict(test_x)"
      ],
      "metadata": {
        "colab": {
          "base_uri": "https://localhost:8080/"
        },
        "id": "WNkX0-CAXd7M",
        "outputId": "386bf9c0-c581-4848-a184-9345b5439173"
      },
      "execution_count": 52,
      "outputs": [
        {
          "output_type": "stream",
          "name": "stderr",
          "text": [
            "WARNING:tensorflow:6 out of the last 7 calls to <function Model.make_predict_function.<locals>.predict_function at 0x7902d72f9ea0> triggered tf.function retracing. Tracing is expensive and the excessive number of tracings could be due to (1) creating @tf.function repeatedly in a loop, (2) passing tensors with different shapes, (3) passing Python objects instead of tensors. For (1), please define your @tf.function outside of the loop. For (2), @tf.function has reduce_retracing=True option that can avoid unnecessary retracing. For (3), please refer to https://www.tensorflow.org/guide/function#controlling_retracing and https://www.tensorflow.org/api_docs/python/tf/function for  more details.\n"
          ]
        },
        {
          "output_type": "stream",
          "name": "stdout",
          "text": [
            "1/1 [==============================] - 0s 54ms/step\n"
          ]
        }
      ]
    },
    {
      "cell_type": "code",
      "source": [
        "def plot_predictions(train_data=train_x,\n",
        "                     train_labels=train_y,\n",
        "                     test_data=test_x,\n",
        "                     test_labels=test_y,\n",
        "                     predictions=test_pred):\n",
        "  \"\"\"\n",
        "  Plots training data, test data and compares predictions.\n",
        "  \"\"\"\n",
        "  plt.figure(figsize=(10, 7))\n",
        "  # Plot training data in blue\n",
        "  plt.scatter(train_data, train_labels, c=\"b\", label=\"Training data\")\n",
        "  # Plot test data in green\n",
        "  plt.scatter(test_data, test_labels, c=\"g\", label=\"Testing data\")\n",
        "  # Plot the predictions in red (predictions were made on the test data)\n",
        "  plt.scatter(test_data, predictions, c=\"r\", label=\"Predictions\")\n",
        "  # Show the legend\n",
        "  plt.legend();"
      ],
      "metadata": {
        "id": "P-MbIKgsZlH7"
      },
      "execution_count": 53,
      "outputs": []
    },
    {
      "cell_type": "code",
      "source": [
        "plot_predictions()"
      ],
      "metadata": {
        "colab": {
          "base_uri": "https://localhost:8080/",
          "height": 599
        },
        "id": "xMLYX7zkZ-Sf",
        "outputId": "233fe3c4-1277-4dd7-fbc2-e64324bd8956"
      },
      "execution_count": 54,
      "outputs": [
        {
          "output_type": "display_data",
          "data": {
            "text/plain": [
              "<Figure size 1000x700 with 1 Axes>"
            ],
            "image/png": "[encoded data removed]"
          },
          "metadata": {}
        }
      ]
    }
  ]
}
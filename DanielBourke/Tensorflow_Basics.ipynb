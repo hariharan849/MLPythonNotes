{
  "nbformat": 4,
  "nbformat_minor": 0,
  "metadata": {
    "colab": {
      "provenance": []
    },
    "kernelspec": {
      "name": "python3",
      "display_name": "Python 3"
    },
    "language_info": {
      "name": "python"
    }
  },
  "cells": [
    {
      "cell_type": "code",
      "execution_count": 1,
      "metadata": {
        "colab": {
          "base_uri": "https://localhost:8080/",
          "height": 35
        },
        "id": "GZ7VUvZz-15I",
        "outputId": "28df546f-fde2-4588-f4cb-aa6cf4b6da21"
      },
      "outputs": [
        {
          "output_type": "execute_result",
          "data": {
            "text/plain": [
              "'2.15.0'"
            ],
            "application/vnd.google.colaboratory.intrinsic+json": {
              "type": "string"
            }
          },
          "metadata": {},
          "execution_count": 1
        }
      ],
      "source": [
        "import tensorflow as tf\n",
        "tf.__version__"
      ]
    },
    {
      "cell_type": "markdown",
      "source": [
        "**Constant**"
      ],
      "metadata": {
        "id": "dflunUxU_XdC"
      }
    },
    {
      "cell_type": "code",
      "source": [
        "tf_constant = tf.constant([2])\n",
        "print (f\"Shape of constant: {tf_constant.shape}\")\n",
        "print (f\"Dimension of constant: {tf_constant.ndim}\")\n",
        "print (f\"Type of constant: {tf_constant.dtype}\")\n",
        "print (f\"Size of constant: {tf.size(tf_constant)}\")"
      ],
      "metadata": {
        "colab": {
          "base_uri": "https://localhost:8080/"
        },
        "id": "Ibh5NsO7_E0r",
        "outputId": "738f2e2e-ad2c-4f76-f5e9-19f6004c5404"
      },
      "execution_count": 10,
      "outputs": [
        {
          "output_type": "stream",
          "name": "stdout",
          "text": [
            "Shape of constant: (1,)\n",
            "Dimension of constant: 1\n",
            "Type of constant: <dtype: 'int32'>\n",
            "Size of constant: 1\n"
          ]
        }
      ]
    },
    {
      "cell_type": "code",
      "source": [
        "tf_constant = tf.constant([[2, 1, 3], [8, 4, 5]])\n",
        "print (f\"Shape of constant: {tf_constant.shape}\")\n",
        "print (f\"Dimension of constant: {tf_constant.ndim}\")\n",
        "print (f\"Type of constant: {tf_constant.dtype}\")\n",
        "print (f\"Size of constant: {tf.size(tf_constant)}\")"
      ],
      "metadata": {
        "colab": {
          "base_uri": "https://localhost:8080/"
        },
        "id": "pGC184qe_WP0",
        "outputId": "4504a673-eafa-4b2d-bd32-22c5eba17e44"
      },
      "execution_count": 11,
      "outputs": [
        {
          "output_type": "stream",
          "name": "stdout",
          "text": [
            "Shape of constant: (2, 3)\n",
            "Dimension of constant: 2\n",
            "Type of constant: <dtype: 'int32'>\n",
            "Size of constant: 6\n"
          ]
        }
      ]
    },
    {
      "cell_type": "markdown",
      "source": [
        "**Variable**"
      ],
      "metadata": {
        "id": "63iHC9rlAXqD"
      }
    },
    {
      "cell_type": "code",
      "source": [
        "tf_variable = tf.Variable([2])\n",
        "print (f\"Shape of constant: {tf_variable.shape}\")\n",
        "print (f\"Dimension of constant: {tf_variable.numpy().ndim}\")\n",
        "print (f\"Type of constant: {tf_variable.dtype}\")\n",
        "print (f\"Size of constant: {tf.size(tf_variable)}\")"
      ],
      "metadata": {
        "colab": {
          "base_uri": "https://localhost:8080/"
        },
        "id": "VNAX_M3jAZIz",
        "outputId": "e616353a-cfff-452b-9bd4-d12270dc9b0c"
      },
      "execution_count": 13,
      "outputs": [
        {
          "output_type": "stream",
          "name": "stdout",
          "text": [
            "Shape of constant: (1,)\n",
            "Dimension of constant: 1\n",
            "Type of constant: <dtype: 'int32'>\n",
            "Size of constant: 1\n"
          ]
        }
      ]
    },
    {
      "cell_type": "code",
      "source": [
        "tf_variable = tf.Variable([[2, 1, 3], [8, 4, 5]])\n",
        "print (f\"Shape of constant: {tf_variable.shape}\")\n",
        "print (f\"Dimension of constant: {tf_variable.numpy().ndim}\")\n",
        "print (f\"Type of constant: {tf_variable.dtype}\")\n",
        "print (f\"Size of constant: {tf.size(tf_variable)}\")"
      ],
      "metadata": {
        "colab": {
          "base_uri": "https://localhost:8080/"
        },
        "id": "_7tlo6xaA4zy",
        "outputId": "3203b141-c3bb-4e58-e018-03f6387acd87"
      },
      "execution_count": 15,
      "outputs": [
        {
          "output_type": "stream",
          "name": "stdout",
          "text": [
            "Shape of constant: (2, 3)\n",
            "Dimension of constant: 2\n",
            "Type of constant: <dtype: 'int32'>\n",
            "Size of constant: 6\n"
          ]
        }
      ]
    },
    {
      "cell_type": "code",
      "source": [
        "tf_variable[1, 2].assign(20)\n",
        "tf_variable"
      ],
      "metadata": {
        "colab": {
          "base_uri": "https://localhost:8080/"
        },
        "id": "cY1RVg9HBBXy",
        "outputId": "2d63dd79-f68c-4f95-be3e-11195d681aee"
      },
      "execution_count": 20,
      "outputs": [
        {
          "output_type": "execute_result",
          "data": {
            "text/plain": [
              "<tf.Variable 'Variable:0' shape=(2, 3) dtype=int32, numpy=\n",
              "array([[ 2,  1,  3],\n",
              "       [ 8,  4, 20]], dtype=int32)>"
            ]
          },
          "metadata": {},
          "execution_count": 20
        }
      ]
    },
    {
      "cell_type": "code",
      "source": [
        "tf.Variable([[2, 1, 3], [8, 4, 5]], dtype=tf.float32)"
      ],
      "metadata": {
        "colab": {
          "base_uri": "https://localhost:8080/"
        },
        "id": "4H6MEWz-B1KS",
        "outputId": "a6cf792a-2a17-424e-a4d6-5b6b1e185d86"
      },
      "execution_count": 28,
      "outputs": [
        {
          "output_type": "execute_result",
          "data": {
            "text/plain": [
              "<tf.Variable 'Variable:0' shape=(2, 3) dtype=float32, numpy=\n",
              "array([[2., 1., 3.],\n",
              "       [8., 4., 5.]], dtype=float32)>"
            ]
          },
          "metadata": {},
          "execution_count": 28
        }
      ]
    },
    {
      "cell_type": "markdown",
      "source": [
        "**ZEROS, ONES, ZEROS_LIKE, ONES_LIKE, EYS, FILL**"
      ],
      "metadata": {
        "id": "FBR9WEZCCqfS"
      }
    },
    {
      "cell_type": "code",
      "source": [
        "tf.zeros(shape=(3, 4), dtype=tf.float32)"
      ],
      "metadata": {
        "colab": {
          "base_uri": "https://localhost:8080/"
        },
        "id": "-Wpqm3VJCvKa",
        "outputId": "40f99c07-6a89-4950-903f-468a9c98b94f"
      },
      "execution_count": 29,
      "outputs": [
        {
          "output_type": "execute_result",
          "data": {
            "text/plain": [
              "<tf.Tensor: shape=(3, 4), dtype=float32, numpy=\n",
              "array([[0., 0., 0., 0.],\n",
              "       [0., 0., 0., 0.],\n",
              "       [0., 0., 0., 0.]], dtype=float32)>"
            ]
          },
          "metadata": {},
          "execution_count": 29
        }
      ]
    },
    {
      "cell_type": "code",
      "source": [
        "tf.ones(shape=(3, 4), dtype=tf.float32)"
      ],
      "metadata": {
        "colab": {
          "base_uri": "https://localhost:8080/"
        },
        "id": "sLUX2JSmC55z",
        "outputId": "939dbee1-7f22-42b4-f464-db24210a31f5"
      },
      "execution_count": 30,
      "outputs": [
        {
          "output_type": "execute_result",
          "data": {
            "text/plain": [
              "<tf.Tensor: shape=(3, 4), dtype=float32, numpy=\n",
              "array([[1., 1., 1., 1.],\n",
              "       [1., 1., 1., 1.],\n",
              "       [1., 1., 1., 1.]], dtype=float32)>"
            ]
          },
          "metadata": {},
          "execution_count": 30
        }
      ]
    },
    {
      "cell_type": "code",
      "source": [
        "tf.zeros_like(tf_variable)"
      ],
      "metadata": {
        "colab": {
          "base_uri": "https://localhost:8080/"
        },
        "id": "wLwy6TUuC7Zr",
        "outputId": "048bb450-7abc-4c40-a0b5-b6f225985171"
      },
      "execution_count": 31,
      "outputs": [
        {
          "output_type": "execute_result",
          "data": {
            "text/plain": [
              "<tf.Tensor: shape=(2, 3), dtype=float32, numpy=\n",
              "array([[0., 0., 0.],\n",
              "       [0., 0., 0.]], dtype=float32)>"
            ]
          },
          "metadata": {},
          "execution_count": 31
        }
      ]
    },
    {
      "cell_type": "code",
      "source": [
        "tf.ones_like(tf_variable)"
      ],
      "metadata": {
        "colab": {
          "base_uri": "https://localhost:8080/"
        },
        "id": "stMNThiFDC-q",
        "outputId": "c65af1aa-b689-4040-fcb0-821aa6ebceda"
      },
      "execution_count": 32,
      "outputs": [
        {
          "output_type": "execute_result",
          "data": {
            "text/plain": [
              "<tf.Tensor: shape=(2, 3), dtype=float32, numpy=\n",
              "array([[1., 1., 1.],\n",
              "       [1., 1., 1.]], dtype=float32)>"
            ]
          },
          "metadata": {},
          "execution_count": 32
        }
      ]
    },
    {
      "cell_type": "code",
      "source": [
        "tf.eye(num_rows=3, num_columns=4)"
      ],
      "metadata": {
        "colab": {
          "base_uri": "https://localhost:8080/"
        },
        "id": "RpYxGI0qDL5z",
        "outputId": "b13961fc-78a6-480c-be3e-ca76a5c4dc8e"
      },
      "execution_count": 33,
      "outputs": [
        {
          "output_type": "execute_result",
          "data": {
            "text/plain": [
              "<tf.Tensor: shape=(3, 4), dtype=float32, numpy=\n",
              "array([[1., 0., 0., 0.],\n",
              "       [0., 1., 0., 0.],\n",
              "       [0., 0., 1., 0.]], dtype=float32)>"
            ]
          },
          "metadata": {},
          "execution_count": 33
        }
      ]
    },
    {
      "cell_type": "code",
      "source": [
        "tf.fill(dims=(3, 4), value=2)"
      ],
      "metadata": {
        "colab": {
          "base_uri": "https://localhost:8080/"
        },
        "id": "R6w5WMDZDWUC",
        "outputId": "847dd945-f9ce-4304-e5a0-9f1b8e280f48"
      },
      "execution_count": 34,
      "outputs": [
        {
          "output_type": "execute_result",
          "data": {
            "text/plain": [
              "<tf.Tensor: shape=(3, 4), dtype=int32, numpy=\n",
              "array([[2, 2, 2, 2],\n",
              "       [2, 2, 2, 2],\n",
              "       [2, 2, 2, 2]], dtype=int32)>"
            ]
          },
          "metadata": {},
          "execution_count": 34
        }
      ]
    },
    {
      "cell_type": "markdown",
      "source": [
        "**Random**"
      ],
      "metadata": {
        "id": "Q4qMEKjqDaiR"
      }
    },
    {
      "cell_type": "code",
      "source": [
        "tf.random.Generator.from_seed(42)\n",
        "tf.random.normal(shape=(3, 4))"
      ],
      "metadata": {
        "colab": {
          "base_uri": "https://localhost:8080/"
        },
        "id": "ZtVhiGHIDcLq",
        "outputId": "1b21260d-4bcb-4160-a0c8-61014f90dd6b"
      },
      "execution_count": 35,
      "outputs": [
        {
          "output_type": "execute_result",
          "data": {
            "text/plain": [
              "<tf.Tensor: shape=(3, 4), dtype=float32, numpy=\n",
              "array([[ 0.02705338, -0.31047344,  1.473036  ,  0.65940726],\n",
              "       [-2.2578037 , -1.152767  , -0.6236002 ,  0.834756  ],\n",
              "       [ 0.26912272,  0.03895365,  1.1246384 ,  1.3896104 ]],\n",
              "      dtype=float32)>"
            ]
          },
          "metadata": {},
          "execution_count": 35
        }
      ]
    },
    {
      "cell_type": "code",
      "source": [
        "tf.random.uniform(shape=(3, 4))"
      ],
      "metadata": {
        "colab": {
          "base_uri": "https://localhost:8080/"
        },
        "id": "cWecGBtPDpUB",
        "outputId": "06261932-d223-401e-d8f8-2ab64a3de2c2"
      },
      "execution_count": 36,
      "outputs": [
        {
          "output_type": "execute_result",
          "data": {
            "text/plain": [
              "<tf.Tensor: shape=(3, 4), dtype=float32, numpy=\n",
              "array([[0.20412767, 0.5849674 , 0.7949568 , 0.42401528],\n",
              "       [0.19334316, 0.96687925, 0.6859462 , 0.6448792 ],\n",
              "       [0.3203156 , 0.62359846, 0.8382907 , 0.37003672]], dtype=float32)>"
            ]
          },
          "metadata": {},
          "execution_count": 36
        }
      ]
    },
    {
      "cell_type": "markdown",
      "source": [
        "**Slice**"
      ],
      "metadata": {
        "id": "cV0VGKNjDz7C"
      }
    },
    {
      "cell_type": "code",
      "source": [
        "var = tf.random.uniform(shape=(3, 4))\n",
        "var, var[0:2, 0:2]"
      ],
      "metadata": {
        "colab": {
          "base_uri": "https://localhost:8080/"
        },
        "id": "51Y84z25D166",
        "outputId": "d8bf0275-64e4-44cd-db95-41ac7671520f"
      },
      "execution_count": 39,
      "outputs": [
        {
          "output_type": "execute_result",
          "data": {
            "text/plain": [
              "(<tf.Tensor: shape=(3, 4), dtype=float32, numpy=\n",
              " array([[0.43034112, 0.67114913, 0.30797672, 0.5226424 ],\n",
              "        [0.83283174, 0.28560722, 0.6346618 , 0.6259661 ],\n",
              "        [0.24854755, 0.59215295, 0.4278481 , 0.90905094]], dtype=float32)>,\n",
              " <tf.Tensor: shape=(2, 2), dtype=float32, numpy=\n",
              " array([[0.43034112, 0.67114913],\n",
              "        [0.83283174, 0.28560722]], dtype=float32)>)"
            ]
          },
          "metadata": {},
          "execution_count": 39
        }
      ]
    },
    {
      "cell_type": "code",
      "source": [
        "var[0:2, ...]"
      ],
      "metadata": {
        "colab": {
          "base_uri": "https://localhost:8080/"
        },
        "id": "p5eW8f5kEQcr",
        "outputId": "3040a029-eb70-45c4-952d-d5a170f0ad86"
      },
      "execution_count": 40,
      "outputs": [
        {
          "output_type": "execute_result",
          "data": {
            "text/plain": [
              "<tf.Tensor: shape=(2, 4), dtype=float32, numpy=\n",
              "array([[0.43034112, 0.67114913, 0.30797672, 0.5226424 ],\n",
              "       [0.83283174, 0.28560722, 0.6346618 , 0.6259661 ]], dtype=float32)>"
            ]
          },
          "metadata": {},
          "execution_count": 40
        }
      ]
    },
    {
      "cell_type": "markdown",
      "source": [
        "**cast**"
      ],
      "metadata": {
        "id": "1SHqT03AEbpE"
      }
    },
    {
      "cell_type": "code",
      "source": [
        "tf_variable.dtype"
      ],
      "metadata": {
        "colab": {
          "base_uri": "https://localhost:8080/"
        },
        "id": "augfc4R9EeOK",
        "outputId": "5516a813-e6ea-4a34-e039-a814f0d4994b"
      },
      "execution_count": 41,
      "outputs": [
        {
          "output_type": "execute_result",
          "data": {
            "text/plain": [
              "tf.float32"
            ]
          },
          "metadata": {},
          "execution_count": 41
        }
      ]
    },
    {
      "cell_type": "code",
      "source": [
        "tf.cast(tf_variable, dtype=tf.int32)"
      ],
      "metadata": {
        "colab": {
          "base_uri": "https://localhost:8080/"
        },
        "id": "khRw9cBhEnBS",
        "outputId": "77be3467-9ba9-40cf-c946-daa5afeb4794"
      },
      "execution_count": 43,
      "outputs": [
        {
          "output_type": "execute_result",
          "data": {
            "text/plain": [
              "<tf.Tensor: shape=(2, 3), dtype=int32, numpy=\n",
              "array([[ 2, 10,  3],\n",
              "       [ 8,  4,  5]], dtype=int32)>"
            ]
          },
          "metadata": {},
          "execution_count": 43
        }
      ]
    },
    {
      "cell_type": "code",
      "source": [
        "tf.cast(tf_variable, dtype=tf.bool)"
      ],
      "metadata": {
        "colab": {
          "base_uri": "https://localhost:8080/"
        },
        "id": "PgQ3pSzCEyVE",
        "outputId": "3d0d5336-8b39-412d-b01b-f209510aea15"
      },
      "execution_count": 44,
      "outputs": [
        {
          "output_type": "execute_result",
          "data": {
            "text/plain": [
              "<tf.Tensor: shape=(2, 3), dtype=bool, numpy=\n",
              "array([[ True,  True,  True],\n",
              "       [ True,  True,  True]])>"
            ]
          },
          "metadata": {},
          "execution_count": 44
        }
      ]
    },
    {
      "cell_type": "markdown",
      "source": [
        "**Math Operation**"
      ],
      "metadata": {
        "id": "cSe8INmrE2pD"
      }
    },
    {
      "cell_type": "code",
      "source": [
        "tf.math.reduce_sum(tf_variable)"
      ],
      "metadata": {
        "colab": {
          "base_uri": "https://localhost:8080/"
        },
        "id": "vXN6E5RxE5zT",
        "outputId": "f2f6e8fd-41a2-4372-c2ad-a0de87eee10c"
      },
      "execution_count": 45,
      "outputs": [
        {
          "output_type": "execute_result",
          "data": {
            "text/plain": [
              "<tf.Tensor: shape=(), dtype=float32, numpy=32.0>"
            ]
          },
          "metadata": {},
          "execution_count": 45
        }
      ]
    },
    {
      "cell_type": "code",
      "source": [
        "tf.math.reduce_mean(tf_variable)"
      ],
      "metadata": {
        "colab": {
          "base_uri": "https://localhost:8080/"
        },
        "id": "YPOrIu_TFC56",
        "outputId": "bea866e6-de0d-4217-eaca-781bf92a2455"
      },
      "execution_count": 46,
      "outputs": [
        {
          "output_type": "execute_result",
          "data": {
            "text/plain": [
              "<tf.Tensor: shape=(), dtype=float32, numpy=5.3333335>"
            ]
          },
          "metadata": {},
          "execution_count": 46
        }
      ]
    },
    {
      "cell_type": "code",
      "source": [
        "tf.math.reduce_std(tf_variable)"
      ],
      "metadata": {
        "colab": {
          "base_uri": "https://localhost:8080/"
        },
        "id": "jUrYPSi2FEib",
        "outputId": "ff4a4811-3122-4c78-9023-813073d2c17b"
      },
      "execution_count": 47,
      "outputs": [
        {
          "output_type": "execute_result",
          "data": {
            "text/plain": [
              "<tf.Tensor: shape=(), dtype=float32, numpy=2.8087168>"
            ]
          },
          "metadata": {},
          "execution_count": 47
        }
      ]
    },
    {
      "cell_type": "code",
      "source": [
        "tf.reduce_max(tf_variable)"
      ],
      "metadata": {
        "colab": {
          "base_uri": "https://localhost:8080/"
        },
        "id": "NTVNFeSYFF8i",
        "outputId": "a68d1de1-d6cb-4333-ab1c-b54b439e9053"
      },
      "execution_count": 49,
      "outputs": [
        {
          "output_type": "execute_result",
          "data": {
            "text/plain": [
              "<tf.Tensor: shape=(), dtype=float32, numpy=10.0>"
            ]
          },
          "metadata": {},
          "execution_count": 49
        }
      ]
    },
    {
      "cell_type": "code",
      "source": [
        "tf.reduce_min(tf_variable)"
      ],
      "metadata": {
        "colab": {
          "base_uri": "https://localhost:8080/"
        },
        "id": "4AIzaoUAFUYb",
        "outputId": "47839334-68c2-4bd6-cbd3-0df936b2872f"
      },
      "execution_count": 50,
      "outputs": [
        {
          "output_type": "execute_result",
          "data": {
            "text/plain": [
              "<tf.Tensor: shape=(), dtype=float32, numpy=2.0>"
            ]
          },
          "metadata": {},
          "execution_count": 50
        }
      ]
    },
    {
      "cell_type": "code",
      "source": [
        "tf_variable, tf.argmax(tf_variable, axis=1)"
      ],
      "metadata": {
        "colab": {
          "base_uri": "https://localhost:8080/"
        },
        "id": "M4KS5dWbFWGk",
        "outputId": "7efa551f-5634-4b6a-bfe1-48cbeb794ae7"
      },
      "execution_count": 54,
      "outputs": [
        {
          "output_type": "execute_result",
          "data": {
            "text/plain": [
              "(<tf.Variable 'Variable:0' shape=(2, 3) dtype=float32, numpy=\n",
              " array([[ 2., 10.,  3.],\n",
              "        [ 8.,  4.,  5.]], dtype=float32)>,\n",
              " <tf.Tensor: shape=(2,), dtype=int64, numpy=array([1, 0])>)"
            ]
          },
          "metadata": {},
          "execution_count": 54
        }
      ]
    },
    {
      "cell_type": "code",
      "source": [
        "normal_dist = tf.random.normal(shape=(3, 4))\n",
        "normal_dist"
      ],
      "metadata": {
        "colab": {
          "base_uri": "https://localhost:8080/"
        },
        "id": "XkrnecNZGLOK",
        "outputId": "68774eb2-11e3-40b5-a0bc-70dd8888d200"
      },
      "execution_count": 57,
      "outputs": [
        {
          "output_type": "execute_result",
          "data": {
            "text/plain": [
              "<tf.Tensor: shape=(3, 4), dtype=float32, numpy=\n",
              "array([[ 0.6851009 ,  0.9631424 ,  0.6427591 ,  0.4414306 ],\n",
              "       [-1.7240741 , -0.6978763 ,  0.16039534,  1.7076049 ],\n",
              "       [ 0.26735604,  1.7588849 , -0.46072307,  0.5835361 ]],\n",
              "      dtype=float32)>"
            ]
          },
          "metadata": {},
          "execution_count": 57
        }
      ]
    },
    {
      "cell_type": "code",
      "source": [
        "tf.abs(normal_dist)"
      ],
      "metadata": {
        "colab": {
          "base_uri": "https://localhost:8080/"
        },
        "id": "qtSwZQiyGpF8",
        "outputId": "b771a24a-a300-4745-f2c1-880111cf442a"
      },
      "execution_count": 58,
      "outputs": [
        {
          "output_type": "execute_result",
          "data": {
            "text/plain": [
              "<tf.Tensor: shape=(3, 4), dtype=float32, numpy=\n",
              "array([[0.6851009 , 0.9631424 , 0.6427591 , 0.4414306 ],\n",
              "       [1.7240741 , 0.6978763 , 0.16039534, 1.7076049 ],\n",
              "       [0.26735604, 1.7588849 , 0.46072307, 0.5835361 ]], dtype=float32)>"
            ]
          },
          "metadata": {},
          "execution_count": 58
        }
      ]
    },
    {
      "cell_type": "code",
      "source": [
        "normal_dist1 = tf.random.normal(shape=(3, 4))\n",
        "normal_dist2 = tf.random.normal(shape=(3, 4))\n",
        "tf.add(normal_dist1, normal_dist2)"
      ],
      "metadata": {
        "colab": {
          "base_uri": "https://localhost:8080/"
        },
        "id": "MPLUzMxPGuW8",
        "outputId": "4777fff3-52a5-4471-faea-2b2493e72287"
      },
      "execution_count": 59,
      "outputs": [
        {
          "output_type": "execute_result",
          "data": {
            "text/plain": [
              "<tf.Tensor: shape=(3, 4), dtype=float32, numpy=\n",
              "array([[-1.5390265 ,  3.248794  , -1.464366  , -1.7110083 ],\n",
              "       [-0.79113805, -1.6979027 ,  1.0170016 , -0.7916398 ],\n",
              "       [-0.48010483, -1.3972766 , -2.5596962 ,  0.98109627]],\n",
              "      dtype=float32)>"
            ]
          },
          "metadata": {},
          "execution_count": 59
        }
      ]
    },
    {
      "cell_type": "code",
      "source": [
        "tf.subtract(normal_dist1, normal_dist2)"
      ],
      "metadata": {
        "colab": {
          "base_uri": "https://localhost:8080/"
        },
        "id": "1GsotTyWG1-z",
        "outputId": "2528a4da-6810-4d21-fe2e-f2af587ef942"
      },
      "execution_count": 60,
      "outputs": [
        {
          "output_type": "execute_result",
          "data": {
            "text/plain": [
              "<tf.Tensor: shape=(3, 4), dtype=float32, numpy=\n",
              "array([[-0.9394949 , -1.6292257 ,  0.4706946 ,  1.314527  ],\n",
              "       [ 0.3039172 , -0.10144287, -0.5507063 , -1.2356842 ],\n",
              "       [ 0.9461309 , -0.6330044 , -0.28206837, -1.1139996 ]],\n",
              "      dtype=float32)>"
            ]
          },
          "metadata": {},
          "execution_count": 60
        }
      ]
    },
    {
      "cell_type": "code",
      "source": [
        "tf.multiply(normal_dist1, normal_dist2)"
      ],
      "metadata": {
        "colab": {
          "base_uri": "https://localhost:8080/"
        },
        "id": "SKiaOQ3MG4Oc",
        "outputId": "677d3e98-cc7e-489f-f3be-38c1d5b7ec67"
      },
      "execution_count": 61,
      "outputs": [
        {
          "output_type": "execute_result",
          "data": {
            "text/plain": [
              "<tf.Tensor: shape=(3, 4), dtype=float32, numpy=\n",
              "array([[ 0.37148792,  1.9750718 ,  0.48070353,  0.29989204],\n",
              "       [ 0.13338342,  0.71814567,  0.1827537 , -0.22505546],\n",
              "       [-0.16616572,  0.38792187,  1.6181207 , -0.06961133]],\n",
              "      dtype=float32)>"
            ]
          },
          "metadata": {},
          "execution_count": 61
        }
      ]
    },
    {
      "cell_type": "code",
      "source": [
        "tf.divide(normal_dist1, normal_dist2)"
      ],
      "metadata": {
        "colab": {
          "base_uri": "https://localhost:8080/"
        },
        "id": "5Tu1H5mRG5_d",
        "outputId": "e06688c7-41b5-4520-8829-6d8e9eff19e8"
      },
      "execution_count": 62,
      "outputs": [
        {
          "output_type": "execute_result",
          "data": {
            "text/plain": [
              "<tf.Tensor: shape=(3, 4), dtype=float32, numpy=\n",
              "array([[ 4.1340966 ,  0.33201352,  0.51350915,  0.13104501],\n",
              "       [ 0.44492808,  1.1270847 ,  0.2974376 , -4.5655885 ],\n",
              "       [-0.32675245,  2.6564891 ,  1.247686  , -0.06343546]],\n",
              "      dtype=float32)>"
            ]
          },
          "metadata": {},
          "execution_count": 62
        }
      ]
    },
    {
      "cell_type": "code",
      "source": [
        "tf.equal(normal_dist1, normal_dist2)"
      ],
      "metadata": {
        "colab": {
          "base_uri": "https://localhost:8080/"
        },
        "id": "pqAiDXiTG9vT",
        "outputId": "eedab5c7-d7bc-4cec-a094-0cd28eef732b"
      },
      "execution_count": 63,
      "outputs": [
        {
          "output_type": "execute_result",
          "data": {
            "text/plain": [
              "<tf.Tensor: shape=(3, 4), dtype=bool, numpy=\n",
              "array([[False, False, False, False],\n",
              "       [False, False, False, False],\n",
              "       [False, False, False, False]])>"
            ]
          },
          "metadata": {},
          "execution_count": 63
        }
      ]
    },
    {
      "cell_type": "code",
      "source": [
        "import tensorflow as tf\n",
        "\n",
        "# Create a sample tensor\n",
        "tensor = tf.constant([[1, 3, 2], [4, 0, 5]], dtype=tf.float32)\n",
        "print(f'Original Tensor:\\n{tensor}')\n",
        "\n",
        "# Define the number of top elements to find\n",
        "K = 2\n",
        "\n",
        "# Find the top K elements and their indices along the last axis (default)\n",
        "top_k_values, top_k_indices = tf.nn.top_k(tensor, k=K)\n",
        "print(f'Top {K} values:\\n{top_k_values}')\n",
        "print(f'Indices of top {K} values:\\n{top_k_indices}')\n",
        "\n",
        "# Find the top K elements along axis 1 (rows)\n",
        "top_k_values_axis_1, top_k_indices_axis_1 = tf.nn.top_k(tensor, k=K, sorted=True)\n",
        "print(f'Top {K} values along axis 1:\\n{top_k_values_axis_1}')\n",
        "print(f'Indices of top {K} values along axis 1:\\n{top_k_indices_axis_1}')\n"
      ],
      "metadata": {
        "colab": {
          "base_uri": "https://localhost:8080/"
        },
        "id": "gueCpwBwHBiz",
        "outputId": "095f83f4-f391-4bf7-82da-8aaa5f81238c"
      },
      "execution_count": 64,
      "outputs": [
        {
          "output_type": "stream",
          "name": "stdout",
          "text": [
            "Original Tensor:\n",
            "[[1. 3. 2.]\n",
            " [4. 0. 5.]]\n",
            "Top 2 values:\n",
            "[[3. 2.]\n",
            " [5. 4.]]\n",
            "Indices of top 2 values:\n",
            "[[1 2]\n",
            " [2 0]]\n",
            "Top 2 values along axis 1:\n",
            "[[3. 2.]\n",
            " [5. 4.]]\n",
            "Indices of top 2 values along axis 1:\n",
            "[[1 2]\n",
            " [2 0]]\n"
          ]
        }
      ]
    },
    {
      "cell_type": "code",
      "source": [
        "tf.sigmoid(tensor)"
      ],
      "metadata": {
        "colab": {
          "base_uri": "https://localhost:8080/"
        },
        "id": "uKF8UFC1HPRb",
        "outputId": "4b1312e0-c4e6-47c4-da58-db3a332e4621"
      },
      "execution_count": 65,
      "outputs": [
        {
          "output_type": "execute_result",
          "data": {
            "text/plain": [
              "<tf.Tensor: shape=(2, 3), dtype=float32, numpy=\n",
              "array([[0.7310586 , 0.95257413, 0.8807971 ],\n",
              "       [0.98201376, 0.5       , 0.9933072 ]], dtype=float32)>"
            ]
          },
          "metadata": {},
          "execution_count": 65
        }
      ]
    },
    {
      "cell_type": "markdown",
      "source": [
        "**Matrix**"
      ],
      "metadata": {
        "id": "Z2IuKdziHVwa"
      }
    },
    {
      "cell_type": "code",
      "source": [
        "a = tf.constant([[1, 2, 3], [4, 5, 6]], dtype=tf.float32)\n",
        "b = tf.constant([[1, 2, 3], [4, 5, 6]], dtype=tf.float32)\n",
        "a.shape, tf.transpose(b).shape"
      ],
      "metadata": {
        "colab": {
          "base_uri": "https://localhost:8080/"
        },
        "id": "OOkGhuoLHYTM",
        "outputId": "d4c429f7-b058-41bd-9717-28cb5f1e29e1"
      },
      "execution_count": 74,
      "outputs": [
        {
          "output_type": "execute_result",
          "data": {
            "text/plain": [
              "(TensorShape([2, 3]), TensorShape([3, 2]))"
            ]
          },
          "metadata": {},
          "execution_count": 74
        }
      ]
    },
    {
      "cell_type": "code",
      "source": [
        "tf.matmul(a, tf.transpose(b))"
      ],
      "metadata": {
        "colab": {
          "base_uri": "https://localhost:8080/"
        },
        "id": "C1wxkyGoH7T8",
        "outputId": "a7e407ea-134c-4ec8-b645-74b6a8cfb35c"
      },
      "execution_count": 75,
      "outputs": [
        {
          "output_type": "execute_result",
          "data": {
            "text/plain": [
              "<tf.Tensor: shape=(2, 2), dtype=float32, numpy=\n",
              "array([[14., 32.],\n",
              "       [32., 77.]], dtype=float32)>"
            ]
          },
          "metadata": {},
          "execution_count": 75
        }
      ]
    },
    {
      "cell_type": "code",
      "source": [
        "a, tf.linalg.band_part(a, 0, 0)"
      ],
      "metadata": {
        "colab": {
          "base_uri": "https://localhost:8080/"
        },
        "id": "2OuoDahVIpv8",
        "outputId": "b5906cc5-167d-49d4-9666-d57c1c4e7227"
      },
      "execution_count": 84,
      "outputs": [
        {
          "output_type": "execute_result",
          "data": {
            "text/plain": [
              "(<tf.Tensor: shape=(2, 3), dtype=float32, numpy=\n",
              " array([[1., 2., 3.],\n",
              "        [4., 5., 6.]], dtype=float32)>,\n",
              " <tf.Tensor: shape=(2, 3), dtype=float32, numpy=\n",
              " array([[1., 0., 0.],\n",
              "        [0., 5., 0.]], dtype=float32)>)"
            ]
          },
          "metadata": {},
          "execution_count": 84
        }
      ]
    },
    {
      "cell_type": "code",
      "source": [
        "a, tf.linalg.band_part(a, 0, -1)"
      ],
      "metadata": {
        "colab": {
          "base_uri": "https://localhost:8080/"
        },
        "id": "rK-acyoWI9M8",
        "outputId": "93b3fcf9-a6f7-4954-f6bd-c6fbc8439b04"
      },
      "execution_count": 85,
      "outputs": [
        {
          "output_type": "execute_result",
          "data": {
            "text/plain": [
              "(<tf.Tensor: shape=(2, 3), dtype=float32, numpy=\n",
              " array([[1., 2., 3.],\n",
              "        [4., 5., 6.]], dtype=float32)>,\n",
              " <tf.Tensor: shape=(2, 3), dtype=float32, numpy=\n",
              " array([[1., 2., 3.],\n",
              "        [0., 5., 6.]], dtype=float32)>)"
            ]
          },
          "metadata": {},
          "execution_count": 85
        }
      ]
    },
    {
      "cell_type": "code",
      "source": [
        "a = tf.constant([[1, 2], [4, 5]], dtype=tf.float32)\n",
        "a, tf.linalg.det(a)"
      ],
      "metadata": {
        "colab": {
          "base_uri": "https://localhost:8080/"
        },
        "id": "T79vKS5CJELD",
        "outputId": "e5bab0fa-0f5b-460e-f97b-58b274ef0c9f"
      },
      "execution_count": 87,
      "outputs": [
        {
          "output_type": "execute_result",
          "data": {
            "text/plain": [
              "(<tf.Tensor: shape=(2, 2), dtype=float32, numpy=\n",
              " array([[1., 2.],\n",
              "        [4., 5.]], dtype=float32)>,\n",
              " <tf.Tensor: shape=(), dtype=float32, numpy=-3.0>)"
            ]
          },
          "metadata": {},
          "execution_count": 87
        }
      ]
    },
    {
      "cell_type": "code",
      "source": [
        "a = tf.constant([[1, 2], [4, 5]], dtype=tf.float32)\n",
        "a, tf.rank(a)"
      ],
      "metadata": {
        "colab": {
          "base_uri": "https://localhost:8080/"
        },
        "id": "e3WOM-MZJQoE",
        "outputId": "f3e1b21f-d4fe-4c88-b22a-16014bfb638c"
      },
      "execution_count": 89,
      "outputs": [
        {
          "output_type": "execute_result",
          "data": {
            "text/plain": [
              "(<tf.Tensor: shape=(2, 2), dtype=float32, numpy=\n",
              " array([[1., 2.],\n",
              "        [4., 5.]], dtype=float32)>,\n",
              " <tf.Tensor: shape=(), dtype=int32, numpy=2>)"
            ]
          },
          "metadata": {},
          "execution_count": 89
        }
      ]
    },
    {
      "cell_type": "code",
      "source": [
        "a = tf.constant([[1, 2], [4, 5]], dtype=tf.float32)\n",
        "a, tf.linalg.inv(a)"
      ],
      "metadata": {
        "colab": {
          "base_uri": "https://localhost:8080/"
        },
        "id": "WN4ZAhxdJTi8",
        "outputId": "aea00b8c-83e8-4a6d-e0b8-f5bcd04ffa46"
      },
      "execution_count": 90,
      "outputs": [
        {
          "output_type": "execute_result",
          "data": {
            "text/plain": [
              "(<tf.Tensor: shape=(2, 2), dtype=float32, numpy=\n",
              " array([[1., 2.],\n",
              "        [4., 5.]], dtype=float32)>,\n",
              " <tf.Tensor: shape=(2, 2), dtype=float32, numpy=\n",
              " array([[-1.6666667 ,  0.6666667 ],\n",
              "        [ 1.3333334 , -0.33333334]], dtype=float32)>)"
            ]
          },
          "metadata": {},
          "execution_count": 90
        }
      ]
    },
    {
      "cell_type": "code",
      "source": [
        "a = tf.constant([[1, 2, 3], [4, 5, 6]], dtype=tf.float32)\n",
        "b = tf.constant([[1, 2, 3], [4, 5, 6]], dtype=tf.float32)\n",
        "tf.linalg.einsum('ij,jk->ik', a, tf.transpose(b))"
      ],
      "metadata": {
        "colab": {
          "base_uri": "https://localhost:8080/"
        },
        "id": "dy-tzCwwJZ1z",
        "outputId": "82ba0c29-c4bc-4055-9607-8e4945871c0f"
      },
      "execution_count": 92,
      "outputs": [
        {
          "output_type": "execute_result",
          "data": {
            "text/plain": [
              "<tf.Tensor: shape=(2, 2), dtype=float32, numpy=\n",
              "array([[14., 32.],\n",
              "       [32., 77.]], dtype=float32)>"
            ]
          },
          "metadata": {},
          "execution_count": 92
        }
      ]
    },
    {
      "cell_type": "code",
      "source": [
        "tf.linalg.einsum('ij,jk->ij', a, tf.transpose(b))"
      ],
      "metadata": {
        "colab": {
          "base_uri": "https://localhost:8080/"
        },
        "id": "TSzDPm1TJzeM",
        "outputId": "a3cf276e-34ff-4d82-e626-389c23d3a41b"
      },
      "execution_count": 94,
      "outputs": [
        {
          "output_type": "execute_result",
          "data": {
            "text/plain": [
              "<tf.Tensor: shape=(2, 3), dtype=float32, numpy=\n",
              "array([[ 5., 14., 27.],\n",
              "       [20., 35., 54.]], dtype=float32)>"
            ]
          },
          "metadata": {},
          "execution_count": 94
        }
      ]
    },
    {
      "cell_type": "code",
      "source": [
        "tf.expand_dims(a, axis=0)"
      ],
      "metadata": {
        "colab": {
          "base_uri": "https://localhost:8080/"
        },
        "id": "XhwaEBG6IJwE",
        "outputId": "bccea5b5-9f9c-4684-b237-a1fe8708d5d8"
      },
      "execution_count": 76,
      "outputs": [
        {
          "output_type": "execute_result",
          "data": {
            "text/plain": [
              "<tf.Tensor: shape=(1, 2, 3), dtype=float32, numpy=\n",
              "array([[[1., 2., 3.],\n",
              "        [4., 5., 6.]]], dtype=float32)>"
            ]
          },
          "metadata": {},
          "execution_count": 76
        }
      ]
    },
    {
      "cell_type": "code",
      "source": [
        "tf.squeeze(tf.expand_dims(a, axis=0))"
      ],
      "metadata": {
        "colab": {
          "base_uri": "https://localhost:8080/"
        },
        "id": "3QStRadFINur",
        "outputId": "d3a102c5-6249-448d-9ff5-a228dfc4952a"
      },
      "execution_count": 81,
      "outputs": [
        {
          "output_type": "execute_result",
          "data": {
            "text/plain": [
              "<tf.Tensor: shape=(2, 3), dtype=float32, numpy=\n",
              "array([[1., 2., 3.],\n",
              "       [4., 5., 6.]], dtype=float32)>"
            ]
          },
          "metadata": {},
          "execution_count": 81
        }
      ]
    },
    {
      "cell_type": "code",
      "source": [
        "tf.reshape(a, shape=(3, 2))"
      ],
      "metadata": {
        "colab": {
          "base_uri": "https://localhost:8080/"
        },
        "id": "cHJy5LNWIfLs",
        "outputId": "8171c7c2-c4d8-4d92-b7d1-d7de9fc94d12"
      },
      "execution_count": 82,
      "outputs": [
        {
          "output_type": "execute_result",
          "data": {
            "text/plain": [
              "<tf.Tensor: shape=(3, 2), dtype=float32, numpy=\n",
              "array([[1., 2.],\n",
              "       [3., 4.],\n",
              "       [5., 6.]], dtype=float32)>"
            ]
          },
          "metadata": {},
          "execution_count": 82
        }
      ]
    },
    {
      "cell_type": "code",
      "source": [
        "# Create sample tensors\n",
        "tensor1 = tf.constant([[1, 2], [3, 4]], dtype=tf.float32)\n",
        "tensor2 = tf.constant([[5, 6], [7, 8]], dtype=tf.float32)\n",
        "\n",
        "# Concatenate tensors along the first axis (rows)\n",
        "concatenated_tensor = tf.concat([tensor1, tensor2], axis=0)\n",
        "concatenated_tensor1 = tf.concat([tensor1, tensor2], axis=1)\n",
        "print(f'Tensor 1:\\n{tensor1.numpy()}')\n",
        "print(f'Tensor 2:\\n{tensor2.numpy()}')\n",
        "print(f'Concatenated Tensor along axis 0 (rows):\\n{concatenated_tensor.numpy()}')\n",
        "print(f'Concatenated Tensor along axis 0 (rows):\\n{concatenated_tensor1.numpy()}')"
      ],
      "metadata": {
        "colab": {
          "base_uri": "https://localhost:8080/"
        },
        "id": "Kn4aamcR-0q9",
        "outputId": "ecd60ee1-9d3a-43eb-872b-d4baad2b0ba6"
      },
      "execution_count": 6,
      "outputs": [
        {
          "output_type": "stream",
          "name": "stdout",
          "text": [
            "Tensor 1:\n",
            "[[1. 2.]\n",
            " [3. 4.]]\n",
            "Tensor 2:\n",
            "[[5. 6.]\n",
            " [7. 8.]]\n",
            "Concatenated Tensor along axis 0 (rows):\n",
            "[[1. 2.]\n",
            " [3. 4.]\n",
            " [5. 6.]\n",
            " [7. 8.]]\n",
            "Concatenated Tensor along axis 0 (rows):\n",
            "[[1. 2. 5. 6.]\n",
            " [3. 4. 7. 8.]]\n"
          ]
        }
      ]
    },
    {
      "cell_type": "code",
      "source": [
        "import tensorflow as tf\n",
        "\n",
        "# Create sample tensors\n",
        "tensor1 = tf.constant([1, 2, 3], dtype=tf.float32)\n",
        "tensor2 = tf.constant([4, 5, 6], dtype=tf.float32)\n",
        "tensor3 = tf.constant([7, 8, 9], dtype=tf.float32)\n",
        "\n",
        "# Stack tensors along a new axis (default axis 0)\n",
        "stacked_tensor = tf.stack([tensor1, tensor2, tensor3])\n",
        "print(f'Tensor 1:\\n{tensor1.numpy()}')\n",
        "print(f'Tensor 2:\\n{tensor2.numpy()}')\n",
        "print(f'Tensor 3:\\n{tensor3.numpy()}')\n",
        "print(f'Stacked Tensor along axis 0:\\n{stacked_tensor.numpy()}')\n",
        "print(f'Stacked Tensor shape: {stacked_tensor.shape}')\n",
        "\n",
        "# Stack tensors along a new axis 1\n",
        "stacked_tensor_axis1 = tf.stack([tensor1, tensor2, tensor3], axis=1)\n",
        "print(f'Stacked Tensor along axis 1:\\n{stacked_tensor_axis1.numpy()}')\n",
        "print(f'Stacked Tensor shape: {stacked_tensor_axis1.shape}')\n"
      ],
      "metadata": {
        "colab": {
          "base_uri": "https://localhost:8080/"
        },
        "id": "NkPITfzw_GYL",
        "outputId": "fd222b7d-c802-45d9-e2aa-b17e1e39c0c2"
      },
      "execution_count": 8,
      "outputs": [
        {
          "output_type": "stream",
          "name": "stdout",
          "text": [
            "Tensor 1:\n",
            "[1. 2. 3.]\n",
            "Tensor 2:\n",
            "[4. 5. 6.]\n",
            "Tensor 3:\n",
            "[7. 8. 9.]\n",
            "Stacked Tensor along axis 0:\n",
            "[[1. 2. 3.]\n",
            " [4. 5. 6.]\n",
            " [7. 8. 9.]]\n",
            "Stacked Tensor shape: (3, 3)\n",
            "Stacked Tensor along axis 1:\n",
            "[[1. 4. 7.]\n",
            " [2. 5. 8.]\n",
            " [3. 6. 9.]]\n",
            "Stacked Tensor shape: (3, 3)\n"
          ]
        }
      ]
    },
    {
      "cell_type": "code",
      "source": [
        "import tensorflow as tf\n",
        "\n",
        "# Create a sample tensor\n",
        "tensor = tf.constant([[1, 2, 3], [4, 5, 6]], dtype=tf.float32)\n",
        "\n",
        "# Define padding\n",
        "# Each element in paddings is [pad_before, pad_after]\n",
        "paddings = [[1, 1], [2, 2]]\n",
        "\n",
        "# Pad the tensor\n",
        "padded_tensor = tf.pad(tensor, paddings)\n",
        "print(f'Original Tensor:\\n{tensor.numpy()}')\n",
        "print(f'Padded Tensor:\\n{padded_tensor.numpy()}')\n"
      ],
      "metadata": {
        "colab": {
          "base_uri": "https://localhost:8080/"
        },
        "id": "3otUX8vd_Uiu",
        "outputId": "b78b147f-1c8b-4cef-87c8-60069234efe5"
      },
      "execution_count": 9,
      "outputs": [
        {
          "output_type": "stream",
          "name": "stdout",
          "text": [
            "Original Tensor:\n",
            "[[1. 2. 3.]\n",
            " [4. 5. 6.]]\n",
            "Padded Tensor:\n",
            "[[0. 0. 0. 0. 0. 0. 0.]\n",
            " [0. 0. 1. 2. 3. 0. 0.]\n",
            " [0. 0. 4. 5. 6. 0. 0.]\n",
            " [0. 0. 0. 0. 0. 0. 0.]]\n"
          ]
        }
      ]
    },
    {
      "cell_type": "code",
      "source": [
        "import tensorflow as tf\n",
        "\n",
        "# Create a sample tensor\n",
        "tensor = tf.constant([[1, 2, 3], [4, 5, 6], [7, 8, 9]], dtype=tf.float32)\n",
        "\n",
        "# Define indices\n",
        "indices = [0, 2]\n",
        "\n",
        "# Gather slices from tensor along axis 0\n",
        "gathered_tensor = tf.gather(tensor, indices, axis=0)\n",
        "print(f'Original Tensor:\\n{tensor.numpy()}')\n",
        "print(f'Indices: {indices}')\n",
        "print(f'Gathered Tensor along axis 0:\\n{gathered_tensor.numpy()}')\n",
        "\n",
        "# Gather slices from tensor along axis 1\n",
        "gathered_tensor_axis1 = tf.gather(tensor, indices, axis=1)\n",
        "print(f'Gathered Tensor along axis 1:\\n{gathered_tensor_axis1.numpy()}')\n"
      ],
      "metadata": {
        "colab": {
          "base_uri": "https://localhost:8080/"
        },
        "id": "6PqD7o4B_dPE",
        "outputId": "9d5d7f24-020f-4cf9-cb7d-d5005aa1860f"
      },
      "execution_count": 10,
      "outputs": [
        {
          "output_type": "stream",
          "name": "stdout",
          "text": [
            "Original Tensor:\n",
            "[[1. 2. 3.]\n",
            " [4. 5. 6.]\n",
            " [7. 8. 9.]]\n",
            "Indices: [0, 2]\n",
            "Gathered Tensor along axis 0:\n",
            "[[1. 2. 3.]\n",
            " [7. 8. 9.]]\n",
            "Gathered Tensor along axis 1:\n",
            "[[1. 3.]\n",
            " [4. 6.]\n",
            " [7. 9.]]\n"
          ]
        }
      ]
    },
    {
      "cell_type": "code",
      "source": [
        "# Create a sample tensor\n",
        "tensor = tf.constant([[1, 2, 3], [4, 5, 6], [7, 8, 9]], dtype=tf.float32)\n",
        "\n",
        "# Gather specific elements (e.g., diagonal elements)\n",
        "gathered_elements = tf.gather_nd(tensor, [[0, 0], [1, 1], [2, 2]])\n",
        "print(f'Original Tensor:\\n{tensor.numpy()}')\n",
        "print(f'Gathered Elements:\\n{gathered_elements.numpy()}')\n"
      ],
      "metadata": {
        "colab": {
          "base_uri": "https://localhost:8080/"
        },
        "id": "cbq3mFWL_j5s",
        "outputId": "0690dc1a-3a26-4cd8-e12c-84c4d3ed87fd"
      },
      "execution_count": 12,
      "outputs": [
        {
          "output_type": "stream",
          "name": "stdout",
          "text": [
            "Original Tensor:\n",
            "[[1. 2. 3.]\n",
            " [4. 5. 6.]\n",
            " [7. 8. 9.]]\n",
            "Gathered Elements:\n",
            "[1. 5. 9.]\n"
          ]
        }
      ]
    },
    {
      "cell_type": "code",
      "source": [
        "# Create a ragged tensor representing variable-length sequences\n",
        "sequences = tf.ragged.constant([\n",
        "    [7, 8, 9],\n",
        "    [10, 11],\n",
        "    [12, 13, 14, 15],\n",
        "    [16]\n",
        "])\n",
        "print(f'Sequences:\\n{sequences}')\n"
      ],
      "metadata": {
        "colab": {
          "base_uri": "https://localhost:8080/"
        },
        "id": "_LD6QvXEOM5t",
        "outputId": "91dbf817-7790-4259-8ae7-655c3909aae8"
      },
      "execution_count": 13,
      "outputs": [
        {
          "output_type": "stream",
          "name": "stdout",
          "text": [
            "Sequences:\n",
            "<tf.RaggedTensor [[7, 8, 9], [10, 11], [12, 13, 14, 15], [16]]>\n"
          ]
        }
      ]
    },
    {
      "cell_type": "code",
      "source": [
        "# Define the indices of the non-zero elements\n",
        "indices = [[0, 0], [1, 2], [2, 3]]\n",
        "\n",
        "# Define the values at the specified indices\n",
        "values = [1, 2, 3]\n",
        "\n",
        "# Define the shape of the dense tensor\n",
        "dense_shape = [3, 4]\n",
        "\n",
        "# Create the sparse tensor\n",
        "sparse_tensor = tf.SparseTensor(indices=indices, values=values, dense_shape=dense_shape)\n",
        "print(f'Sparse Tensor:\\n{tf.sparse.to_dense(sparse_tensor)}')\n"
      ],
      "metadata": {
        "colab": {
          "base_uri": "https://localhost:8080/"
        },
        "id": "rJlw0qwGOZw9",
        "outputId": "f998b6dd-2da2-4184-ed81-949ea0b166e0"
      },
      "execution_count": 14,
      "outputs": [
        {
          "output_type": "stream",
          "name": "stdout",
          "text": [
            "Sparse Tensor:\n",
            "[[1 0 0 0]\n",
            " [0 0 2 0]\n",
            " [0 0 0 3]]\n"
          ]
        }
      ]
    },
    {
      "cell_type": "code",
      "source": [
        "import tensorflow as tf\n",
        "\n",
        "# Create a string tensor\n",
        "string_tensor = tf.constant([\"TensorFlow\", \"String\", \"Tensors\"])\n",
        "print(f'String Tensor: {string_tensor}')\n",
        "\n",
        "# Convert strings to lowercase\n",
        "lowercase_tensor = tf.strings.lower(string_tensor)\n",
        "print(f'Lowercase Tensor: {lowercase_tensor}')\n",
        "\n",
        "# Split strings on a delimiter (e.g., space)\n",
        "split_tensor = tf.strings.split([\"Hello World\", \"TensorFlow Strings\"])\n",
        "print(f'Split Tensor: {split_tensor}')\n",
        "\n",
        "# Join strings with a separator\n",
        "joined_tensor = tf.strings.join([\"Hello\", \"World\"], separator=\" \")\n",
        "print(f'Joined Tensor: {joined_tensor}')\n",
        "\n",
        "# Extract substrings\n",
        "substring_tensor = tf.strings.substr(string_tensor, pos=0, len=6)\n",
        "print(f'Substring Tensor: {substring_tensor}')\n"
      ],
      "metadata": {
        "colab": {
          "base_uri": "https://localhost:8080/"
        },
        "id": "_YLtKyBSOmPB",
        "outputId": "0ec756ca-02ab-4e18-c64a-70f14b381629"
      },
      "execution_count": 15,
      "outputs": [
        {
          "output_type": "stream",
          "name": "stdout",
          "text": [
            "String Tensor: [b'TensorFlow' b'String' b'Tensors']\n",
            "Lowercase Tensor: [b'tensorflow' b'string' b'tensors']\n",
            "Split Tensor: <tf.RaggedTensor [[b'Hello', b'World'],\n",
            " [b'TensorFlow', b'Strings']]>\n",
            "Joined Tensor: b'Hello World'\n",
            "Substring Tensor: [b'Tensor' b'String' b'Tensor']\n"
          ]
        }
      ]
    }
  ]
}